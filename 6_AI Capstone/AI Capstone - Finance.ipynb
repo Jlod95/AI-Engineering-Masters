{
 "cells": [
  {
   "cell_type": "markdown",
   "metadata": {},
   "source": [
    "# Project Task: Week 1\n",
    "\n",
    "## Exploratory Data Analysis (EDA):"
   ]
  },
  {
   "cell_type": "markdown",
   "metadata": {},
   "source": [
    "1.    Perform an EDA on the Dataset.<br>\n",
    "- [ ]    Check all the latent features and parameters with their __mean__ and __standard deviation__. Value are close to 0 centered              (mean) with unit standard deviation.<br>\n",
    "- [ ]    Find if there is any connection between __Time, Amount, and the transaction being fraudulent__.<br>"
   ]
  },
  {
   "cell_type": "code",
   "execution_count": 1,
   "metadata": {},
   "outputs": [],
   "source": [
    "# import dependencies\n",
    "import pandas as pd\n",
    "import numpy as np\n",
    "import matplotlib.pyplot as plt\n",
    "import seaborn as sns\n",
    "import imblearn\n",
    "import scikitplot as skplt\n",
    "import xgboost as xgb\n",
    "import tensorflow as tf\n",
    "import keras\n",
    "\n",
    "from ipywidgets import Button, Layout\n",
    "import warnings\n",
    "warnings.filterwarnings(\"ignore\")"
   ]
  },
  {
   "cell_type": "code",
   "execution_count": 2,
   "metadata": {},
   "outputs": [],
   "source": [
    "test_data_hidden = pd.read_csv(r\"C:/Users/jlod9/OneDrive/Desktop/AI__Projects/AI_Capstone/Financial/test_data_hidden.csv\")"
   ]
  },
  {
   "cell_type": "code",
   "execution_count": 3,
   "metadata": {},
   "outputs": [
    {
     "data": {
      "text/html": [
       "<div>\n",
       "<style scoped>\n",
       "    .dataframe tbody tr th:only-of-type {\n",
       "        vertical-align: middle;\n",
       "    }\n",
       "\n",
       "    .dataframe tbody tr th {\n",
       "        vertical-align: top;\n",
       "    }\n",
       "\n",
       "    .dataframe thead th {\n",
       "        text-align: right;\n",
       "    }\n",
       "</style>\n",
       "<table border=\"1\" class=\"dataframe\">\n",
       "  <thead>\n",
       "    <tr style=\"text-align: right;\">\n",
       "      <th></th>\n",
       "      <th>Time</th>\n",
       "      <th>V1</th>\n",
       "      <th>V2</th>\n",
       "      <th>V3</th>\n",
       "      <th>V4</th>\n",
       "      <th>V5</th>\n",
       "      <th>V6</th>\n",
       "      <th>V7</th>\n",
       "      <th>V8</th>\n",
       "      <th>V9</th>\n",
       "      <th>...</th>\n",
       "      <th>V21</th>\n",
       "      <th>V22</th>\n",
       "      <th>V23</th>\n",
       "      <th>V24</th>\n",
       "      <th>V25</th>\n",
       "      <th>V26</th>\n",
       "      <th>V27</th>\n",
       "      <th>V28</th>\n",
       "      <th>Amount</th>\n",
       "      <th>Class</th>\n",
       "    </tr>\n",
       "  </thead>\n",
       "  <tbody>\n",
       "    <tr>\n",
       "      <th>0</th>\n",
       "      <td>113050.0</td>\n",
       "      <td>0.114697</td>\n",
       "      <td>0.796303</td>\n",
       "      <td>-0.149553</td>\n",
       "      <td>-0.823011</td>\n",
       "      <td>0.878763</td>\n",
       "      <td>-0.553152</td>\n",
       "      <td>0.939259</td>\n",
       "      <td>-0.108502</td>\n",
       "      <td>0.111137</td>\n",
       "      <td>...</td>\n",
       "      <td>-0.335776</td>\n",
       "      <td>-0.807853</td>\n",
       "      <td>-0.055940</td>\n",
       "      <td>-1.025281</td>\n",
       "      <td>-0.369557</td>\n",
       "      <td>0.204653</td>\n",
       "      <td>0.242724</td>\n",
       "      <td>0.085713</td>\n",
       "      <td>0.89</td>\n",
       "      <td>0</td>\n",
       "    </tr>\n",
       "    <tr>\n",
       "      <th>1</th>\n",
       "      <td>26667.0</td>\n",
       "      <td>-0.039318</td>\n",
       "      <td>0.495784</td>\n",
       "      <td>-0.810884</td>\n",
       "      <td>0.546693</td>\n",
       "      <td>1.986257</td>\n",
       "      <td>4.386342</td>\n",
       "      <td>-1.344891</td>\n",
       "      <td>-1.743736</td>\n",
       "      <td>-0.563103</td>\n",
       "      <td>...</td>\n",
       "      <td>-1.377003</td>\n",
       "      <td>-0.072200</td>\n",
       "      <td>-0.197573</td>\n",
       "      <td>1.014807</td>\n",
       "      <td>1.011293</td>\n",
       "      <td>-0.167684</td>\n",
       "      <td>0.113136</td>\n",
       "      <td>0.256836</td>\n",
       "      <td>85.00</td>\n",
       "      <td>0</td>\n",
       "    </tr>\n",
       "    <tr>\n",
       "      <th>2</th>\n",
       "      <td>159519.0</td>\n",
       "      <td>2.275706</td>\n",
       "      <td>-1.531508</td>\n",
       "      <td>-1.021969</td>\n",
       "      <td>-1.602152</td>\n",
       "      <td>-1.220329</td>\n",
       "      <td>-0.462376</td>\n",
       "      <td>-1.196485</td>\n",
       "      <td>-0.147058</td>\n",
       "      <td>-0.950224</td>\n",
       "      <td>...</td>\n",
       "      <td>-0.193271</td>\n",
       "      <td>-0.103533</td>\n",
       "      <td>0.150945</td>\n",
       "      <td>-0.811083</td>\n",
       "      <td>-0.197913</td>\n",
       "      <td>-0.128446</td>\n",
       "      <td>0.014197</td>\n",
       "      <td>-0.051289</td>\n",
       "      <td>42.70</td>\n",
       "      <td>0</td>\n",
       "    </tr>\n",
       "    <tr>\n",
       "      <th>3</th>\n",
       "      <td>137545.0</td>\n",
       "      <td>1.940137</td>\n",
       "      <td>-0.357671</td>\n",
       "      <td>-1.210551</td>\n",
       "      <td>0.382523</td>\n",
       "      <td>0.050823</td>\n",
       "      <td>-0.171322</td>\n",
       "      <td>-0.109124</td>\n",
       "      <td>-0.002115</td>\n",
       "      <td>0.869258</td>\n",
       "      <td>...</td>\n",
       "      <td>0.157994</td>\n",
       "      <td>0.650355</td>\n",
       "      <td>0.034206</td>\n",
       "      <td>0.739535</td>\n",
       "      <td>0.223605</td>\n",
       "      <td>-0.195509</td>\n",
       "      <td>-0.012791</td>\n",
       "      <td>-0.056841</td>\n",
       "      <td>29.99</td>\n",
       "      <td>0</td>\n",
       "    </tr>\n",
       "    <tr>\n",
       "      <th>4</th>\n",
       "      <td>63369.0</td>\n",
       "      <td>1.081395</td>\n",
       "      <td>-0.502615</td>\n",
       "      <td>1.075887</td>\n",
       "      <td>-0.543359</td>\n",
       "      <td>-1.472946</td>\n",
       "      <td>-1.065484</td>\n",
       "      <td>-0.443231</td>\n",
       "      <td>-0.143374</td>\n",
       "      <td>1.659826</td>\n",
       "      <td>...</td>\n",
       "      <td>0.224157</td>\n",
       "      <td>0.821209</td>\n",
       "      <td>-0.137223</td>\n",
       "      <td>0.986259</td>\n",
       "      <td>0.563228</td>\n",
       "      <td>-0.574206</td>\n",
       "      <td>0.089673</td>\n",
       "      <td>0.052036</td>\n",
       "      <td>68.00</td>\n",
       "      <td>0</td>\n",
       "    </tr>\n",
       "  </tbody>\n",
       "</table>\n",
       "<p>5 rows × 31 columns</p>\n",
       "</div>"
      ],
      "text/plain": [
       "       Time        V1        V2        V3        V4        V5        V6  \\\n",
       "0  113050.0  0.114697  0.796303 -0.149553 -0.823011  0.878763 -0.553152   \n",
       "1   26667.0 -0.039318  0.495784 -0.810884  0.546693  1.986257  4.386342   \n",
       "2  159519.0  2.275706 -1.531508 -1.021969 -1.602152 -1.220329 -0.462376   \n",
       "3  137545.0  1.940137 -0.357671 -1.210551  0.382523  0.050823 -0.171322   \n",
       "4   63369.0  1.081395 -0.502615  1.075887 -0.543359 -1.472946 -1.065484   \n",
       "\n",
       "         V7        V8        V9  ...       V21       V22       V23       V24  \\\n",
       "0  0.939259 -0.108502  0.111137  ... -0.335776 -0.807853 -0.055940 -1.025281   \n",
       "1 -1.344891 -1.743736 -0.563103  ... -1.377003 -0.072200 -0.197573  1.014807   \n",
       "2 -1.196485 -0.147058 -0.950224  ... -0.193271 -0.103533  0.150945 -0.811083   \n",
       "3 -0.109124 -0.002115  0.869258  ...  0.157994  0.650355  0.034206  0.739535   \n",
       "4 -0.443231 -0.143374  1.659826  ...  0.224157  0.821209 -0.137223  0.986259   \n",
       "\n",
       "        V25       V26       V27       V28  Amount  Class  \n",
       "0 -0.369557  0.204653  0.242724  0.085713    0.89      0  \n",
       "1  1.011293 -0.167684  0.113136  0.256836   85.00      0  \n",
       "2 -0.197913 -0.128446  0.014197 -0.051289   42.70      0  \n",
       "3  0.223605 -0.195509 -0.012791 -0.056841   29.99      0  \n",
       "4  0.563228 -0.574206  0.089673  0.052036   68.00      0  \n",
       "\n",
       "[5 rows x 31 columns]"
      ]
     },
     "execution_count": 3,
     "metadata": {},
     "output_type": "execute_result"
    }
   ],
   "source": [
    "test_data_hidden.head()"
   ]
  },
  {
   "cell_type": "code",
   "execution_count": 4,
   "metadata": {},
   "outputs": [
    {
     "data": {
      "text/plain": [
       "(56962, 31)"
      ]
     },
     "execution_count": 4,
     "metadata": {},
     "output_type": "execute_result"
    }
   ],
   "source": [
    "test_data_hidden.shape"
   ]
  },
  {
   "cell_type": "code",
   "execution_count": 5,
   "metadata": {
    "scrolled": true
   },
   "outputs": [
    {
     "name": "stdout",
     "output_type": "stream",
     "text": [
      "<class 'pandas.core.frame.DataFrame'>\n",
      "RangeIndex: 56962 entries, 0 to 56961\n",
      "Data columns (total 31 columns):\n",
      " #   Column  Non-Null Count  Dtype  \n",
      "---  ------  --------------  -----  \n",
      " 0   Time    56962 non-null  float64\n",
      " 1   V1      56962 non-null  float64\n",
      " 2   V2      56962 non-null  float64\n",
      " 3   V3      56962 non-null  float64\n",
      " 4   V4      56962 non-null  float64\n",
      " 5   V5      56962 non-null  float64\n",
      " 6   V6      56962 non-null  float64\n",
      " 7   V7      56962 non-null  float64\n",
      " 8   V8      56962 non-null  float64\n",
      " 9   V9      56962 non-null  float64\n",
      " 10  V10     56962 non-null  float64\n",
      " 11  V11     56962 non-null  float64\n",
      " 12  V12     56962 non-null  float64\n",
      " 13  V13     56962 non-null  float64\n",
      " 14  V14     56962 non-null  float64\n",
      " 15  V15     56962 non-null  float64\n",
      " 16  V16     56962 non-null  float64\n",
      " 17  V17     56962 non-null  float64\n",
      " 18  V18     56962 non-null  float64\n",
      " 19  V19     56962 non-null  float64\n",
      " 20  V20     56962 non-null  float64\n",
      " 21  V21     56962 non-null  float64\n",
      " 22  V22     56962 non-null  float64\n",
      " 23  V23     56962 non-null  float64\n",
      " 24  V24     56962 non-null  float64\n",
      " 25  V25     56962 non-null  float64\n",
      " 26  V26     56962 non-null  float64\n",
      " 27  V27     56962 non-null  float64\n",
      " 28  V28     56962 non-null  float64\n",
      " 29  Amount  56962 non-null  float64\n",
      " 30  Class   56962 non-null  int64  \n",
      "dtypes: float64(30), int64(1)\n",
      "memory usage: 13.5 MB\n"
     ]
    }
   ],
   "source": [
    "test_data_hidden.info()"
   ]
  },
  {
   "cell_type": "code",
   "execution_count": 6,
   "metadata": {},
   "outputs": [
    {
     "data": {
      "text/plain": [
       "Time      95057.882360\n",
       "V1            0.013286\n",
       "V2            0.006610\n",
       "V3           -0.004263\n",
       "V4            0.001496\n",
       "V5           -0.003508\n",
       "V6           -0.003079\n",
       "V7            0.000141\n",
       "V8           -0.006501\n",
       "V9            0.001564\n",
       "V10           0.003176\n",
       "V11          -0.008330\n",
       "V12          -0.000041\n",
       "V13          -0.000320\n",
       "V14          -0.003711\n",
       "V15           0.002949\n",
       "V16          -0.001734\n",
       "V17           0.000030\n",
       "V18           0.003325\n",
       "V19           0.000766\n",
       "V20          -0.002685\n",
       "V21          -0.002253\n",
       "V22          -0.004938\n",
       "V23           0.004008\n",
       "V24          -0.001017\n",
       "V25          -0.000872\n",
       "V26           0.004513\n",
       "V27           0.001385\n",
       "V28          -0.001990\n",
       "Amount       87.658797\n",
       "Class         0.001720\n",
       "dtype: float64"
      ]
     },
     "execution_count": 6,
     "metadata": {},
     "output_type": "execute_result"
    }
   ],
   "source": [
    "test_data_hidden.mean()"
   ]
  },
  {
   "cell_type": "code",
   "execution_count": 7,
   "metadata": {},
   "outputs": [
    {
     "data": {
      "text/plain": [
       "Time      47438.688395\n",
       "V1            1.941231\n",
       "V2            1.611224\n",
       "V3            1.516853\n",
       "V4            1.419107\n",
       "V5            1.431731\n",
       "V6            1.359647\n",
       "V7            1.301800\n",
       "V8            1.201138\n",
       "V9            1.103688\n",
       "V10           1.095156\n",
       "V11           1.015901\n",
       "V12           0.997691\n",
       "V13           0.994583\n",
       "V14           0.954667\n",
       "V15           0.912533\n",
       "V16           0.878088\n",
       "V17           0.841764\n",
       "V18           0.836135\n",
       "V19           0.819729\n",
       "V20           0.764450\n",
       "V21           0.735871\n",
       "V22           0.730301\n",
       "V23           0.621623\n",
       "V24           0.604191\n",
       "V25           0.521003\n",
       "V26           0.481857\n",
       "V27           0.416750\n",
       "V28           0.325640\n",
       "Amount      258.042879\n",
       "Class         0.041443\n",
       "dtype: float64"
      ]
     },
     "execution_count": 7,
     "metadata": {},
     "output_type": "execute_result"
    }
   ],
   "source": [
    "test_data_hidden.std()"
   ]
  },
  {
   "cell_type": "markdown",
   "metadata": {},
   "source": [
    "__Time and Amount are the only columns that we need to standardize__"
   ]
  },
  {
   "cell_type": "code",
   "execution_count": 8,
   "metadata": {},
   "outputs": [],
   "source": [
    "train_data = pd.read_csv(r\"C:/Users/jlod9/OneDrive/Desktop/AI__Projects/AI_Capstone/Financial/train_data.csv\")"
   ]
  },
  {
   "cell_type": "code",
   "execution_count": 9,
   "metadata": {},
   "outputs": [],
   "source": [
    "from sklearn.preprocessing import StandardScaler\n",
    "scaler = StandardScaler()\n",
    "train_data['std_amount'] = scaler.fit_transform(train_data['Amount'].values.reshape(-1, 1))\n",
    "test_data_hidden['std_amount'] = scaler.transform(test_data_hidden['Amount'].values.reshape(-1, 1))\n",
    "\n",
    "train_data['std_time'] = scaler.fit_transform(train_data['Time'].values.reshape(-1, 1))\n",
    "test_data_hidden['std_time'] = scaler.transform(test_data_hidden['Time'].values.reshape(-1, 1))\n"
   ]
  },
  {
   "cell_type": "code",
   "execution_count": 10,
   "metadata": {},
   "outputs": [],
   "source": [
    "train_data = train_data.drop(columns=['Amount', 'Time'])\n",
    "test_data_hidden = test_data_hidden.drop(columns=['Amount', 'Time'])"
   ]
  },
  {
   "cell_type": "markdown",
   "metadata": {},
   "source": [
    "- [x] Check all the latent features and parameters with their mean and standard deviation. Value are close to 0 centered (mean) with unit standard deviation."
   ]
  },
  {
   "cell_type": "code",
   "execution_count": 11,
   "metadata": {
    "scrolled": true
   },
   "outputs": [
    {
     "data": {
      "text/html": [
       "<div>\n",
       "<style scoped>\n",
       "    .dataframe tbody tr th:only-of-type {\n",
       "        vertical-align: middle;\n",
       "    }\n",
       "\n",
       "    .dataframe tbody tr th {\n",
       "        vertical-align: top;\n",
       "    }\n",
       "\n",
       "    .dataframe thead th {\n",
       "        text-align: right;\n",
       "    }\n",
       "</style>\n",
       "<table border=\"1\" class=\"dataframe\">\n",
       "  <thead>\n",
       "    <tr style=\"text-align: right;\">\n",
       "      <th></th>\n",
       "      <th>std_amount</th>\n",
       "      <th>std_time</th>\n",
       "      <th>Class</th>\n",
       "    </tr>\n",
       "  </thead>\n",
       "  <tbody>\n",
       "    <tr>\n",
       "      <th>std_amount</th>\n",
       "      <td>1.000000</td>\n",
       "      <td>-0.007768</td>\n",
       "      <td>0.002263</td>\n",
       "    </tr>\n",
       "    <tr>\n",
       "      <th>std_time</th>\n",
       "      <td>-0.007768</td>\n",
       "      <td>1.000000</td>\n",
       "      <td>-0.010405</td>\n",
       "    </tr>\n",
       "    <tr>\n",
       "      <th>Class</th>\n",
       "      <td>0.002263</td>\n",
       "      <td>-0.010405</td>\n",
       "      <td>1.000000</td>\n",
       "    </tr>\n",
       "  </tbody>\n",
       "</table>\n",
       "</div>"
      ],
      "text/plain": [
       "            std_amount  std_time     Class\n",
       "std_amount    1.000000 -0.007768  0.002263\n",
       "std_time     -0.007768  1.000000 -0.010405\n",
       "Class         0.002263 -0.010405  1.000000"
      ]
     },
     "execution_count": 11,
     "metadata": {},
     "output_type": "execute_result"
    }
   ],
   "source": [
    "corr = test_data_hidden[['std_amount', 'std_time', 'Class']].corr()\n",
    "corr"
   ]
  },
  {
   "cell_type": "code",
   "execution_count": 12,
   "metadata": {
    "scrolled": true
   },
   "outputs": [
    {
     "data": {
      "text/plain": [
       "<AxesSubplot:>"
      ]
     },
     "execution_count": 12,
     "metadata": {},
     "output_type": "execute_result"
    },
    {
     "data": {
      "image/png": "[encoded data removed]",
      "text/plain": [
       "<Figure size 216x216 with 2 Axes>"
      ]
     },
     "metadata": {
      "needs_background": "light"
     },
     "output_type": "display_data"
    }
   ],
   "source": [
    "fig, ax = plt.subplots(figsize=(3, 3))\n",
    "\n",
    "sns.heatmap(corr, xticklabels=corr.columns, yticklabels=corr.columns,\n",
    "            linewidths=.1, cmap=\"RdBu\", ax=ax)"
   ]
  },
  {
   "cell_type": "markdown",
   "metadata": {},
   "source": [
    "<div class=\"alert alert-block alert-success\">\n",
    "<b>No apparent strong correlation, maybe due in part to being unbalanced. We will look at this in the next part.</b> \n",
    "</div>"
   ]
  },
  {
   "cell_type": "markdown",
   "metadata": {},
   "source": [
    "- [x] Find if there is any connection between Time, Amount, and the transaction being fraudulent."
   ]
  },
  {
   "cell_type": "markdown",
   "metadata": {},
   "source": [
    "- [ ] 2 Check the class count for each class. It’s a class Imbalance problem."
   ]
  },
  {
   "cell_type": "code",
   "execution_count": 13,
   "metadata": {},
   "outputs": [],
   "source": [
    "# set X_train, X_test, y_train, y_test\n",
    "X_train = train_data.drop(columns='Class')\n",
    "X_test = test_data_hidden.drop(columns='Class')\n",
    "y_train = train_data['Class']\n",
    "y_test = test_data_hidden['Class']"
   ]
  },
  {
   "cell_type": "code",
   "execution_count": 14,
   "metadata": {},
   "outputs": [
    {
     "name": "stdout",
     "output_type": "stream",
     "text": [
      "(227845, 30) (56962, 30) (227845,) (56962,)\n"
     ]
    }
   ],
   "source": [
    "print(X_train.shape,X_test.shape, y_train.shape, y_test.shape)"
   ]
  },
  {
   "cell_type": "code",
   "execution_count": 15,
   "metadata": {
    "scrolled": true
   },
   "outputs": [
    {
     "data": {
      "image/png": "[encoded data removed]",
      "text/plain": [
       "<Figure size 504x288 with 1 Axes>"
      ]
     },
     "metadata": {
      "needs_background": "light"
     },
     "output_type": "display_data"
    }
   ],
   "source": [
    "fig, ax = plt.subplots(figsize=(7, 4))\n",
    "ax = sns.countplot(y_train)\n",
    "plt.tight_layout()"
   ]
  },
  {
   "cell_type": "code",
   "execution_count": 16,
   "metadata": {
    "scrolled": true
   },
   "outputs": [
    {
     "name": "stdout",
     "output_type": "stream",
     "text": [
      "0    227451\n",
      "1       394\n",
      "Name: Class, dtype: int64\n"
     ]
    }
   ],
   "source": [
    "print(pd.Series(train_data['Class']).value_counts())"
   ]
  },
  {
   "cell_type": "markdown",
   "metadata": {},
   "source": [
    "<div class=\"alert alert-block alert-success\">\n",
    "<b>It's cleary very imbalanced.</b> \n",
    "</div>"
   ]
  },
  {
   "cell_type": "markdown",
   "metadata": {},
   "source": [
    "- [x] 2 Check the class count for each class. It’s a class Imbalance problem."
   ]
  },
  {
   "cell_type": "markdown",
   "metadata": {},
   "source": [
    "- [ ] 3 Use techniques like undersampling or oversampling before running Naïve Bayes, Logistic Regression or SVM. <br>a.    Oversampling or undersampling can be used to tackle the class imbalance problem<br>b.    Oversampling increases the prior probability of imbalanced class and in case of other classifiers, error gets multiplied as the low-proportionate class is mimicked multiple times."
   ]
  },
  {
   "cell_type": "code",
   "execution_count": 17,
   "metadata": {},
   "outputs": [],
   "source": [
    "from imblearn.under_sampling import RandomUnderSampler"
   ]
  },
  {
   "cell_type": "code",
   "execution_count": 18,
   "metadata": {},
   "outputs": [
    {
     "name": "stdout",
     "output_type": "stream",
     "text": [
      "0    394\n",
      "1    394\n",
      "Name: Class, dtype: int64\n"
     ]
    },
    {
     "data": {
      "image/png": "[encoded data removed]",
      "text/plain": [
       "<Figure size 360x360 with 1 Axes>"
      ]
     },
     "metadata": {
      "needs_background": "light"
     },
     "output_type": "display_data"
    }
   ],
   "source": [
    "rus = RandomUnderSampler()\n",
    "X_rus, y_rus = rus.fit_resample(X_train, y_train)\n",
    "\n",
    "# check the balanced data\n",
    "print(pd.Series(y_rus).value_counts())\n",
    "\n",
    "# plot the new distribution\n",
    "fig, ax = plt.subplots(figsize=(5, 5))\n",
    "ax = sns.countplot(y_rus)\n",
    "plt.tight_layout()"
   ]
  },
  {
   "cell_type": "code",
   "execution_count": 19,
   "metadata": {
    "scrolled": true
   },
   "outputs": [],
   "source": [
    "# Naïve Bayes using RandomUnderSampler\n",
    "from sklearn.naive_bayes import GaussianNB\n",
    "gnb = GaussianNB()\n",
    "model_gnb = gnb.fit(X_rus, y_rus)\n",
    "y_pred_gnb = model_gnb.predict(X_test)"
   ]
  },
  {
   "cell_type": "code",
   "execution_count": 20,
   "metadata": {},
   "outputs": [],
   "source": [
    "# Logistic Regression using RandomUnderSampler\n",
    "from sklearn.linear_model import LogisticRegression\n",
    "model_log = LogisticRegression()\n",
    "model_log.fit(X_rus, y_rus)\n",
    "y_pred_log = model_log.predict(X_test)"
   ]
  },
  {
   "cell_type": "code",
   "execution_count": 21,
   "metadata": {},
   "outputs": [],
   "source": [
    "# SVM model using RandomUnderSampler\n",
    "from sklearn import svm\n",
    "model_svm = svm.SVC()\n",
    "model_svm.fit(X_rus, y_rus)\n",
    "y_pred_svm = model_svm.predict(X_test)"
   ]
  },
  {
   "cell_type": "markdown",
   "metadata": {},
   "source": [
    "- [x] 3 Use techniques like undersampling or oversampling before running Naïve Bayes, Logistic Regression or SVM."
   ]
  },
  {
   "cell_type": "markdown",
   "metadata": {},
   "source": [
    "- [ ] 4 Following are the matrices for evaluating the model performance: Precision, Recall, F1-Score, AUC-ROC curve.<br> Use F1-Score as the evaluation criteria for this project."
   ]
  },
  {
   "cell_type": "code",
   "execution_count": 22,
   "metadata": {},
   "outputs": [],
   "source": [
    "from sklearn.metrics import f1_score, precision_score, recall_score, classification_report, roc_auc_score"
   ]
  },
  {
   "cell_type": "markdown",
   "metadata": {},
   "source": [
    "### Naïve Bayes matrix"
   ]
  },
  {
   "cell_type": "code",
   "execution_count": 23,
   "metadata": {},
   "outputs": [
    {
     "name": "stdout",
     "output_type": "stream",
     "text": [
      "Precision: 0.03756298671552909\n",
      "Recall: 0.8367346938775511\n",
      "F1-Score: 0.07189829022358614\n",
      "We summarize this in the Classification report below\n",
      "              precision    recall  f1-score   support\n",
      "\n",
      "           0       1.00      0.96      0.98     56864\n",
      "           1       0.04      0.84      0.07        98\n",
      "\n",
      "    accuracy                           0.96     56962\n",
      "   macro avg       0.52      0.90      0.53     56962\n",
      "weighted avg       1.00      0.96      0.98     56962\n",
      "\n",
      "Area Under the Receiver Operating Characteristics: 0.90\n",
      "\n"
     ]
    }
   ],
   "source": [
    "# Precision\n",
    "print(\"Precision:\",precision_score(y_test, y_pred_gnb))\n",
    "\n",
    "# Recall\n",
    "print(\"Recall:\",recall_score(y_test, y_pred_gnb))\n",
    "\n",
    "# F1_Score\n",
    "print(\"F1-Score:\",f1_score(y_test, y_pred_gnb))\n",
    "\n",
    "\n",
    "# classification report\n",
    "print(\"We summarize this in the Classification report below\")\n",
    "print(classification_report(y_test, y_pred_gnb))\n",
    "\n",
    "# ROC AUC score\n",
    "print(\"Area Under the Receiver Operating Characteristics: {:.2f}\\n\".format(roc_auc_score(y_test, y_pred_gnb)))"
   ]
  },
  {
   "cell_type": "markdown",
   "metadata": {},
   "source": [
    "### Logistic Regression Model"
   ]
  },
  {
   "cell_type": "code",
   "execution_count": 24,
   "metadata": {},
   "outputs": [
    {
     "name": "stdout",
     "output_type": "stream",
     "text": [
      "Precision: 0.04365482233502538\n",
      "Recall: 0.8775510204081632\n",
      "F1-Score: 0.08317214700193423\n",
      "We summarize this in the Classification report below\n",
      "              precision    recall  f1-score   support\n",
      "\n",
      "           0       1.00      0.97      0.98     56864\n",
      "           1       0.04      0.88      0.08        98\n",
      "\n",
      "    accuracy                           0.97     56962\n",
      "   macro avg       0.52      0.92      0.53     56962\n",
      "weighted avg       1.00      0.97      0.98     56962\n",
      "\n",
      "Area Under the Receiver Operating Characteristics: 0.92\n",
      "\n"
     ]
    }
   ],
   "source": [
    "# Precision\n",
    "print(\"Precision:\",precision_score(y_test, y_pred_log))\n",
    "\n",
    "# Recall\n",
    "print(\"Recall:\",recall_score(y_test, y_pred_log))\n",
    "\n",
    "# F1_Score\n",
    "print(\"F1-Score:\",f1_score(y_test, y_pred_log))\n",
    "\n",
    "# classification report\n",
    "print(\"We summarize this in the Classification report below\")\n",
    "print(classification_report(y_test, y_pred_log))\n",
    "\n",
    "# ROC AUC score\n",
    "print(\"Area Under the Receiver Operating Characteristics: {:.2f}\\n\".format(roc_auc_score(y_test, y_pred_log)))\n"
   ]
  },
  {
   "cell_type": "markdown",
   "metadata": {},
   "source": [
    "### SVM model"
   ]
  },
  {
   "cell_type": "code",
   "execution_count": 25,
   "metadata": {},
   "outputs": [
    {
     "name": "stdout",
     "output_type": "stream",
     "text": [
      "Precision: 0.09259259259259259\n",
      "Recall: 0.8673469387755102\n",
      "F1-Score: 0.1673228346456693\n",
      "We summarize this in the Classification report below\n",
      "              precision    recall  f1-score   support\n",
      "\n",
      "           0       1.00      0.99      0.99     56864\n",
      "           1       0.09      0.87      0.17        98\n",
      "\n",
      "    accuracy                           0.99     56962\n",
      "   macro avg       0.55      0.93      0.58     56962\n",
      "weighted avg       1.00      0.99      0.99     56962\n",
      "\n",
      "Area Under the Receiver Operating Characteristics: 0.93\n",
      "\n"
     ]
    }
   ],
   "source": [
    "# Precision\n",
    "print(\"Precision:\",precision_score(y_test, y_pred_svm))\n",
    "\n",
    "# Recall\n",
    "print(\"Recall:\",recall_score(y_test, y_pred_svm))\n",
    "\n",
    "# F1_Score\n",
    "print(\"F1-Score:\",f1_score(y_test, y_pred_svm))\n",
    "\n",
    "# classification report\n",
    "print(\"We summarize this in the Classification report below\")\n",
    "print(classification_report(y_test, y_pred_svm))\n",
    "\n",
    "# ROC AUC score\n",
    "print(\"Area Under the Receiver Operating Characteristics: {:.2f}\\n\".format(roc_auc_score(y_test, y_pred_svm)))"
   ]
  },
  {
   "cell_type": "markdown",
   "metadata": {},
   "source": [
    "<div class=\"alert alert-block alert-success\">\n",
    "<b>Although all 3 have a very low F1 score, the high AUC score means we can find the threshold for which its score is decent. This is not uncommon for imbalanced datasets as we have in this case.</b> \n",
    "</div>"
   ]
  },
  {
   "cell_type": "markdown",
   "metadata": {},
   "source": [
    "- [x] 4 Use F1-Score as the evaluation criteria for this project."
   ]
  },
  {
   "cell_type": "markdown",
   "metadata": {},
   "source": [
    "## Project Task: Week 2\n",
    "Modeling Techniques:\n",
    "- [ ] 1 Try out models like Naive Bayes, Logistic Regression or SVM. Find out which one performs the best.\n",
    "- [ ] 2   Use different Tree-based classifiers like Random Forest and XGBoost. <br>\n",
    "    a. Remember Tree-based classifiers work on two ideologies: Bagging or Boosting<br>\n",
    "    b. Tree-based classifiers have fine-tuning parameters which takes care of the imbalanced class. Random-Forest and                  XGBboost.<br>\n",
    "- [ ] Compare the results of 1 with 2 and check if there is any incremental gain."
   ]
  },
  {
   "cell_type": "markdown",
   "metadata": {},
   "source": [
    "<div class=\"alert alert-block alert-info\">\n",
    "<b>Naive Bayes, Logistic Regression and SVM have been modeled above</b>\n",
    "</div>"
   ]
  },
  {
   "cell_type": "code",
   "execution_count": 26,
   "metadata": {},
   "outputs": [
    {
     "name": "stdout",
     "output_type": "stream",
     "text": [
      "Based on F1-Score, we can say that Naive Bayes performs the best of the 3 models\n"
     ]
    }
   ],
   "source": [
    "print(\"Based on F1-Score, we can say that Naive Bayes performs the best of the 3 models\")"
   ]
  },
  {
   "cell_type": "markdown",
   "metadata": {},
   "source": [
    "- [x] 1 Try out models like Naive Bayes, Logistic Regression or SVM. Find out which one performs the best."
   ]
  },
  {
   "cell_type": "markdown",
   "metadata": {},
   "source": [
    "### Random Forest"
   ]
  },
  {
   "cell_type": "code",
   "execution_count": 27,
   "metadata": {},
   "outputs": [
    {
     "name": "stdout",
     "output_type": "stream",
     "text": [
      "F1-Score: 0.6503067484662577\n"
     ]
    }
   ],
   "source": [
    "# Do model for Random Forest \n",
    "from sklearn.ensemble import RandomForestClassifier\n",
    "model_rf = RandomForestClassifier(max_depth=2, random_state=0)\n",
    "model_rf.fit(X_train, y_train)\n",
    "y_pred_rf = model_rf.predict(X_test)\n",
    "\n",
    "# F1-Score\n",
    "print(\"F1-Score:\",f1_score(y_test, y_pred_rf))"
   ]
  },
  {
   "cell_type": "markdown",
   "metadata": {},
   "source": [
    "### XGBoost"
   ]
  },
  {
   "cell_type": "code",
   "execution_count": 28,
   "metadata": {},
   "outputs": [
    {
     "name": "stdout",
     "output_type": "stream",
     "text": [
      "[19:22:17] WARNING: C:/Users/Administrator/workspace/xgboost-win64_release_1.5.1/src/objective/regression_obj.cu:188: reg:linear is now deprecated in favor of reg:squarederror.\n",
      "F1-Score: 0.6951219512195121\n"
     ]
    }
   ],
   "source": [
    "xg_class = xgb.XGBClassifier(objective ='reg:linear', colsample_bytree = 0.3, learning_rate = 0.1, \n",
    "                             max_depth = 5, alpha = 10, n_estimators = 10)\n",
    "xg_class.fit(X_train,y_train)\n",
    "y_pred_xgb = xg_class.predict(X_test)\n",
    "\n",
    "# XGBoost F1-Score\n",
    "print(\"F1-Score:\",f1_score(y_test, y_pred_xgb))"
   ]
  },
  {
   "cell_type": "markdown",
   "metadata": {},
   "source": [
    "- [x] 2 Use different Tree-based classifiers like Random Forest and XGBoost."
   ]
  },
  {
   "cell_type": "markdown",
   "metadata": {},
   "source": [
    "<div class=\"alert alert-block alert-info\">\n",
    "<b>The last thing we need to do is compare the earlier model with the tree-based models. <br>\n",
    "    Lets choose Naive Bayes and XGBoost because they both have the best F1-Score of their group</b>\n",
    "</div>"
   ]
  },
  {
   "cell_type": "markdown",
   "metadata": {},
   "source": [
    "### Naive Bayes incremental gains"
   ]
  },
  {
   "cell_type": "code",
   "execution_count": 29,
   "metadata": {},
   "outputs": [
    {
     "data": {
      "text/plain": [
       "<Figure size 504x504 with 0 Axes>"
      ]
     },
     "metadata": {},
     "output_type": "display_data"
    },
    {
     "data": {
      "image/png": "[encoded data removed]",
      "text/plain": [
       "<Figure size 432x288 with 1 Axes>"
      ]
     },
     "metadata": {
      "needs_background": "light"
     },
     "output_type": "display_data"
    }
   ],
   "source": [
    "# cumulative gains chart\n",
    "predicted_probas_gnb = model_gnb.predict_proba(X_test)\n",
    "plt.figure(figsize=(7,7))\n",
    "skplt.metrics.plot_cumulative_gain(y_test, predicted_probas_gnb)\n",
    "plt.show()"
   ]
  },
  {
   "cell_type": "markdown",
   "metadata": {},
   "source": [
    "### XGBoost incremental gains"
   ]
  },
  {
   "cell_type": "code",
   "execution_count": 30,
   "metadata": {},
   "outputs": [
    {
     "data": {
      "text/plain": [
       "<Figure size 504x504 with 0 Axes>"
      ]
     },
     "metadata": {},
     "output_type": "display_data"
    },
    {
     "data": {
      "image/png": "[encoded data removed]",
      "text/plain": [
       "<Figure size 432x288 with 1 Axes>"
      ]
     },
     "metadata": {
      "needs_background": "light"
     },
     "output_type": "display_data"
    }
   ],
   "source": [
    "# cumulative gains chart\n",
    "predicted_probas_xg = xg_class.predict_proba(X_test)\n",
    "plt.figure(figsize=(7,7))\n",
    "skplt.metrics.plot_cumulative_gain(y_test, predicted_probas_xg)\n",
    "plt.show()"
   ]
  },
  {
   "cell_type": "code",
   "execution_count": 31,
   "metadata": {},
   "outputs": [
    {
     "name": "stdout",
     "output_type": "stream",
     "text": [
      "Naive Bayes has a F1-Score of 0.07189829022358614\n",
      "Logistic Regression has a F1-Score of 0.08317214700193423\n",
      "SVM has a F1-Score of 0.1673228346456693\n",
      "Random Forrest has a F1-Score of 0.6503067484662577\n",
      "XGBoost has a F1-Score of 0.6951219512195121\n"
     ]
    }
   ],
   "source": [
    "print(\"Naive Bayes has a F1-Score of\",f1_score(y_test, y_pred_gnb))\n",
    "print(\"Logistic Regression has a F1-Score of\",f1_score(y_test, y_pred_log))\n",
    "print(\"SVM has a F1-Score of\",f1_score(y_test, y_pred_svm))\n",
    "print(\"Random Forrest has a F1-Score of\",f1_score(y_test, y_pred_rf))\n",
    "print(\"XGBoost has a F1-Score of\",f1_score(y_test, y_pred_xgb))"
   ]
  },
  {
   "cell_type": "markdown",
   "metadata": {},
   "source": [
    "<div class=\"alert alert-block alert-success\">\n",
    "<b>Clearly XGBoost is the best if we are going by F1-Score.</b> <br>\n",
    "<b>Random Forest has a slightly less impressive score.</b> \n",
    "</div>"
   ]
  },
  {
   "cell_type": "markdown",
   "metadata": {},
   "source": [
    "- [x] Compare the results of 1 with 2 and check if there is any incremental gain."
   ]
  },
  {
   "cell_type": "markdown",
   "metadata": {},
   "source": [
    "## Project Task: Week 3\n",
    "Applying ANN:\n",
    "\n",
    "Use ANN (Artificial Neural Network) to identify fradulent and non-fradulent.\n",
    "- [ ] (a) Fine-tune number of layers\n",
    "- [ ] (b) Number of Neurons in each layers\n",
    "- [ ] (c) Experiment in batch-size\n",
    "- [ ] (d) Experiment with number of epochs. Check the observations in loss and accuracy\n",
    "- [ ] (e) Play with different Learning Rate variants of Gradient Descent like Adam, SGD, RMS-prop\n",
    "- [ ] (f) Find out which activation performs best for this use case and why?\n",
    "- [ ] (g) Check Confusion Matrix, Precision, Recall and F1-Score"
   ]
  },
  {
   "cell_type": "markdown",
   "metadata": {},
   "source": [
    "- [ ] 2  Try out Dropout for ANN. How is it performed? Compare model performance with the traditional ML based prediction models from above. "
   ]
  },
  {
   "cell_type": "markdown",
   "metadata": {},
   "source": [
    "- [ ] 3  Find the best setting of neural net that can be best classified as fraudulent and non-fraudulent transactions. Use techniques like Grid Search, Cross-Validation and Random search."
   ]
  },
  {
   "cell_type": "code",
   "execution_count": 32,
   "metadata": {},
   "outputs": [],
   "source": [
    "from sklearn.model_selection import train_test_split\n",
    "X_train2, X_valid, y_train2, y_valid = train_test_split(X_train,y_train,test_size=0.1)"
   ]
  },
  {
   "cell_type": "code",
   "execution_count": 33,
   "metadata": {},
   "outputs": [],
   "source": [
    "from keras.models import Sequential\n",
    "from keras.layers import Dense, Dropout, BatchNormalization, LeakyReLU, PReLU\n",
    "from keras import optimizers, metrics\n",
    "from tensorflow.keras.optimizers import SGD\n",
    "from sklearn.model_selection import GridSearchCV\n",
    "from keras.wrappers.scikit_learn import KerasClassifier"
   ]
  },
  {
   "cell_type": "code",
   "execution_count": 34,
   "metadata": {},
   "outputs": [],
   "source": [
    "# import activation functions\n",
    "from tensorflow.keras.activations import sigmoid\n",
    "leaky_relu = LeakyReLU(alpha=0.01)"
   ]
  },
  {
   "cell_type": "markdown",
   "metadata": {},
   "source": [
    "<div class=\"alert alert-block alert-success\">\n",
    "<b>Dropout: Dropout is a technique used to prevent a model from overfitting. Dropout works by randomly setting the outgoing edges of hidden units to 0 at each update of the training phase. </b>\n",
    "</div>"
   ]
  },
  {
   "cell_type": "code",
   "execution_count": 35,
   "metadata": {},
   "outputs": [],
   "source": [
    "from sklearn.metrics import make_scorer\n",
    "from sklearn.metrics import accuracy_score, precision_score, recall_score"
   ]
  },
  {
   "cell_type": "code",
   "execution_count": 36,
   "metadata": {},
   "outputs": [],
   "source": [
    "def create_model(optimizer, activation, neurons):\n",
    "# create model\n",
    "    model = Sequential()\n",
    "    model.add(Dense(neurons, input_dim=30, activation=activation))\n",
    "    model.add(Dense(neurons, input_dim=30, activation=activation))\n",
    "    model.add(Dense(neurons, input_dim=30, activation=activation))\n",
    "    model.add(Dense(1, activation='sigmoid'))\n",
    "# Compile model\n",
    "    model.compile(loss='binary_crossentropy', optimizer=optimizer, metrics=['accuracy'])\n",
    "    return model\n"
   ]
  },
  {
   "cell_type": "code",
   "execution_count": 37,
   "metadata": {},
   "outputs": [],
   "source": [
    "# create model\n",
    "model = KerasClassifier(build_fn=create_model, verbose=0)"
   ]
  },
  {
   "cell_type": "code",
   "execution_count": 38,
   "metadata": {},
   "outputs": [],
   "source": [
    "# define the grid search parameters\n",
    "neurons = [15,25]                       # 1b\n",
    "batch_size = [32, 64]                   # 1c\n",
    "optimizer = ['SGD', 'RMSprop', 'Adam']  # 1e\n",
    "activation = ['leaky_relu', 'sigmoid']  # 1f\n",
    "\n",
    "param_grid = dict(neurons=neurons,batch_size=batch_size,optimizer=optimizer, activation=activation)\n",
    "grid = GridSearchCV(estimator=model, param_grid=param_grid, n_jobs=-1, cv=3)\n",
    "grid_result = grid.fit(X_train, y_train)"
   ]
  },
  {
   "cell_type": "code",
   "execution_count": 39,
   "metadata": {},
   "outputs": [
    {
     "name": "stdout",
     "output_type": "stream",
     "text": [
      "Best: 0.999425 using {'activation': 'leaky_relu', 'batch_size': 32, 'neurons': 15, 'optimizer': 'Adam'}\n"
     ]
    }
   ],
   "source": [
    "print(\"Best: %f using %s\" % (grid_result.best_score_, grid_result.best_params_))"
   ]
  },
  {
   "cell_type": "code",
   "execution_count": 40,
   "metadata": {},
   "outputs": [
    {
     "data": {
      "text/plain": [
       "GridSearchCV(cv=3,\n",
       "             estimator=<keras.wrappers.scikit_learn.KerasClassifier object at 0x00000153563C1FA0>,\n",
       "             n_jobs=-1,\n",
       "             param_grid={'activation': ['leaky_relu', 'sigmoid'],\n",
       "                         'batch_size': [32, 64], 'neurons': [15, 25],\n",
       "                         'optimizer': ['SGD', 'RMSprop', 'Adam']})"
      ]
     },
     "execution_count": 40,
     "metadata": {},
     "output_type": "execute_result"
    }
   ],
   "source": [
    "grid_result"
   ]
  },
  {
   "cell_type": "code",
   "execution_count": 41,
   "metadata": {},
   "outputs": [
    {
     "data": {
      "text/plain": [
       "{'activation': 'leaky_relu',\n",
       " 'batch_size': 32,\n",
       " 'neurons': 15,\n",
       " 'optimizer': 'Adam'}"
      ]
     },
     "execution_count": 41,
     "metadata": {},
     "output_type": "execute_result"
    }
   ],
   "source": [
    "grid_result.best_params_"
   ]
  },
  {
   "cell_type": "markdown",
   "metadata": {},
   "source": [
    "<div class=\"alert alert-block alert-success\">\n",
    "<b>Leaky ReLU activation function was developed to overcome one of the major shortcomings of ReLU activation function. It is seen as an improved version of ReLU. \n",
    "<br> No surprise GridSearchCV choose it as the optimimum activation function.</b> \n",
    "</div>"
   ]
  },
  {
   "cell_type": "markdown",
   "metadata": {},
   "source": [
    "- [ ] (a) Fine-tune number of layers\n",
    "- [ ] (b) Number of Neurons in each layers\n",
    "- [ ] (c) Experiment in batch-size\n",
    "- [ ] (d) Experiment with number of epochs. Check the observations in loss and accuracy\n",
    "- [ ] (e) Play with different Learning Rate variants of Gradient Descent like Adam, SGD, RMS-prop\n",
    "- [ ] (f) Find out which activation performs best for this use case and why?\n",
    "- [ ] (g) Check Confusion Matrix, Precision, Recall and F1-Score"
   ]
  },
  {
   "cell_type": "markdown",
   "metadata": {},
   "source": [
    "- [ ] (a) Fine-tune number of layers\n",
    "- [x] (b) Number of Neurons in each layers\n",
    "- [x] (c) Experiment in batch-size\n",
    "- [ ] (d) Experiment with number of epochs. Check the observations in loss and accuracy\n",
    "- [x] (e) Play with different Learning Rate variants of Gradient Descent like Adam, SGD, RMS-prop\n",
    "- [x] (f) Find out which activation performs best for this use case and why?\n",
    "- [ ] (g) Check Confusion Matrix, Precision, Recall and F1-Score\n",
    "- [ ] 2  Try out Dropout for ANN. How is it performed? Compare model performance with the traditional ML based prediction models from above. \n",
    "- [x] 3  Find the best setting of neural net that can be best classified as fraudulent and non-fraudulent transactions. Use techniques like Grid Search, Cross-Validation and Random search."
   ]
  },
  {
   "cell_type": "code",
   "execution_count": 43,
   "metadata": {},
   "outputs": [],
   "source": [
    "# define some parameters here\n",
    "batch_size = grid_result.best_params_['batch_size']\n",
    "neurons = grid_result.best_params_['neurons']\n",
    "optimizer = grid_result.best_params_['optimizer']\n",
    "activation = grid_result.best_params_['activation']\n",
    "\n",
    "Drop = 0.5"
   ]
  },
  {
   "cell_type": "code",
   "execution_count": 44,
   "metadata": {},
   "outputs": [],
   "source": [
    "# below is the result of some manual fine-tuning of layers\n",
    "model = keras.Sequential([\n",
    "    keras.layers.Dense(neurons, activation=activation, input_shape=(X_train2.shape[-1],)),\n",
    "    keras.layers.Dropout(Drop),                     \n",
    "    keras.layers.Dense(neurons, activation=activation),\n",
    "    keras.layers.Dropout(Drop),\n",
    "    keras.layers.Dense(neurons, activation=activation),\n",
    "    keras.layers.Dropout(Drop),\n",
    "    keras.layers.Dense(1, activation='sigmoid'),\n",
    "])"
   ]
  },
  {
   "cell_type": "markdown",
   "metadata": {},
   "source": [
    "- [x] (a) Fine-tune number of layers\n",
    "- [x] (b) Number of Neurons in each layers\n",
    "- [x] (c) Experiment in batch-size\n",
    "- [ ] (d) Experiment with number of epochs. Check the observations in loss and accuracy\n",
    "- [x] (e) Play with different Learning Rate variants of Gradient Descent like Adam, SGD, RMS-prop\n",
    "- [x] (f) Find out which activation performs best for this use case and why?\n",
    "- [ ] (g) Check Confusion Matrix, Precision, Recall and F1-Score\n",
    "- [ ] 2  Try out Dropout for ANN. How is it performed? Compare model performance with the traditional ML based prediction models from above. \n",
    "- [x] 3  Find the best setting of neural net that can be best classified as fraudulent and non-fraudulent transactions. Use techniques like Grid Search, Cross-Validation and Random search."
   ]
  },
  {
   "cell_type": "markdown",
   "metadata": {},
   "source": [
    "<div class=\"alert alert-block alert-info\">\n",
    "<b>Adam is seen as a hybrid of AdaGrad and RMSProp, combining their best properties to provide an optimization algorithm that can handle sparse gradients on noisy problems.<br>\n",
    "It is also very easy to implement and does not require complicated setting of parameters.</b>\n",
    "</div>"
   ]
  },
  {
   "cell_type": "code",
   "execution_count": 45,
   "metadata": {},
   "outputs": [
    {
     "name": "stdout",
     "output_type": "stream",
     "text": [
      "Epoch 1/20\n",
      "6409/6409 - 7s - loss: 0.0235 - accuracy: 0.9962 - val_loss: 0.0027 - val_accuracy: 0.9995 - 7s/epoch - 1ms/step\n",
      "Epoch 2/20\n",
      "6409/6409 - 6s - loss: 0.0064 - accuracy: 0.9991 - val_loss: 0.0026 - val_accuracy: 0.9996 - 6s/epoch - 958us/step\n",
      "Epoch 3/20\n",
      "6409/6409 - 6s - loss: 0.0056 - accuracy: 0.9991 - val_loss: 0.0024 - val_accuracy: 0.9995 - 6s/epoch - 969us/step\n",
      "Epoch 4/20\n",
      "6409/6409 - 7s - loss: 0.0054 - accuracy: 0.9990 - val_loss: 0.0025 - val_accuracy: 0.9996 - 7s/epoch - 1ms/step\n",
      "Epoch 5/20\n",
      "6409/6409 - 7s - loss: 0.0049 - accuracy: 0.9991 - val_loss: 0.0023 - val_accuracy: 0.9995 - 7s/epoch - 1ms/step\n",
      "Epoch 6/20\n",
      "6409/6409 - 7s - loss: 0.0045 - accuracy: 0.9991 - val_loss: 0.0026 - val_accuracy: 0.9995 - 7s/epoch - 1ms/step\n",
      "Epoch 7/20\n",
      "6409/6409 - 8s - loss: 0.0050 - accuracy: 0.9990 - val_loss: 0.0025 - val_accuracy: 0.9995 - 8s/epoch - 1ms/step\n",
      "Epoch 8/20\n",
      "6409/6409 - 9s - loss: 0.0047 - accuracy: 0.9991 - val_loss: 0.0024 - val_accuracy: 0.9994 - 9s/epoch - 1ms/step\n",
      "Epoch 9/20\n",
      "6409/6409 - 9s - loss: 0.0049 - accuracy: 0.9990 - val_loss: 0.0025 - val_accuracy: 0.9996 - 9s/epoch - 1ms/step\n",
      "Epoch 10/20\n",
      "6409/6409 - 8s - loss: 0.0046 - accuracy: 0.9991 - val_loss: 0.0023 - val_accuracy: 0.9994 - 8s/epoch - 1ms/step\n",
      "Epoch 11/20\n",
      "6409/6409 - 8s - loss: 0.0046 - accuracy: 0.9990 - val_loss: 0.0025 - val_accuracy: 0.9996 - 8s/epoch - 1ms/step\n",
      "Epoch 12/20\n",
      "6409/6409 - 8s - loss: 0.0051 - accuracy: 0.9990 - val_loss: 0.0025 - val_accuracy: 0.9994 - 8s/epoch - 1ms/step\n",
      "Epoch 13/20\n",
      "6409/6409 - 8s - loss: 0.0043 - accuracy: 0.9991 - val_loss: 0.0029 - val_accuracy: 0.9996 - 8s/epoch - 1ms/step\n",
      "Epoch 14/20\n",
      "6409/6409 - 7s - loss: 0.0045 - accuracy: 0.9991 - val_loss: 0.0027 - val_accuracy: 0.9996 - 7s/epoch - 1ms/step\n",
      "Epoch 15/20\n",
      "6409/6409 - 7s - loss: 0.0045 - accuracy: 0.9991 - val_loss: 0.0023 - val_accuracy: 0.9993 - 7s/epoch - 1ms/step\n",
      "Epoch 16/20\n",
      "6409/6409 - 7s - loss: 0.0047 - accuracy: 0.9990 - val_loss: 0.0024 - val_accuracy: 0.9994 - 7s/epoch - 1ms/step\n",
      "Epoch 17/20\n",
      "6409/6409 - 7s - loss: 0.0046 - accuracy: 0.9992 - val_loss: 0.0024 - val_accuracy: 0.9992 - 7s/epoch - 1ms/step\n",
      "Epoch 18/20\n",
      "6409/6409 - 7s - loss: 0.0044 - accuracy: 0.9991 - val_loss: 0.0024 - val_accuracy: 0.9995 - 7s/epoch - 1ms/step\n",
      "Epoch 19/20\n",
      "6409/6409 - 7s - loss: 0.0049 - accuracy: 0.9990 - val_loss: 0.0023 - val_accuracy: 0.9995 - 7s/epoch - 1ms/step\n",
      "Epoch 20/20\n",
      "6409/6409 - 7s - loss: 0.0046 - accuracy: 0.9990 - val_loss: 0.0025 - val_accuracy: 0.9995 - 7s/epoch - 1ms/step\n"
     ]
    }
   ],
   "source": [
    "model.compile(loss='binary_crossentropy', \n",
    "              optimizer=optimizer, \n",
    "              metrics=['accuracy']) \n",
    "\n",
    "history = model.fit(X_train2,\n",
    "                    y_train2, \n",
    "                    batch_size=32,\n",
    "                    epochs=20, \n",
    "                    verbose=2,\n",
    "                    validation_data=(X_valid,y_valid))"
   ]
  },
  {
   "cell_type": "code",
   "execution_count": 46,
   "metadata": {},
   "outputs": [
    {
     "data": {
      "image/png": "[encoded data removed]",
      "text/plain": [
       "<Figure size 432x288 with 1 Axes>"
      ]
     },
     "metadata": {
      "needs_background": "light"
     },
     "output_type": "display_data"
    },
    {
     "data": {
      "image/png": "[encoded data removed]",
      "text/plain": [
       "<Figure size 432x288 with 1 Axes>"
      ]
     },
     "metadata": {
      "needs_background": "light"
     },
     "output_type": "display_data"
    }
   ],
   "source": [
    "# summarize history for accuracy\n",
    "plt.plot(history.history['accuracy'])\n",
    "plt.title('Model accuracy')\n",
    "plt.ylabel('Accuracy')\n",
    "plt.xlabel('Number of Epochs')\n",
    "plt.legend(['Accuracy'])\n",
    "plt.grid()\n",
    "plt.show()\n",
    "\n",
    "# summarize history for loss\n",
    "plt.plot(history.history['loss'])\n",
    "plt.title('Model loss')\n",
    "plt.ylabel('Loss')\n",
    "plt.xlabel('Number of Epochs')\n",
    "plt.legend(['Loss'])\n",
    "plt.grid()\n",
    "plt.show()"
   ]
  },
  {
   "cell_type": "markdown",
   "metadata": {},
   "source": [
    "- [x] (a) Fine-tune number of layers\n",
    "- [x] (b) Number of Neurons in each layers\n",
    "- [x] (c) Experiment in batch-size\n",
    "- [x] (d) Experiment with number of epochs. Check the observations in loss and accuracy\n",
    "- [x] (e) Play with different Learning Rate variants of Gradient Descent like Adam, SGD, RMS-prop\n",
    "- [x] (f) Find out which activation performs best for this use case and why?\n",
    "- [ ] (g) Check Confusion Matrix, Precision, Recall and F1-Score\n",
    "- [ ] 2  Try out Dropout for ANN. How is it performed? Compare model performance with the traditional ML based prediction models from above. \n",
    "- [x] 3  Find the best setting of neural net that can be best classified as fraudulent and non-fraudulent transactions. Use techniques like Grid Search, Cross-Validation and Random search."
   ]
  },
  {
   "cell_type": "code",
   "execution_count": 47,
   "metadata": {},
   "outputs": [],
   "source": [
    "# predict\n",
    "y_pred_ann = model.predict(X_test)"
   ]
  },
  {
   "cell_type": "code",
   "execution_count": 48,
   "metadata": {},
   "outputs": [],
   "source": [
    "from sklearn.metrics import confusion_matrix\n",
    "# predict using model\n",
    "predict_ann = model.predict(X_test)\n",
    "\n",
    "# greater that#n 0.5 indicates a value of 1 for sigmoid function\n",
    "predict_ann = (predict_ann > 0.5)"
   ]
  },
  {
   "cell_type": "code",
   "execution_count": 49,
   "metadata": {},
   "outputs": [
    {
     "name": "stdout",
     "output_type": "stream",
     "text": [
      "Precision: 0.8732394366197183\n",
      "Recall: 0.6326530612244898\n",
      "F1-Score: 0.7337278106508875\n"
     ]
    }
   ],
   "source": [
    "# Precision\n",
    "print(\"Precision:\",precision_score(y_test, predict_ann))\n",
    "\n",
    "# Recall\n",
    "print(\"Recall:\",recall_score(y_test, predict_ann))\n",
    "\n",
    "# F1_Score\n",
    "print(\"F1-Score:\",f1_score(y_test, predict_ann))"
   ]
  },
  {
   "cell_type": "code",
   "execution_count": 50,
   "metadata": {},
   "outputs": [
    {
     "name": "stdout",
     "output_type": "stream",
     "text": [
      "Naive Bayes has a F1-Score of 0.07189829022358614\n",
      "Logistic Regression has a F1-Score of 0.08317214700193423\n",
      "SVM has a F1-Score of 0.1673228346456693\n",
      "Random Forrest has a F1-Score of 0.6503067484662577\n",
      "XGBoost has a F1-Score of 0.6951219512195121\n",
      "Our Deep Learning model has a F1-Score of 0.7337278106508875\n"
     ]
    }
   ],
   "source": [
    "print(\"Naive Bayes has a F1-Score of\",f1_score(y_test, y_pred_gnb))\n",
    "print(\"Logistic Regression has a F1-Score of\",f1_score(y_test, y_pred_log))\n",
    "print(\"SVM has a F1-Score of\",f1_score(y_test, y_pred_svm))\n",
    "print(\"Random Forrest has a F1-Score of\",f1_score(y_test, y_pred_rf))\n",
    "print(\"XGBoost has a F1-Score of\",f1_score(y_test, y_pred_xgb))\n",
    "print(\"Our Deep Learning model has a F1-Score of\",f1_score(y_test, predict_ann))"
   ]
  },
  {
   "cell_type": "markdown",
   "metadata": {},
   "source": [
    "<div class=\"alert alert-block alert-success\">\n",
    "<b>Our Deep Learning model has an F1-Score only beaten by XGBoost. This is good considering XGBoost is so highly regarded as a model</b>\n",
    "</div>"
   ]
  },
  {
   "cell_type": "markdown",
   "metadata": {},
   "source": [
    "<div class=\"alert alert-block alert-success\">\n",
    "<b>Dropout: Deep Learing models have a tendency to easily overfit. This means they become well-trained on trainin data but not very good at making predictions on new data <br> To combat this a dropout is added. The key idea is to randomly drop units (along with their connections) from the neural network during training. This prevents units from co-adapting too much. </b>\n",
    "</div>"
   ]
  },
  {
   "cell_type": "markdown",
   "metadata": {},
   "source": [
    "- [x] (a) Fine-tune number of layers\n",
    "- [x] (b) Number of Neurons in each layers\n",
    "- [x] (c) Experiment in batch-size\n",
    "- [x] (d) Experiment with number of epochs. Check the observations in loss and accuracy\n",
    "- [x] (e) Play with different Learning Rate variants of Gradient Descent like Adam, SGD, RMS-prop\n",
    "- [x] (f) Find out which activation performs best for this use case and why?\n",
    "- [ ] (g) Check Confusion Matrix, Precision, Recall and F1-Score\n",
    "- [x] 2  Try out Dropout for ANN. How is it performed? Compare model performance with the traditional ML based prediction models from above. \n",
    "- [x] 3  Find the best setting of neural net that can be best classified as fraudulent and non-fraudulent transactions. Use techniques like Grid Search, Cross-Validation and Random search."
   ]
  },
  {
   "cell_type": "code",
   "execution_count": 51,
   "metadata": {},
   "outputs": [
    {
     "data": {
      "image/png": "[encoded data removed]",
      "text/plain": [
       "<Figure size 432x288 with 2 Axes>"
      ]
     },
     "metadata": {
      "needs_background": "light"
     },
     "output_type": "display_data"
    }
   ],
   "source": [
    "# Confusion Matrix\n",
    "ax= plt.subplot()\n",
    "\n",
    "cm = confusion_matrix(y_test, predict_ann)\n",
    "\n",
    "sns.heatmap(cm, annot=True, ax = ax); #annot=True to annotate cells\n",
    "\n",
    "# labels, title and ticks\n",
    "ax.set_xlabel('Predicted labels');ax.set_ylabel('True labels'); \n",
    "ax.set_title('Confusion Matrix'); \n",
    "ax.xaxis.set_ticklabels(['Positive', 'Negative']); ax.yaxis.set_ticklabels(['Positive', 'Negative']);"
   ]
  },
  {
   "cell_type": "markdown",
   "metadata": {},
   "source": [
    "- [x] (a) Fine-tune number of layers\n",
    "- [x] (b) Number of Neurons in each layers\n",
    "- [x] (c) Experiment in batch-size\n",
    "- [x] (d) Experiment with number of epochs. Check the observations in loss and accuracy\n",
    "- [x] (e) Play with different Learning Rate variants of Gradient Descent like Adam, SGD, RMS-prop\n",
    "- [x] (f) Find out which activation performs best for this use case and why?\n",
    "- [x] (g) Check Confusion Matrix, Precision, Recall and F1-Score\n",
    "- [x] 2  Try out Dropout for ANN. How is it performed? Compare model performance with the traditional ML based prediction models from above. \n",
    "- [x] 3  Find the best setting of neural net that can be best classified as fraudulent and non-fraudulent transactions. Use techniques like Grid Search, Cross-Validation and Random search."
   ]
  },
  {
   "cell_type": "markdown",
   "metadata": {},
   "source": [
    "### Anomaly Detection:\n",
    "\n",
    "4.    Implement anomaly detection algorithms.\n",
    "- [ ] (a)    Assume that the data is coming from a single or a combination of multivariate Gaussian\n",
    "- [ ] (b)    Formalize a scoring criterion, which gives a scoring probability for the given data point whether it belongs to the multivariate Gaussian or Normal Distribution fitted in (a)\n",
    " "
   ]
  },
  {
   "cell_type": "code",
   "execution_count": 52,
   "metadata": {},
   "outputs": [],
   "source": [
    "## Get the Fraud and the normal dataset \n",
    "fraud = train_data[train_data['Class']==1]\n",
    "non_fraud = train_data[train_data['Class']==0]\n",
    "\n",
    "# need this as a parameter for algorithm\n",
    "contamination = len(fraud)/float(len(non_fraud))"
   ]
  },
  {
   "cell_type": "code",
   "execution_count": 53,
   "metadata": {},
   "outputs": [],
   "source": [
    "from sklearn.ensemble import IsolationForest\n",
    "from sklearn.covariance import EllipticEnvelope\n",
    "\n",
    "from sklearn.metrics import accuracy_score"
   ]
  },
  {
   "cell_type": "markdown",
   "metadata": {},
   "source": [
    "### Isolation Forest"
   ]
  },
  {
   "cell_type": "code",
   "execution_count": 54,
   "metadata": {},
   "outputs": [],
   "source": [
    "model_iso = IsolationForest(max_samples=len(X_train), contamination=contamination)"
   ]
  },
  {
   "cell_type": "code",
   "execution_count": 55,
   "metadata": {},
   "outputs": [
    {
     "name": "stdout",
     "output_type": "stream",
     "text": [
      "Isolation Forest algorithm has detected 503 errors\n",
      "Isolation Forest algorithm has an accuracy score of 0.9977923588404398\n"
     ]
    }
   ],
   "source": [
    "model_iso.fit(X_train)\n",
    "scores_criterion_iso = model_iso.decision_function(X_train)\n",
    "\n",
    "y_pred_iso = model_iso.predict(X_train)          # The model automatically gives us 1 for inliers, -1 for outliers. \n",
    "y_pred_iso[y_pred_iso == 1] = 0                  # We convert this to give 0 for inliers, 1 for outliers so we can match\n",
    "y_pred_iso[y_pred_iso == -1] = 1\n",
    "n_outliers = (y_pred_iso != y_train).sum()\n",
    "print(\"Isolation Forest algorithm has detected\",n_outliers, \"errors\")\n",
    "print(\"Isolation Forest algorithm has an accuracy score of\",accuracy_score(y_train,y_pred_iso))"
   ]
  },
  {
   "cell_type": "markdown",
   "metadata": {},
   "source": [
    "### Robust Covariance"
   ]
  },
  {
   "cell_type": "code",
   "execution_count": 57,
   "metadata": {},
   "outputs": [],
   "source": [
    "model_elen = EllipticEnvelope(random_state=0)"
   ]
  },
  {
   "cell_type": "code",
   "execution_count": 58,
   "metadata": {},
   "outputs": [
    {
     "name": "stdout",
     "output_type": "stream",
     "text": [
      "Elliptic Envelope algorithm has detected 22497 errors\n",
      "Elliptic Envelope algorithm has an accuracy score of 0.9012618227303649\n"
     ]
    }
   ],
   "source": [
    "model_elen.fit(X_train)\n",
    "scores_prediction_elen = model_elen.decision_function(X_train)\n",
    "\n",
    "y_pred_elen = model_elen.predict(X_train)          # The model automatically gives us 1 for inliers, -1 for outliers. \n",
    "y_pred_elen[y_pred_elen == 1] = 0                  # We convert this to give 0 for inliers, 1 for outliers so we can match\n",
    "y_pred_elen[y_pred_elen == -1] = 1\n",
    "n_outliers = (y_pred_elen != y_train).sum()\n",
    "print(\"Elliptic Envelope algorithm has detected\",n_outliers, \"errors\")\n",
    "print(\"Elliptic Envelope algorithm has an accuracy score of\",accuracy_score(y_train,y_pred_elen))"
   ]
  },
  {
   "cell_type": "markdown",
   "metadata": {},
   "source": [
    "<div class=\"alert alert-block alert-info\">\n",
    "<b>We will work with the Isolation Forest because it gave a much better accuuracy score.</b>\n",
    "</div>"
   ]
  },
  {
   "cell_type": "code",
   "execution_count": 59,
   "metadata": {},
   "outputs": [],
   "source": [
    "# add 2 new columns to the dataframe\n",
    "train_data['scores'] = scores_criterion_iso\n",
    "# X_train['Iso_Classify'] = y_pred_iso"
   ]
  },
  {
   "cell_type": "markdown",
   "metadata": {},
   "source": [
    "<div class=\"alert alert-block alert-info\">\n",
    "<b>The decision function returns values between -0.5 and 0.5.  Negative scores represent outliers, positive scores represent inliers. <br>\n",
    "We create a probability scoring by making this range between 0 and 1 (adding 0.5 to each score). This will give us a probbaility of it being an inlier (within Gaussian distribution)</b>\n",
    "</div>"
   ]
  },
  {
   "cell_type": "code",
   "execution_count": 60,
   "metadata": {},
   "outputs": [],
   "source": [
    "train_data['probability_inlier'] = train_data['scores'] + 0.5"
   ]
  },
  {
   "cell_type": "code",
   "execution_count": 61,
   "metadata": {
    "scrolled": true
   },
   "outputs": [
    {
     "data": {
      "text/html": [
       "<div>\n",
       "<style scoped>\n",
       "    .dataframe tbody tr th:only-of-type {\n",
       "        vertical-align: middle;\n",
       "    }\n",
       "\n",
       "    .dataframe tbody tr th {\n",
       "        vertical-align: top;\n",
       "    }\n",
       "\n",
       "    .dataframe thead th {\n",
       "        text-align: right;\n",
       "    }\n",
       "</style>\n",
       "<table border=\"1\" class=\"dataframe\">\n",
       "  <thead>\n",
       "    <tr style=\"text-align: right;\">\n",
       "      <th></th>\n",
       "      <th>V1</th>\n",
       "      <th>V2</th>\n",
       "      <th>V3</th>\n",
       "      <th>V4</th>\n",
       "      <th>V5</th>\n",
       "      <th>V6</th>\n",
       "      <th>V7</th>\n",
       "      <th>V8</th>\n",
       "      <th>V9</th>\n",
       "      <th>V10</th>\n",
       "      <th>...</th>\n",
       "      <th>V24</th>\n",
       "      <th>V25</th>\n",
       "      <th>V26</th>\n",
       "      <th>V27</th>\n",
       "      <th>V28</th>\n",
       "      <th>Class</th>\n",
       "      <th>std_amount</th>\n",
       "      <th>std_time</th>\n",
       "      <th>scores</th>\n",
       "      <th>probability_inlier</th>\n",
       "    </tr>\n",
       "  </thead>\n",
       "  <tbody>\n",
       "    <tr>\n",
       "      <th>0</th>\n",
       "      <td>1.043949</td>\n",
       "      <td>0.318555</td>\n",
       "      <td>1.045810</td>\n",
       "      <td>2.805989</td>\n",
       "      <td>-0.561113</td>\n",
       "      <td>-0.367956</td>\n",
       "      <td>0.032736</td>\n",
       "      <td>-0.042333</td>\n",
       "      <td>-0.322674</td>\n",
       "      <td>0.499167</td>\n",
       "      <td>...</td>\n",
       "      <td>0.684812</td>\n",
       "      <td>0.318620</td>\n",
       "      <td>-0.204963</td>\n",
       "      <td>0.001662</td>\n",
       "      <td>0.037894</td>\n",
       "      <td>0</td>\n",
       "      <td>-0.156600</td>\n",
       "      <td>-1.187316</td>\n",
       "      <td>0.196646</td>\n",
       "      <td>0.696646</td>\n",
       "    </tr>\n",
       "    <tr>\n",
       "      <th>1</th>\n",
       "      <td>-1.665159</td>\n",
       "      <td>0.808440</td>\n",
       "      <td>1.805627</td>\n",
       "      <td>1.903416</td>\n",
       "      <td>-0.821627</td>\n",
       "      <td>0.934790</td>\n",
       "      <td>-0.824802</td>\n",
       "      <td>0.975890</td>\n",
       "      <td>1.747469</td>\n",
       "      <td>-0.658751</td>\n",
       "      <td>...</td>\n",
       "      <td>0.147565</td>\n",
       "      <td>-0.529358</td>\n",
       "      <td>-0.566950</td>\n",
       "      <td>-0.595998</td>\n",
       "      <td>-0.220086</td>\n",
       "      <td>0</td>\n",
       "      <td>-0.288523</td>\n",
       "      <td>-1.519945</td>\n",
       "      <td>0.165829</td>\n",
       "      <td>0.665829</td>\n",
       "    </tr>\n",
       "    <tr>\n",
       "      <th>2</th>\n",
       "      <td>-0.324096</td>\n",
       "      <td>0.601836</td>\n",
       "      <td>0.865329</td>\n",
       "      <td>-2.138000</td>\n",
       "      <td>0.294663</td>\n",
       "      <td>-1.251553</td>\n",
       "      <td>1.072114</td>\n",
       "      <td>-0.334896</td>\n",
       "      <td>1.071268</td>\n",
       "      <td>-1.109522</td>\n",
       "      <td>...</td>\n",
       "      <td>-0.145791</td>\n",
       "      <td>0.094194</td>\n",
       "      <td>-0.804026</td>\n",
       "      <td>0.229428</td>\n",
       "      <td>-0.021623</td>\n",
       "      <td>0</td>\n",
       "      <td>-0.352771</td>\n",
       "      <td>-1.943605</td>\n",
       "      <td>0.187533</td>\n",
       "      <td>0.687533</td>\n",
       "    </tr>\n",
       "    <tr>\n",
       "      <th>3</th>\n",
       "      <td>-0.258270</td>\n",
       "      <td>1.217501</td>\n",
       "      <td>-0.585348</td>\n",
       "      <td>-0.875347</td>\n",
       "      <td>1.222481</td>\n",
       "      <td>-0.311027</td>\n",
       "      <td>1.073860</td>\n",
       "      <td>-0.161408</td>\n",
       "      <td>0.200665</td>\n",
       "      <td>0.154307</td>\n",
       "      <td>...</td>\n",
       "      <td>0.178614</td>\n",
       "      <td>-0.315616</td>\n",
       "      <td>0.096665</td>\n",
       "      <td>0.269740</td>\n",
       "      <td>-0.020635</td>\n",
       "      <td>0</td>\n",
       "      <td>-0.313351</td>\n",
       "      <td>-0.167996</td>\n",
       "      <td>0.203384</td>\n",
       "      <td>0.703384</td>\n",
       "    </tr>\n",
       "    <tr>\n",
       "      <th>4</th>\n",
       "      <td>2.142162</td>\n",
       "      <td>-0.494988</td>\n",
       "      <td>-1.936511</td>\n",
       "      <td>-0.818288</td>\n",
       "      <td>-0.025213</td>\n",
       "      <td>-1.027245</td>\n",
       "      <td>-0.151627</td>\n",
       "      <td>-0.305750</td>\n",
       "      <td>-0.869482</td>\n",
       "      <td>0.428729</td>\n",
       "      <td>...</td>\n",
       "      <td>-0.480899</td>\n",
       "      <td>0.023846</td>\n",
       "      <td>-0.279076</td>\n",
       "      <td>-0.030121</td>\n",
       "      <td>-0.043888</td>\n",
       "      <td>0</td>\n",
       "      <td>-0.195737</td>\n",
       "      <td>0.683136</td>\n",
       "      <td>0.194502</td>\n",
       "      <td>0.694502</td>\n",
       "    </tr>\n",
       "  </tbody>\n",
       "</table>\n",
       "<p>5 rows × 33 columns</p>\n",
       "</div>"
      ],
      "text/plain": [
       "         V1        V2        V3        V4        V5        V6        V7  \\\n",
       "0  1.043949  0.318555  1.045810  2.805989 -0.561113 -0.367956  0.032736   \n",
       "1 -1.665159  0.808440  1.805627  1.903416 -0.821627  0.934790 -0.824802   \n",
       "2 -0.324096  0.601836  0.865329 -2.138000  0.294663 -1.251553  1.072114   \n",
       "3 -0.258270  1.217501 -0.585348 -0.875347  1.222481 -0.311027  1.073860   \n",
       "4  2.142162 -0.494988 -1.936511 -0.818288 -0.025213 -1.027245 -0.151627   \n",
       "\n",
       "         V8        V9       V10  ...       V24       V25       V26       V27  \\\n",
       "0 -0.042333 -0.322674  0.499167  ...  0.684812  0.318620 -0.204963  0.001662   \n",
       "1  0.975890  1.747469 -0.658751  ...  0.147565 -0.529358 -0.566950 -0.595998   \n",
       "2 -0.334896  1.071268 -1.109522  ... -0.145791  0.094194 -0.804026  0.229428   \n",
       "3 -0.161408  0.200665  0.154307  ...  0.178614 -0.315616  0.096665  0.269740   \n",
       "4 -0.305750 -0.869482  0.428729  ... -0.480899  0.023846 -0.279076 -0.030121   \n",
       "\n",
       "        V28  Class  std_amount  std_time    scores  probability_inlier  \n",
       "0  0.037894      0   -0.156600 -1.187316  0.196646            0.696646  \n",
       "1 -0.220086      0   -0.288523 -1.519945  0.165829            0.665829  \n",
       "2 -0.021623      0   -0.352771 -1.943605  0.187533            0.687533  \n",
       "3 -0.020635      0   -0.313351 -0.167996  0.203384            0.703384  \n",
       "4 -0.043888      0   -0.195737  0.683136  0.194502            0.694502  \n",
       "\n",
       "[5 rows x 33 columns]"
      ]
     },
     "execution_count": 61,
     "metadata": {},
     "output_type": "execute_result"
    }
   ],
   "source": [
    "train_data.head()"
   ]
  },
  {
   "cell_type": "markdown",
   "metadata": {},
   "source": [
    "- [x] (a)    Assume that the data is coming from a single or a combination of multivariate Gaussian\n",
    "- [x] (b)    Formalize a scoring criterion, which gives a scoring probability for the given data point whether it belongs to the multivariate Gaussian or Normal Distribution fitted in (a)"
   ]
  },
  {
   "cell_type": "markdown",
   "metadata": {},
   "source": [
    "## Project Task: Week 4\n",
    "\n",
    "Inference and Observations:\n",
    "\n",
    "- [ ] 1 Visualize the scores for Fraudulent and Non-Fraudulent transactions.\n",
    "- [ ] 2 Find out the threshold value for marking or reporting a transaction as fraudulent in your anomaly detection system.\n",
    "- [ ] 3 Can this score be used as an engineered feature in the models developed previously? \n",
    "Are there any incremental gains in F1-Score? \n",
    "Why or Why not?\n",
    "- [ ] 4 Be as creative as possible in finding other interesting insights."
   ]
  },
  {
   "cell_type": "code",
   "execution_count": 62,
   "metadata": {},
   "outputs": [],
   "source": [
    "fraud = train_data[train_data['Class']==1]\n",
    "non_fraud = train_data[train_data['Class']==0]"
   ]
  },
  {
   "cell_type": "markdown",
   "metadata": {},
   "source": [
    "### Fraudulant"
   ]
  },
  {
   "cell_type": "code",
   "execution_count": 63,
   "metadata": {},
   "outputs": [
    {
     "data": {
      "image/png": "[encoded data removed]",
      "text/plain": [
       "<Figure size 432x288 with 1 Axes>"
      ]
     },
     "metadata": {
      "needs_background": "light"
     },
     "output_type": "display_data"
    }
   ],
   "source": [
    "#Plot the combined distribution of the scores \n",
    "%matplotlib inline\n",
    "import matplotlib.mlab as mlab\n",
    "import matplotlib.pyplot as plt\n",
    "# %pylab.inline\n",
    "normal = plt.hist(fraud.scores, 50,)\n",
    "plt.xlabel('Score distribution')\n",
    "plt.ylabel('Frequency')\n",
    "plt.title(\"Distribution of isolation forest score for fraudulant cases\")\n",
    "plt.show()"
   ]
  },
  {
   "cell_type": "markdown",
   "metadata": {},
   "source": [
    "### Non-Fradulant"
   ]
  },
  {
   "cell_type": "code",
   "execution_count": 64,
   "metadata": {},
   "outputs": [
    {
     "data": {
      "image/png": "[encoded data removed]",
      "text/plain": [
       "<Figure size 432x288 with 1 Axes>"
      ]
     },
     "metadata": {
      "needs_background": "light"
     },
     "output_type": "display_data"
    }
   ],
   "source": [
    "#Plot the combined distribution of the scores \n",
    "import matplotlib.mlab as mlab\n",
    "import matplotlib.pyplot as plt\n",
    "normal = plt.hist(non_fraud.scores, 50,)\n",
    "plt.xlabel('Score distribution')\n",
    "plt.ylabel('Frequency')\n",
    "plt.title(\"Distribution of isoforest score for non-fraudulant cases\")\n",
    "plt.show()"
   ]
  },
  {
   "cell_type": "markdown",
   "metadata": {},
   "source": [
    "- [x] 1 Visualize the scores for Fraudulent and Non-Fraudulent transactions."
   ]
  },
  {
   "cell_type": "markdown",
   "metadata": {},
   "source": [
    "<div class=\"alert alert-block alert-success\">\n",
    "<b>We took the threshold value to be the percentage of anomalies present in the data. This is also known as the contamination.\n",
    "It was calculated earlier as it is a parameter in Anomaly Detection Algorithm. <br> It is given below.</b>\n",
    "</div>"
   ]
  },
  {
   "cell_type": "code",
   "execution_count": 65,
   "metadata": {},
   "outputs": [
    {
     "data": {
      "text/plain": [
       "0.0017322412299792043"
      ]
     },
     "execution_count": 65,
     "metadata": {},
     "output_type": "execute_result"
    }
   ],
   "source": [
    "contamination"
   ]
  },
  {
   "cell_type": "markdown",
   "metadata": {},
   "source": [
    "- [x] 2 Find out the threshold value for marking or reporting a transaction as fraudulent in your anomaly detection system."
   ]
  },
  {
   "cell_type": "code",
   "execution_count": 66,
   "metadata": {
    "scrolled": true
   },
   "outputs": [],
   "source": [
    "X_test['anomaly'] = model_iso.predict(X_test)"
   ]
  },
  {
   "cell_type": "code",
   "execution_count": 67,
   "metadata": {},
   "outputs": [],
   "source": [
    "X_train['anomaly'] = y_pred_iso"
   ]
  },
  {
   "cell_type": "markdown",
   "metadata": {},
   "source": [
    "### Do model for XGBoost with new feature"
   ]
  },
  {
   "cell_type": "code",
   "execution_count": 68,
   "metadata": {},
   "outputs": [],
   "source": [
    "xg_class2 = xgb.XGBClassifier(objective ='reg:linear', colsample_bytree = 0.3, learning_rate = 0.1, \n",
    "                             max_depth = 5, alpha = 10, n_estimators = 10)"
   ]
  },
  {
   "cell_type": "code",
   "execution_count": 69,
   "metadata": {},
   "outputs": [
    {
     "name": "stdout",
     "output_type": "stream",
     "text": [
      "[19:56:34] WARNING: C:/Users/Administrator/workspace/xgboost-win64_release_1.5.1/src/objective/regression_obj.cu:188: reg:linear is now deprecated in favor of reg:squarederror.\n"
     ]
    },
    {
     "data": {
      "text/plain": [
       "XGBClassifier(alpha=10, base_score=0.5, booster='gbtree', colsample_bylevel=1,\n",
       "              colsample_bynode=1, colsample_bytree=0.3,\n",
       "              enable_categorical=False, gamma=0, gpu_id=-1,\n",
       "              importance_type=None, interaction_constraints='',\n",
       "              learning_rate=0.1, max_delta_step=0, max_depth=5,\n",
       "              min_child_weight=1, missing=nan, monotone_constraints='()',\n",
       "              n_estimators=10, n_jobs=8, num_parallel_tree=1,\n",
       "              objective='reg:linear', predictor='auto', random_state=0,\n",
       "              reg_alpha=10, reg_lambda=1, scale_pos_weight=1, subsample=1,\n",
       "              tree_method='exact', validate_parameters=1, verbosity=None)"
      ]
     },
     "execution_count": 69,
     "metadata": {},
     "output_type": "execute_result"
    }
   ],
   "source": [
    "xg_class2.fit(X_train,y_train)"
   ]
  },
  {
   "cell_type": "code",
   "execution_count": 70,
   "metadata": {},
   "outputs": [],
   "source": [
    "y_pred_xgb = xg_class2.predict(X_test)"
   ]
  },
  {
   "cell_type": "code",
   "execution_count": 71,
   "metadata": {
    "scrolled": true
   },
   "outputs": [
    {
     "name": "stdout",
     "output_type": "stream",
     "text": [
      "F1-Score: 0.6951219512195121\n"
     ]
    }
   ],
   "source": [
    "# XGBoost F1-Score\n",
    "print(\"F1-Score:\",f1_score(y_test, y_pred_xgb))"
   ]
  },
  {
   "cell_type": "code",
   "execution_count": 72,
   "metadata": {},
   "outputs": [
    {
     "data": {
      "text/plain": [
       "<Figure size 504x504 with 0 Axes>"
      ]
     },
     "metadata": {},
     "output_type": "display_data"
    },
    {
     "data": {
      "image/png": "[encoded data removed]",
      "text/plain": [
       "<Figure size 432x288 with 1 Axes>"
      ]
     },
     "metadata": {
      "needs_background": "light"
     },
     "output_type": "display_data"
    }
   ],
   "source": [
    "# cumulative gains chart\n",
    "predicted_probas_xg = xg_class2.predict_proba(X_test)\n",
    "plt.figure(figsize=(7,7))\n",
    "skplt.metrics.plot_cumulative_gain(y_test, predicted_probas_xg)\n",
    "plt.show()"
   ]
  },
  {
   "cell_type": "markdown",
   "metadata": {},
   "source": [
    "<div class=\"alert alert-block alert-success\">\n",
    "<b>This cannot be used as an engineered feature. We don't see any improvement in F1-Score of the XGBoost model. This is due to the fact that the scores feature is very heavily correlated to the other 30 features the model is using. <br>\n",
    "This is no surprise considering the new feature is predicted using these features</b> </div>"
   ]
  },
  {
   "cell_type": "markdown",
   "metadata": {},
   "source": [
    "- [x] 3 Can this score be used as an engineered feature in the models developed previously? \n",
    "Are there any incremental gains in F1-Score? \n",
    "Why or Why not?"
   ]
  },
  {
   "cell_type": "markdown",
   "metadata": {},
   "source": [
    "<div class=\"alert alert-block alert-success\">\n",
    "<b>The distribution of the scores for the non-fradulant cases is negatively skewed. More importantly, they fall on to the right of 0 (they are mostly positive scores). <br>\n",
    "This implies most of the non-fraudulant cases are also not considered outliers (as most have positive scores).<br>\n",
    "The fraudulant cases scores, however, appear to be a lot more random and do not follow any particular distribution. They appear to be a lot more evenly spread either side of the zero mark.</b>\n",
    "</div>"
   ]
  },
  {
   "cell_type": "markdown",
   "metadata": {},
   "source": [
    "- [x] 4 Be as creative as possible in finding other interesting insights."
   ]
  }
 ],
 "metadata": {
  "kernelspec": {
   "display_name": "Python 3 (ipykernel)",
   "language": "python",
   "name": "python3"
  },
  "language_info": {
   "codemirror_mode": {
    "name": "ipython",
    "version": 3
   },
   "file_extension": ".py",
   "mimetype": "text/x-python",
   "name": "python",
   "nbconvert_exporter": "python",
   "pygments_lexer": "ipython3",
   "version": "3.9.13"
  }
 },
 "nbformat": 4,
 "nbformat_minor": 2
}
