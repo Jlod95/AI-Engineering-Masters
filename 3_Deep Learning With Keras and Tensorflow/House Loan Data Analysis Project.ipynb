{
 "cells": [
  {
   "cell_type": "markdown",
   "metadata": {},
   "source": [
    "# House Loan Data Analysis"
   ]
  },
  {
   "cell_type": "code",
   "execution_count": 41,
   "metadata": {
    "scrolled": true
   },
   "outputs": [],
   "source": [
    "import pandas as pd\n",
    "import numpy as np\n",
    "import matplotlib.pyplot as plt\n",
    "from imblearn.over_sampling import SMOTE"
   ]
  },
  {
   "cell_type": "markdown",
   "metadata": {},
   "source": [
    "- [ ] Load the dataset that is given to you"
   ]
  },
  {
   "cell_type": "code",
   "execution_count": 42,
   "metadata": {},
   "outputs": [],
   "source": [
    "df = pd.read_csv(r'C:\\Users\\jlod9\\OneDrive\\Documents\\4_Canada plan\\Files to add to Git hub\\3_Deep Learning With Keras and Tensorflow\\loan_data.csv')"
   ]
  },
  {
   "cell_type": "code",
   "execution_count": 43,
   "metadata": {
    "scrolled": true
   },
   "outputs": [
    {
     "data": {
      "text/html": [
       "<div>\n",
       "<style scoped>\n",
       "    .dataframe tbody tr th:only-of-type {\n",
       "        vertical-align: middle;\n",
       "    }\n",
       "\n",
       "    .dataframe tbody tr th {\n",
       "        vertical-align: top;\n",
       "    }\n",
       "\n",
       "    .dataframe thead th {\n",
       "        text-align: right;\n",
       "    }\n",
       "</style>\n",
       "<table border=\"1\" class=\"dataframe\">\n",
       "  <thead>\n",
       "    <tr style=\"text-align: right;\">\n",
       "      <th></th>\n",
       "      <th>SK_ID_CURR</th>\n",
       "      <th>TARGET</th>\n",
       "      <th>NAME_CONTRACT_TYPE</th>\n",
       "      <th>CODE_GENDER</th>\n",
       "      <th>FLAG_OWN_CAR</th>\n",
       "      <th>FLAG_OWN_REALTY</th>\n",
       "      <th>CNT_CHILDREN</th>\n",
       "      <th>AMT_INCOME_TOTAL</th>\n",
       "      <th>AMT_CREDIT</th>\n",
       "      <th>AMT_ANNUITY</th>\n",
       "      <th>...</th>\n",
       "      <th>FLAG_DOCUMENT_18</th>\n",
       "      <th>FLAG_DOCUMENT_19</th>\n",
       "      <th>FLAG_DOCUMENT_20</th>\n",
       "      <th>FLAG_DOCUMENT_21</th>\n",
       "      <th>AMT_REQ_CREDIT_BUREAU_HOUR</th>\n",
       "      <th>AMT_REQ_CREDIT_BUREAU_DAY</th>\n",
       "      <th>AMT_REQ_CREDIT_BUREAU_WEEK</th>\n",
       "      <th>AMT_REQ_CREDIT_BUREAU_MON</th>\n",
       "      <th>AMT_REQ_CREDIT_BUREAU_QRT</th>\n",
       "      <th>AMT_REQ_CREDIT_BUREAU_YEAR</th>\n",
       "    </tr>\n",
       "  </thead>\n",
       "  <tbody>\n",
       "    <tr>\n",
       "      <th>0</th>\n",
       "      <td>100002</td>\n",
       "      <td>1</td>\n",
       "      <td>Cash loans</td>\n",
       "      <td>M</td>\n",
       "      <td>N</td>\n",
       "      <td>Y</td>\n",
       "      <td>0</td>\n",
       "      <td>202500.0</td>\n",
       "      <td>406597.5</td>\n",
       "      <td>24700.5</td>\n",
       "      <td>...</td>\n",
       "      <td>0</td>\n",
       "      <td>0</td>\n",
       "      <td>0</td>\n",
       "      <td>0</td>\n",
       "      <td>0.0</td>\n",
       "      <td>0.0</td>\n",
       "      <td>0.0</td>\n",
       "      <td>0.0</td>\n",
       "      <td>0.0</td>\n",
       "      <td>1.0</td>\n",
       "    </tr>\n",
       "    <tr>\n",
       "      <th>1</th>\n",
       "      <td>100003</td>\n",
       "      <td>0</td>\n",
       "      <td>Cash loans</td>\n",
       "      <td>F</td>\n",
       "      <td>N</td>\n",
       "      <td>N</td>\n",
       "      <td>0</td>\n",
       "      <td>270000.0</td>\n",
       "      <td>1293502.5</td>\n",
       "      <td>35698.5</td>\n",
       "      <td>...</td>\n",
       "      <td>0</td>\n",
       "      <td>0</td>\n",
       "      <td>0</td>\n",
       "      <td>0</td>\n",
       "      <td>0.0</td>\n",
       "      <td>0.0</td>\n",
       "      <td>0.0</td>\n",
       "      <td>0.0</td>\n",
       "      <td>0.0</td>\n",
       "      <td>0.0</td>\n",
       "    </tr>\n",
       "    <tr>\n",
       "      <th>2</th>\n",
       "      <td>100004</td>\n",
       "      <td>0</td>\n",
       "      <td>Revolving loans</td>\n",
       "      <td>M</td>\n",
       "      <td>Y</td>\n",
       "      <td>Y</td>\n",
       "      <td>0</td>\n",
       "      <td>67500.0</td>\n",
       "      <td>135000.0</td>\n",
       "      <td>6750.0</td>\n",
       "      <td>...</td>\n",
       "      <td>0</td>\n",
       "      <td>0</td>\n",
       "      <td>0</td>\n",
       "      <td>0</td>\n",
       "      <td>0.0</td>\n",
       "      <td>0.0</td>\n",
       "      <td>0.0</td>\n",
       "      <td>0.0</td>\n",
       "      <td>0.0</td>\n",
       "      <td>0.0</td>\n",
       "    </tr>\n",
       "    <tr>\n",
       "      <th>3</th>\n",
       "      <td>100006</td>\n",
       "      <td>0</td>\n",
       "      <td>Cash loans</td>\n",
       "      <td>F</td>\n",
       "      <td>N</td>\n",
       "      <td>Y</td>\n",
       "      <td>0</td>\n",
       "      <td>135000.0</td>\n",
       "      <td>312682.5</td>\n",
       "      <td>29686.5</td>\n",
       "      <td>...</td>\n",
       "      <td>0</td>\n",
       "      <td>0</td>\n",
       "      <td>0</td>\n",
       "      <td>0</td>\n",
       "      <td>NaN</td>\n",
       "      <td>NaN</td>\n",
       "      <td>NaN</td>\n",
       "      <td>NaN</td>\n",
       "      <td>NaN</td>\n",
       "      <td>NaN</td>\n",
       "    </tr>\n",
       "    <tr>\n",
       "      <th>4</th>\n",
       "      <td>100007</td>\n",
       "      <td>0</td>\n",
       "      <td>Cash loans</td>\n",
       "      <td>M</td>\n",
       "      <td>N</td>\n",
       "      <td>Y</td>\n",
       "      <td>0</td>\n",
       "      <td>121500.0</td>\n",
       "      <td>513000.0</td>\n",
       "      <td>21865.5</td>\n",
       "      <td>...</td>\n",
       "      <td>0</td>\n",
       "      <td>0</td>\n",
       "      <td>0</td>\n",
       "      <td>0</td>\n",
       "      <td>0.0</td>\n",
       "      <td>0.0</td>\n",
       "      <td>0.0</td>\n",
       "      <td>0.0</td>\n",
       "      <td>0.0</td>\n",
       "      <td>0.0</td>\n",
       "    </tr>\n",
       "  </tbody>\n",
       "</table>\n",
       "<p>5 rows × 122 columns</p>\n",
       "</div>"
      ],
      "text/plain": [
       "   SK_ID_CURR  TARGET NAME_CONTRACT_TYPE CODE_GENDER FLAG_OWN_CAR  \\\n",
       "0      100002       1         Cash loans           M            N   \n",
       "1      100003       0         Cash loans           F            N   \n",
       "2      100004       0    Revolving loans           M            Y   \n",
       "3      100006       0         Cash loans           F            N   \n",
       "4      100007       0         Cash loans           M            N   \n",
       "\n",
       "  FLAG_OWN_REALTY  CNT_CHILDREN  AMT_INCOME_TOTAL  AMT_CREDIT  AMT_ANNUITY  \\\n",
       "0               Y             0          202500.0    406597.5      24700.5   \n",
       "1               N             0          270000.0   1293502.5      35698.5   \n",
       "2               Y             0           67500.0    135000.0       6750.0   \n",
       "3               Y             0          135000.0    312682.5      29686.5   \n",
       "4               Y             0          121500.0    513000.0      21865.5   \n",
       "\n",
       "   ...  FLAG_DOCUMENT_18 FLAG_DOCUMENT_19 FLAG_DOCUMENT_20 FLAG_DOCUMENT_21  \\\n",
       "0  ...                 0                0                0                0   \n",
       "1  ...                 0                0                0                0   \n",
       "2  ...                 0                0                0                0   \n",
       "3  ...                 0                0                0                0   \n",
       "4  ...                 0                0                0                0   \n",
       "\n",
       "  AMT_REQ_CREDIT_BUREAU_HOUR AMT_REQ_CREDIT_BUREAU_DAY  \\\n",
       "0                        0.0                       0.0   \n",
       "1                        0.0                       0.0   \n",
       "2                        0.0                       0.0   \n",
       "3                        NaN                       NaN   \n",
       "4                        0.0                       0.0   \n",
       "\n",
       "   AMT_REQ_CREDIT_BUREAU_WEEK  AMT_REQ_CREDIT_BUREAU_MON  \\\n",
       "0                         0.0                        0.0   \n",
       "1                         0.0                        0.0   \n",
       "2                         0.0                        0.0   \n",
       "3                         NaN                        NaN   \n",
       "4                         0.0                        0.0   \n",
       "\n",
       "   AMT_REQ_CREDIT_BUREAU_QRT  AMT_REQ_CREDIT_BUREAU_YEAR  \n",
       "0                        0.0                         1.0  \n",
       "1                        0.0                         0.0  \n",
       "2                        0.0                         0.0  \n",
       "3                        NaN                         NaN  \n",
       "4                        0.0                         0.0  \n",
       "\n",
       "[5 rows x 122 columns]"
      ]
     },
     "execution_count": 43,
     "metadata": {},
     "output_type": "execute_result"
    }
   ],
   "source": [
    "df.head()"
   ]
  },
  {
   "cell_type": "code",
   "execution_count": 44,
   "metadata": {},
   "outputs": [
    {
     "data": {
      "text/plain": [
       "(307511, 122)"
      ]
     },
     "execution_count": 44,
     "metadata": {},
     "output_type": "execute_result"
    }
   ],
   "source": [
    "df.shape"
   ]
  },
  {
   "cell_type": "code",
   "execution_count": 45,
   "metadata": {
    "scrolled": true
   },
   "outputs": [
    {
     "name": "stdout",
     "output_type": "stream",
     "text": [
      "<class 'pandas.core.frame.DataFrame'>\n",
      "RangeIndex: 307511 entries, 0 to 307510\n",
      "Columns: 122 entries, SK_ID_CURR to AMT_REQ_CREDIT_BUREAU_YEAR\n",
      "dtypes: float64(65), int64(41), object(16)\n",
      "memory usage: 286.2+ MB\n"
     ]
    }
   ],
   "source": [
    "df.info()"
   ]
  },
  {
   "cell_type": "markdown",
   "metadata": {},
   "source": [
    "- [x] <span style=\"color:green\">Load the dataset that is given to you"
   ]
  },
  {
   "cell_type": "markdown",
   "metadata": {},
   "source": [
    "# Preprocessing\n",
    "- [ ] Check for null values in the dataset\n",
    "- [ ] Print percentage of default to payer of the dataset for the TARGET column\n",
    "- [ ] Encode the columns that is required for the model\n",
    "- [ ] Balance the dataset if the data is imbalanced\n",
    "- [ ] Plot the balanced data or imbalanced data"
   ]
  },
  {
   "cell_type": "markdown",
   "metadata": {},
   "source": [
    "## Check for null values in the dataset"
   ]
  },
  {
   "cell_type": "code",
   "execution_count": 46,
   "metadata": {},
   "outputs": [
    {
     "data": {
      "text/plain": [
       "SK_ID_CURR                        0\n",
       "TARGET                            0\n",
       "NAME_CONTRACT_TYPE                0\n",
       "CODE_GENDER                       0\n",
       "FLAG_OWN_CAR                      0\n",
       "                              ...  \n",
       "AMT_REQ_CREDIT_BUREAU_DAY     41519\n",
       "AMT_REQ_CREDIT_BUREAU_WEEK    41519\n",
       "AMT_REQ_CREDIT_BUREAU_MON     41519\n",
       "AMT_REQ_CREDIT_BUREAU_QRT     41519\n",
       "AMT_REQ_CREDIT_BUREAU_YEAR    41519\n",
       "Length: 122, dtype: int64"
      ]
     },
     "execution_count": 46,
     "metadata": {},
     "output_type": "execute_result"
    }
   ],
   "source": [
    "df.isnull().sum()"
   ]
  },
  {
   "cell_type": "markdown",
   "metadata": {},
   "source": [
    "### Too many columns to preview so we will filter out what we are not looking for"
   ]
  },
  {
   "cell_type": "code",
   "execution_count": 47,
   "metadata": {},
   "outputs": [
    {
     "data": {
      "text/plain": [
       "SK_ID_CURR                    0.000000\n",
       "TARGET                        0.000000\n",
       "NAME_CONTRACT_TYPE            0.000000\n",
       "CODE_GENDER                   0.000000\n",
       "FLAG_OWN_CAR                  0.000000\n",
       "                                ...   \n",
       "AMT_REQ_CREDIT_BUREAU_DAY     0.135016\n",
       "AMT_REQ_CREDIT_BUREAU_WEEK    0.135016\n",
       "AMT_REQ_CREDIT_BUREAU_MON     0.135016\n",
       "AMT_REQ_CREDIT_BUREAU_QRT     0.135016\n",
       "AMT_REQ_CREDIT_BUREAU_YEAR    0.135016\n",
       "Length: 122, dtype: float64"
      ]
     },
     "execution_count": 47,
     "metadata": {},
     "output_type": "execute_result"
    }
   ],
   "source": [
    "df.isnull().sum()/len(df)"
   ]
  },
  {
   "cell_type": "markdown",
   "metadata": {},
   "source": [
    "### Too many to view so will we specify what we want "
   ]
  },
  {
   "cell_type": "code",
   "execution_count": 48,
   "metadata": {},
   "outputs": [
    {
     "name": "stdout",
     "output_type": "stream",
     "text": [
      "OWN_CAR_AGE 0.6599081008484249\n",
      "OCCUPATION_TYPE 0.31345545362604915\n",
      "EXT_SOURCE_1 0.5638107254699832\n",
      "APARTMENTS_AVG 0.5074972927797705\n",
      "BASEMENTAREA_AVG 0.5851595552679416\n",
      "YEARS_BEGINEXPLUATATION_AVG 0.48781019215572774\n",
      "YEARS_BUILD_AVG 0.6649778381911542\n",
      "COMMONAREA_AVG 0.6987229725115525\n",
      "ELEVATORS_AVG 0.532959796560123\n",
      "ENTRANCES_AVG 0.503487680115508\n",
      "FLOORSMAX_AVG 0.4976082156410665\n",
      "FLOORSMIN_AVG 0.6784862980511266\n",
      "LANDAREA_AVG 0.5937673774271489\n",
      "LIVINGAPARTMENTS_AVG 0.6835495315614726\n",
      "LIVINGAREA_AVG 0.5019332641759157\n",
      "NONLIVINGAPARTMENTS_AVG 0.6943296337366793\n",
      "NONLIVINGAREA_AVG 0.5517916432257708\n",
      "APARTMENTS_MODE 0.5074972927797705\n",
      "BASEMENTAREA_MODE 0.5851595552679416\n",
      "YEARS_BEGINEXPLUATATION_MODE 0.48781019215572774\n",
      "YEARS_BUILD_MODE 0.6649778381911542\n",
      "COMMONAREA_MODE 0.6987229725115525\n",
      "ELEVATORS_MODE 0.532959796560123\n",
      "ENTRANCES_MODE 0.503487680115508\n",
      "FLOORSMAX_MODE 0.4976082156410665\n",
      "FLOORSMIN_MODE 0.6784862980511266\n",
      "LANDAREA_MODE 0.5937673774271489\n",
      "LIVINGAPARTMENTS_MODE 0.6835495315614726\n",
      "LIVINGAREA_MODE 0.5019332641759157\n",
      "NONLIVINGAPARTMENTS_MODE 0.6943296337366793\n",
      "NONLIVINGAREA_MODE 0.5517916432257708\n",
      "APARTMENTS_MEDI 0.5074972927797705\n",
      "BASEMENTAREA_MEDI 0.5851595552679416\n",
      "YEARS_BEGINEXPLUATATION_MEDI 0.48781019215572774\n",
      "YEARS_BUILD_MEDI 0.6649778381911542\n",
      "COMMONAREA_MEDI 0.6987229725115525\n",
      "ELEVATORS_MEDI 0.532959796560123\n",
      "ENTRANCES_MEDI 0.503487680115508\n",
      "FLOORSMAX_MEDI 0.4976082156410665\n",
      "FLOORSMIN_MEDI 0.6784862980511266\n",
      "LANDAREA_MEDI 0.5937673774271489\n",
      "LIVINGAPARTMENTS_MEDI 0.6835495315614726\n",
      "LIVINGAREA_MEDI 0.5019332641759157\n",
      "NONLIVINGAPARTMENTS_MEDI 0.6943296337366793\n",
      "NONLIVINGAREA_MEDI 0.5517916432257708\n",
      "FONDKAPREMONT_MODE 0.6838617155158677\n",
      "HOUSETYPE_MODE 0.50176091261776\n",
      "TOTALAREA_MODE 0.4826851722377411\n",
      "WALLSMATERIAL_MODE 0.508407829313423\n",
      "EMERGENCYSTATE_MODE 0.47398304450897694\n"
     ]
    }
   ],
   "source": [
    "for col in df.columns:\n",
    "    if df[col].isna().sum()/len(df) > 0.3:\n",
    "        print(col, df[col].isna().sum()/len(df))"
   ]
  },
  {
   "cell_type": "markdown",
   "metadata": {},
   "source": [
    "### Let's remove all columns that contain more than 30% missing values"
   ]
  },
  {
   "cell_type": "code",
   "execution_count": 49,
   "metadata": {},
   "outputs": [],
   "source": [
    "for col in df.columns:\n",
    "    if df[col].isna().sum()/len(df) > 0.3:\n",
    "        df = df.drop(columns=[col], axis=0)"
   ]
  },
  {
   "cell_type": "code",
   "execution_count": 50,
   "metadata": {},
   "outputs": [
    {
     "data": {
      "text/plain": [
       "(307511, 72)"
      ]
     },
     "execution_count": 50,
     "metadata": {},
     "output_type": "execute_result"
    }
   ],
   "source": [
    "df.shape"
   ]
  },
  {
   "cell_type": "markdown",
   "metadata": {},
   "source": [
    "### Let's impute values for columns that contain less than 5% missing values"
   ]
  },
  {
   "cell_type": "code",
   "execution_count": 51,
   "metadata": {},
   "outputs": [
    {
     "name": "stdout",
     "output_type": "stream",
     "text": [
      "EXT_SOURCE_3 0.19825307062186392\n",
      "AMT_REQ_CREDIT_BUREAU_HOUR 0.13501630835970097\n",
      "AMT_REQ_CREDIT_BUREAU_DAY 0.13501630835970097\n",
      "AMT_REQ_CREDIT_BUREAU_WEEK 0.13501630835970097\n",
      "AMT_REQ_CREDIT_BUREAU_MON 0.13501630835970097\n",
      "AMT_REQ_CREDIT_BUREAU_QRT 0.13501630835970097\n",
      "AMT_REQ_CREDIT_BUREAU_YEAR 0.13501630835970097\n"
     ]
    }
   ],
   "source": [
    "for col in df.columns:\n",
    "    if df[col].isna().sum()/len(df) > 0.05:\n",
    "        print(col, df[col].isna().sum()/len(df))"
   ]
  },
  {
   "cell_type": "code",
   "execution_count": 52,
   "metadata": {},
   "outputs": [
    {
     "name": "stdout",
     "output_type": "stream",
     "text": [
      "EXT_SOURCE_3 0.19825307062186392\n",
      "AMT_REQ_CREDIT_BUREAU_HOUR 0.13501630835970097\n",
      "AMT_REQ_CREDIT_BUREAU_DAY 0.13501630835970097\n",
      "AMT_REQ_CREDIT_BUREAU_WEEK 0.13501630835970097\n",
      "AMT_REQ_CREDIT_BUREAU_MON 0.13501630835970097\n",
      "AMT_REQ_CREDIT_BUREAU_QRT 0.13501630835970097\n",
      "AMT_REQ_CREDIT_BUREAU_YEAR 0.13501630835970097\n"
     ]
    }
   ],
   "source": [
    "for col in df.columns:\n",
    "    if df[col].isna().sum()/len(df) > 0.05:\n",
    "        print(col, df[col].isna().sum()/len(df))"
   ]
  },
  {
   "cell_type": "code",
   "execution_count": 53,
   "metadata": {},
   "outputs": [
    {
     "data": {
      "text/plain": [
       "(307511, 72)"
      ]
     },
     "execution_count": 53,
     "metadata": {},
     "output_type": "execute_result"
    }
   ],
   "source": [
    "df.shape"
   ]
  },
  {
   "cell_type": "markdown",
   "metadata": {},
   "source": [
    "### Let's drop rows values for columns that contain less than 5% missing values"
   ]
  },
  {
   "cell_type": "code",
   "execution_count": 54,
   "metadata": {},
   "outputs": [
    {
     "data": {
      "text/plain": [
       "SK_ID_CURR                    False\n",
       "TARGET                        False\n",
       "NAME_CONTRACT_TYPE            False\n",
       "CODE_GENDER                   False\n",
       "FLAG_OWN_CAR                  False\n",
       "                              ...  \n",
       "AMT_REQ_CREDIT_BUREAU_DAY      True\n",
       "AMT_REQ_CREDIT_BUREAU_WEEK     True\n",
       "AMT_REQ_CREDIT_BUREAU_MON      True\n",
       "AMT_REQ_CREDIT_BUREAU_QRT      True\n",
       "AMT_REQ_CREDIT_BUREAU_YEAR     True\n",
       "Length: 72, dtype: bool"
      ]
     },
     "execution_count": 54,
     "metadata": {},
     "output_type": "execute_result"
    }
   ],
   "source": [
    "df.isnull().any()"
   ]
  },
  {
   "cell_type": "code",
   "execution_count": 55,
   "metadata": {},
   "outputs": [],
   "source": [
    "df = df.dropna()"
   ]
  },
  {
   "cell_type": "code",
   "execution_count": 56,
   "metadata": {},
   "outputs": [
    {
     "data": {
      "text/plain": [
       "(244280, 72)"
      ]
     },
     "execution_count": 56,
     "metadata": {},
     "output_type": "execute_result"
    }
   ],
   "source": [
    "df.shape"
   ]
  },
  {
   "cell_type": "markdown",
   "metadata": {},
   "source": [
    "- [x] Check for null values in the dataset"
   ]
  },
  {
   "cell_type": "markdown",
   "metadata": {},
   "source": [
    "## Encode the columns that is required for the model"
   ]
  },
  {
   "cell_type": "code",
   "execution_count": 57,
   "metadata": {},
   "outputs": [
    {
     "data": {
      "text/plain": [
       "Index(['NAME_CONTRACT_TYPE', 'CODE_GENDER', 'FLAG_OWN_CAR', 'FLAG_OWN_REALTY',\n",
       "       'NAME_TYPE_SUITE', 'NAME_INCOME_TYPE', 'NAME_EDUCATION_TYPE',\n",
       "       'NAME_FAMILY_STATUS', 'NAME_HOUSING_TYPE', 'WEEKDAY_APPR_PROCESS_START',\n",
       "       'ORGANIZATION_TYPE'],\n",
       "      dtype='object')"
      ]
     },
     "execution_count": 57,
     "metadata": {},
     "output_type": "execute_result"
    }
   ],
   "source": [
    "df.select_dtypes(include=['object']).columns"
   ]
  },
  {
   "cell_type": "code",
   "execution_count": 58,
   "metadata": {},
   "outputs": [
    {
     "data": {
      "text/plain": [
       "NAME_CONTRACT_TYPE             2\n",
       "CODE_GENDER                    3\n",
       "FLAG_OWN_CAR                   2\n",
       "FLAG_OWN_REALTY                2\n",
       "NAME_TYPE_SUITE                7\n",
       "NAME_INCOME_TYPE               7\n",
       "NAME_EDUCATION_TYPE            5\n",
       "NAME_FAMILY_STATUS             5\n",
       "NAME_HOUSING_TYPE              6\n",
       "WEEKDAY_APPR_PROCESS_START     7\n",
       "ORGANIZATION_TYPE             58\n",
       "dtype: int64"
      ]
     },
     "execution_count": 58,
     "metadata": {},
     "output_type": "execute_result"
    }
   ],
   "source": [
    "df[df.select_dtypes(include=['object']).columns].nunique()"
   ]
  },
  {
   "cell_type": "code",
   "execution_count": 59,
   "metadata": {},
   "outputs": [],
   "source": [
    "cat = df.select_dtypes(include=['object']).columns"
   ]
  },
  {
   "cell_type": "code",
   "execution_count": 60,
   "metadata": {},
   "outputs": [
    {
     "data": {
      "text/plain": [
       "(244280, 104)"
      ]
     },
     "execution_count": 60,
     "metadata": {},
     "output_type": "execute_result"
    }
   ],
   "source": [
    "cols = pd.get_dummies(df[cat])\n",
    "cols.shape"
   ]
  },
  {
   "cell_type": "code",
   "execution_count": 61,
   "metadata": {},
   "outputs": [
    {
     "data": {
      "text/html": [
       "<div>\n",
       "<style scoped>\n",
       "    .dataframe tbody tr th:only-of-type {\n",
       "        vertical-align: middle;\n",
       "    }\n",
       "\n",
       "    .dataframe tbody tr th {\n",
       "        vertical-align: top;\n",
       "    }\n",
       "\n",
       "    .dataframe thead th {\n",
       "        text-align: right;\n",
       "    }\n",
       "</style>\n",
       "<table border=\"1\" class=\"dataframe\">\n",
       "  <thead>\n",
       "    <tr style=\"text-align: right;\">\n",
       "      <th></th>\n",
       "      <th>SK_ID_CURR</th>\n",
       "      <th>TARGET</th>\n",
       "      <th>CNT_CHILDREN</th>\n",
       "      <th>AMT_INCOME_TOTAL</th>\n",
       "      <th>AMT_CREDIT</th>\n",
       "      <th>AMT_ANNUITY</th>\n",
       "      <th>AMT_GOODS_PRICE</th>\n",
       "      <th>REGION_POPULATION_RELATIVE</th>\n",
       "      <th>DAYS_BIRTH</th>\n",
       "      <th>DAYS_EMPLOYED</th>\n",
       "      <th>...</th>\n",
       "      <th>FLAG_DOCUMENT_18</th>\n",
       "      <th>FLAG_DOCUMENT_19</th>\n",
       "      <th>FLAG_DOCUMENT_20</th>\n",
       "      <th>FLAG_DOCUMENT_21</th>\n",
       "      <th>AMT_REQ_CREDIT_BUREAU_HOUR</th>\n",
       "      <th>AMT_REQ_CREDIT_BUREAU_DAY</th>\n",
       "      <th>AMT_REQ_CREDIT_BUREAU_WEEK</th>\n",
       "      <th>AMT_REQ_CREDIT_BUREAU_MON</th>\n",
       "      <th>AMT_REQ_CREDIT_BUREAU_QRT</th>\n",
       "      <th>AMT_REQ_CREDIT_BUREAU_YEAR</th>\n",
       "    </tr>\n",
       "  </thead>\n",
       "  <tbody>\n",
       "    <tr>\n",
       "      <th>0</th>\n",
       "      <td>100002</td>\n",
       "      <td>1</td>\n",
       "      <td>0</td>\n",
       "      <td>202500.0</td>\n",
       "      <td>406597.5</td>\n",
       "      <td>24700.5</td>\n",
       "      <td>351000.0</td>\n",
       "      <td>0.018801</td>\n",
       "      <td>-9461</td>\n",
       "      <td>-637</td>\n",
       "      <td>...</td>\n",
       "      <td>0</td>\n",
       "      <td>0</td>\n",
       "      <td>0</td>\n",
       "      <td>0</td>\n",
       "      <td>0.0</td>\n",
       "      <td>0.0</td>\n",
       "      <td>0.0</td>\n",
       "      <td>0.0</td>\n",
       "      <td>0.0</td>\n",
       "      <td>1.0</td>\n",
       "    </tr>\n",
       "    <tr>\n",
       "      <th>2</th>\n",
       "      <td>100004</td>\n",
       "      <td>0</td>\n",
       "      <td>0</td>\n",
       "      <td>67500.0</td>\n",
       "      <td>135000.0</td>\n",
       "      <td>6750.0</td>\n",
       "      <td>135000.0</td>\n",
       "      <td>0.010032</td>\n",
       "      <td>-19046</td>\n",
       "      <td>-225</td>\n",
       "      <td>...</td>\n",
       "      <td>0</td>\n",
       "      <td>0</td>\n",
       "      <td>0</td>\n",
       "      <td>0</td>\n",
       "      <td>0.0</td>\n",
       "      <td>0.0</td>\n",
       "      <td>0.0</td>\n",
       "      <td>0.0</td>\n",
       "      <td>0.0</td>\n",
       "      <td>0.0</td>\n",
       "    </tr>\n",
       "    <tr>\n",
       "      <th>5</th>\n",
       "      <td>100008</td>\n",
       "      <td>0</td>\n",
       "      <td>0</td>\n",
       "      <td>99000.0</td>\n",
       "      <td>490495.5</td>\n",
       "      <td>27517.5</td>\n",
       "      <td>454500.0</td>\n",
       "      <td>0.035792</td>\n",
       "      <td>-16941</td>\n",
       "      <td>-1588</td>\n",
       "      <td>...</td>\n",
       "      <td>0</td>\n",
       "      <td>0</td>\n",
       "      <td>0</td>\n",
       "      <td>0</td>\n",
       "      <td>0.0</td>\n",
       "      <td>0.0</td>\n",
       "      <td>0.0</td>\n",
       "      <td>0.0</td>\n",
       "      <td>1.0</td>\n",
       "      <td>1.0</td>\n",
       "    </tr>\n",
       "    <tr>\n",
       "      <th>6</th>\n",
       "      <td>100009</td>\n",
       "      <td>0</td>\n",
       "      <td>1</td>\n",
       "      <td>171000.0</td>\n",
       "      <td>1560726.0</td>\n",
       "      <td>41301.0</td>\n",
       "      <td>1395000.0</td>\n",
       "      <td>0.035792</td>\n",
       "      <td>-13778</td>\n",
       "      <td>-3130</td>\n",
       "      <td>...</td>\n",
       "      <td>0</td>\n",
       "      <td>0</td>\n",
       "      <td>0</td>\n",
       "      <td>0</td>\n",
       "      <td>0.0</td>\n",
       "      <td>0.0</td>\n",
       "      <td>0.0</td>\n",
       "      <td>1.0</td>\n",
       "      <td>1.0</td>\n",
       "      <td>2.0</td>\n",
       "    </tr>\n",
       "    <tr>\n",
       "      <th>7</th>\n",
       "      <td>100010</td>\n",
       "      <td>0</td>\n",
       "      <td>0</td>\n",
       "      <td>360000.0</td>\n",
       "      <td>1530000.0</td>\n",
       "      <td>42075.0</td>\n",
       "      <td>1530000.0</td>\n",
       "      <td>0.003122</td>\n",
       "      <td>-18850</td>\n",
       "      <td>-449</td>\n",
       "      <td>...</td>\n",
       "      <td>0</td>\n",
       "      <td>0</td>\n",
       "      <td>0</td>\n",
       "      <td>0</td>\n",
       "      <td>0.0</td>\n",
       "      <td>0.0</td>\n",
       "      <td>0.0</td>\n",
       "      <td>0.0</td>\n",
       "      <td>0.0</td>\n",
       "      <td>0.0</td>\n",
       "    </tr>\n",
       "    <tr>\n",
       "      <th>...</th>\n",
       "      <td>...</td>\n",
       "      <td>...</td>\n",
       "      <td>...</td>\n",
       "      <td>...</td>\n",
       "      <td>...</td>\n",
       "      <td>...</td>\n",
       "      <td>...</td>\n",
       "      <td>...</td>\n",
       "      <td>...</td>\n",
       "      <td>...</td>\n",
       "      <td>...</td>\n",
       "      <td>...</td>\n",
       "      <td>...</td>\n",
       "      <td>...</td>\n",
       "      <td>...</td>\n",
       "      <td>...</td>\n",
       "      <td>...</td>\n",
       "      <td>...</td>\n",
       "      <td>...</td>\n",
       "      <td>...</td>\n",
       "      <td>...</td>\n",
       "    </tr>\n",
       "    <tr>\n",
       "      <th>307503</th>\n",
       "      <td>456247</td>\n",
       "      <td>0</td>\n",
       "      <td>0</td>\n",
       "      <td>112500.0</td>\n",
       "      <td>345510.0</td>\n",
       "      <td>17770.5</td>\n",
       "      <td>247500.0</td>\n",
       "      <td>0.022800</td>\n",
       "      <td>-11870</td>\n",
       "      <td>-399</td>\n",
       "      <td>...</td>\n",
       "      <td>0</td>\n",
       "      <td>0</td>\n",
       "      <td>0</td>\n",
       "      <td>0</td>\n",
       "      <td>0.0</td>\n",
       "      <td>0.0</td>\n",
       "      <td>0.0</td>\n",
       "      <td>1.0</td>\n",
       "      <td>0.0</td>\n",
       "      <td>2.0</td>\n",
       "    </tr>\n",
       "    <tr>\n",
       "      <th>307505</th>\n",
       "      <td>456249</td>\n",
       "      <td>0</td>\n",
       "      <td>0</td>\n",
       "      <td>112500.0</td>\n",
       "      <td>225000.0</td>\n",
       "      <td>22050.0</td>\n",
       "      <td>225000.0</td>\n",
       "      <td>0.022800</td>\n",
       "      <td>-24384</td>\n",
       "      <td>365243</td>\n",
       "      <td>...</td>\n",
       "      <td>0</td>\n",
       "      <td>0</td>\n",
       "      <td>0</td>\n",
       "      <td>0</td>\n",
       "      <td>0.0</td>\n",
       "      <td>0.0</td>\n",
       "      <td>0.0</td>\n",
       "      <td>2.0</td>\n",
       "      <td>0.0</td>\n",
       "      <td>0.0</td>\n",
       "    </tr>\n",
       "    <tr>\n",
       "      <th>307508</th>\n",
       "      <td>456253</td>\n",
       "      <td>0</td>\n",
       "      <td>0</td>\n",
       "      <td>153000.0</td>\n",
       "      <td>677664.0</td>\n",
       "      <td>29979.0</td>\n",
       "      <td>585000.0</td>\n",
       "      <td>0.005002</td>\n",
       "      <td>-14966</td>\n",
       "      <td>-7921</td>\n",
       "      <td>...</td>\n",
       "      <td>0</td>\n",
       "      <td>0</td>\n",
       "      <td>0</td>\n",
       "      <td>0</td>\n",
       "      <td>1.0</td>\n",
       "      <td>0.0</td>\n",
       "      <td>0.0</td>\n",
       "      <td>1.0</td>\n",
       "      <td>0.0</td>\n",
       "      <td>1.0</td>\n",
       "    </tr>\n",
       "    <tr>\n",
       "      <th>307509</th>\n",
       "      <td>456254</td>\n",
       "      <td>1</td>\n",
       "      <td>0</td>\n",
       "      <td>171000.0</td>\n",
       "      <td>370107.0</td>\n",
       "      <td>20205.0</td>\n",
       "      <td>319500.0</td>\n",
       "      <td>0.005313</td>\n",
       "      <td>-11961</td>\n",
       "      <td>-4786</td>\n",
       "      <td>...</td>\n",
       "      <td>0</td>\n",
       "      <td>0</td>\n",
       "      <td>0</td>\n",
       "      <td>0</td>\n",
       "      <td>0.0</td>\n",
       "      <td>0.0</td>\n",
       "      <td>0.0</td>\n",
       "      <td>0.0</td>\n",
       "      <td>0.0</td>\n",
       "      <td>0.0</td>\n",
       "    </tr>\n",
       "    <tr>\n",
       "      <th>307510</th>\n",
       "      <td>456255</td>\n",
       "      <td>0</td>\n",
       "      <td>0</td>\n",
       "      <td>157500.0</td>\n",
       "      <td>675000.0</td>\n",
       "      <td>49117.5</td>\n",
       "      <td>675000.0</td>\n",
       "      <td>0.046220</td>\n",
       "      <td>-16856</td>\n",
       "      <td>-1262</td>\n",
       "      <td>...</td>\n",
       "      <td>0</td>\n",
       "      <td>0</td>\n",
       "      <td>0</td>\n",
       "      <td>0</td>\n",
       "      <td>0.0</td>\n",
       "      <td>0.0</td>\n",
       "      <td>0.0</td>\n",
       "      <td>2.0</td>\n",
       "      <td>0.0</td>\n",
       "      <td>1.0</td>\n",
       "    </tr>\n",
       "  </tbody>\n",
       "</table>\n",
       "<p>244280 rows × 61 columns</p>\n",
       "</div>"
      ],
      "text/plain": [
       "        SK_ID_CURR  TARGET  CNT_CHILDREN  AMT_INCOME_TOTAL  AMT_CREDIT  \\\n",
       "0           100002       1             0          202500.0    406597.5   \n",
       "2           100004       0             0           67500.0    135000.0   \n",
       "5           100008       0             0           99000.0    490495.5   \n",
       "6           100009       0             1          171000.0   1560726.0   \n",
       "7           100010       0             0          360000.0   1530000.0   \n",
       "...            ...     ...           ...               ...         ...   \n",
       "307503      456247       0             0          112500.0    345510.0   \n",
       "307505      456249       0             0          112500.0    225000.0   \n",
       "307508      456253       0             0          153000.0    677664.0   \n",
       "307509      456254       1             0          171000.0    370107.0   \n",
       "307510      456255       0             0          157500.0    675000.0   \n",
       "\n",
       "        AMT_ANNUITY  AMT_GOODS_PRICE  REGION_POPULATION_RELATIVE  DAYS_BIRTH  \\\n",
       "0           24700.5         351000.0                    0.018801       -9461   \n",
       "2            6750.0         135000.0                    0.010032      -19046   \n",
       "5           27517.5         454500.0                    0.035792      -16941   \n",
       "6           41301.0        1395000.0                    0.035792      -13778   \n",
       "7           42075.0        1530000.0                    0.003122      -18850   \n",
       "...             ...              ...                         ...         ...   \n",
       "307503      17770.5         247500.0                    0.022800      -11870   \n",
       "307505      22050.0         225000.0                    0.022800      -24384   \n",
       "307508      29979.0         585000.0                    0.005002      -14966   \n",
       "307509      20205.0         319500.0                    0.005313      -11961   \n",
       "307510      49117.5         675000.0                    0.046220      -16856   \n",
       "\n",
       "        DAYS_EMPLOYED  ...  FLAG_DOCUMENT_18  FLAG_DOCUMENT_19  \\\n",
       "0                -637  ...                 0                 0   \n",
       "2                -225  ...                 0                 0   \n",
       "5               -1588  ...                 0                 0   \n",
       "6               -3130  ...                 0                 0   \n",
       "7                -449  ...                 0                 0   \n",
       "...               ...  ...               ...               ...   \n",
       "307503           -399  ...                 0                 0   \n",
       "307505         365243  ...                 0                 0   \n",
       "307508          -7921  ...                 0                 0   \n",
       "307509          -4786  ...                 0                 0   \n",
       "307510          -1262  ...                 0                 0   \n",
       "\n",
       "        FLAG_DOCUMENT_20  FLAG_DOCUMENT_21  AMT_REQ_CREDIT_BUREAU_HOUR  \\\n",
       "0                      0                 0                         0.0   \n",
       "2                      0                 0                         0.0   \n",
       "5                      0                 0                         0.0   \n",
       "6                      0                 0                         0.0   \n",
       "7                      0                 0                         0.0   \n",
       "...                  ...               ...                         ...   \n",
       "307503                 0                 0                         0.0   \n",
       "307505                 0                 0                         0.0   \n",
       "307508                 0                 0                         1.0   \n",
       "307509                 0                 0                         0.0   \n",
       "307510                 0                 0                         0.0   \n",
       "\n",
       "        AMT_REQ_CREDIT_BUREAU_DAY  AMT_REQ_CREDIT_BUREAU_WEEK  \\\n",
       "0                             0.0                         0.0   \n",
       "2                             0.0                         0.0   \n",
       "5                             0.0                         0.0   \n",
       "6                             0.0                         0.0   \n",
       "7                             0.0                         0.0   \n",
       "...                           ...                         ...   \n",
       "307503                        0.0                         0.0   \n",
       "307505                        0.0                         0.0   \n",
       "307508                        0.0                         0.0   \n",
       "307509                        0.0                         0.0   \n",
       "307510                        0.0                         0.0   \n",
       "\n",
       "        AMT_REQ_CREDIT_BUREAU_MON  AMT_REQ_CREDIT_BUREAU_QRT  \\\n",
       "0                             0.0                        0.0   \n",
       "2                             0.0                        0.0   \n",
       "5                             0.0                        1.0   \n",
       "6                             1.0                        1.0   \n",
       "7                             0.0                        0.0   \n",
       "...                           ...                        ...   \n",
       "307503                        1.0                        0.0   \n",
       "307505                        2.0                        0.0   \n",
       "307508                        1.0                        0.0   \n",
       "307509                        0.0                        0.0   \n",
       "307510                        2.0                        0.0   \n",
       "\n",
       "        AMT_REQ_CREDIT_BUREAU_YEAR  \n",
       "0                              1.0  \n",
       "2                              0.0  \n",
       "5                              1.0  \n",
       "6                              2.0  \n",
       "7                              0.0  \n",
       "...                            ...  \n",
       "307503                         2.0  \n",
       "307505                         0.0  \n",
       "307508                         1.0  \n",
       "307509                         0.0  \n",
       "307510                         1.0  \n",
       "\n",
       "[244280 rows x 61 columns]"
      ]
     },
     "execution_count": 61,
     "metadata": {},
     "output_type": "execute_result"
    }
   ],
   "source": [
    "df = df.drop(columns=cat)\n",
    "df"
   ]
  },
  {
   "cell_type": "code",
   "execution_count": 62,
   "metadata": {},
   "outputs": [
    {
     "data": {
      "text/html": [
       "<div>\n",
       "<style scoped>\n",
       "    .dataframe tbody tr th:only-of-type {\n",
       "        vertical-align: middle;\n",
       "    }\n",
       "\n",
       "    .dataframe tbody tr th {\n",
       "        vertical-align: top;\n",
       "    }\n",
       "\n",
       "    .dataframe thead th {\n",
       "        text-align: right;\n",
       "    }\n",
       "</style>\n",
       "<table border=\"1\" class=\"dataframe\">\n",
       "  <thead>\n",
       "    <tr style=\"text-align: right;\">\n",
       "      <th></th>\n",
       "      <th>SK_ID_CURR</th>\n",
       "      <th>TARGET</th>\n",
       "      <th>CNT_CHILDREN</th>\n",
       "      <th>AMT_INCOME_TOTAL</th>\n",
       "      <th>AMT_CREDIT</th>\n",
       "      <th>AMT_ANNUITY</th>\n",
       "      <th>AMT_GOODS_PRICE</th>\n",
       "      <th>REGION_POPULATION_RELATIVE</th>\n",
       "      <th>DAYS_BIRTH</th>\n",
       "      <th>DAYS_EMPLOYED</th>\n",
       "      <th>...</th>\n",
       "      <th>ORGANIZATION_TYPE_Trade: type 4</th>\n",
       "      <th>ORGANIZATION_TYPE_Trade: type 5</th>\n",
       "      <th>ORGANIZATION_TYPE_Trade: type 6</th>\n",
       "      <th>ORGANIZATION_TYPE_Trade: type 7</th>\n",
       "      <th>ORGANIZATION_TYPE_Transport: type 1</th>\n",
       "      <th>ORGANIZATION_TYPE_Transport: type 2</th>\n",
       "      <th>ORGANIZATION_TYPE_Transport: type 3</th>\n",
       "      <th>ORGANIZATION_TYPE_Transport: type 4</th>\n",
       "      <th>ORGANIZATION_TYPE_University</th>\n",
       "      <th>ORGANIZATION_TYPE_XNA</th>\n",
       "    </tr>\n",
       "  </thead>\n",
       "  <tbody>\n",
       "    <tr>\n",
       "      <th>0</th>\n",
       "      <td>100002</td>\n",
       "      <td>1</td>\n",
       "      <td>0</td>\n",
       "      <td>202500.0</td>\n",
       "      <td>406597.5</td>\n",
       "      <td>24700.5</td>\n",
       "      <td>351000.0</td>\n",
       "      <td>0.018801</td>\n",
       "      <td>-9461</td>\n",
       "      <td>-637</td>\n",
       "      <td>...</td>\n",
       "      <td>0</td>\n",
       "      <td>0</td>\n",
       "      <td>0</td>\n",
       "      <td>0</td>\n",
       "      <td>0</td>\n",
       "      <td>0</td>\n",
       "      <td>0</td>\n",
       "      <td>0</td>\n",
       "      <td>0</td>\n",
       "      <td>0</td>\n",
       "    </tr>\n",
       "    <tr>\n",
       "      <th>1</th>\n",
       "      <td>100004</td>\n",
       "      <td>0</td>\n",
       "      <td>0</td>\n",
       "      <td>67500.0</td>\n",
       "      <td>135000.0</td>\n",
       "      <td>6750.0</td>\n",
       "      <td>135000.0</td>\n",
       "      <td>0.010032</td>\n",
       "      <td>-19046</td>\n",
       "      <td>-225</td>\n",
       "      <td>...</td>\n",
       "      <td>0</td>\n",
       "      <td>0</td>\n",
       "      <td>0</td>\n",
       "      <td>0</td>\n",
       "      <td>0</td>\n",
       "      <td>0</td>\n",
       "      <td>0</td>\n",
       "      <td>0</td>\n",
       "      <td>0</td>\n",
       "      <td>0</td>\n",
       "    </tr>\n",
       "    <tr>\n",
       "      <th>2</th>\n",
       "      <td>100008</td>\n",
       "      <td>0</td>\n",
       "      <td>0</td>\n",
       "      <td>99000.0</td>\n",
       "      <td>490495.5</td>\n",
       "      <td>27517.5</td>\n",
       "      <td>454500.0</td>\n",
       "      <td>0.035792</td>\n",
       "      <td>-16941</td>\n",
       "      <td>-1588</td>\n",
       "      <td>...</td>\n",
       "      <td>0</td>\n",
       "      <td>0</td>\n",
       "      <td>0</td>\n",
       "      <td>0</td>\n",
       "      <td>0</td>\n",
       "      <td>0</td>\n",
       "      <td>0</td>\n",
       "      <td>0</td>\n",
       "      <td>0</td>\n",
       "      <td>0</td>\n",
       "    </tr>\n",
       "    <tr>\n",
       "      <th>3</th>\n",
       "      <td>100009</td>\n",
       "      <td>0</td>\n",
       "      <td>1</td>\n",
       "      <td>171000.0</td>\n",
       "      <td>1560726.0</td>\n",
       "      <td>41301.0</td>\n",
       "      <td>1395000.0</td>\n",
       "      <td>0.035792</td>\n",
       "      <td>-13778</td>\n",
       "      <td>-3130</td>\n",
       "      <td>...</td>\n",
       "      <td>0</td>\n",
       "      <td>0</td>\n",
       "      <td>0</td>\n",
       "      <td>0</td>\n",
       "      <td>0</td>\n",
       "      <td>0</td>\n",
       "      <td>0</td>\n",
       "      <td>0</td>\n",
       "      <td>0</td>\n",
       "      <td>0</td>\n",
       "    </tr>\n",
       "    <tr>\n",
       "      <th>4</th>\n",
       "      <td>100010</td>\n",
       "      <td>0</td>\n",
       "      <td>0</td>\n",
       "      <td>360000.0</td>\n",
       "      <td>1530000.0</td>\n",
       "      <td>42075.0</td>\n",
       "      <td>1530000.0</td>\n",
       "      <td>0.003122</td>\n",
       "      <td>-18850</td>\n",
       "      <td>-449</td>\n",
       "      <td>...</td>\n",
       "      <td>0</td>\n",
       "      <td>0</td>\n",
       "      <td>0</td>\n",
       "      <td>0</td>\n",
       "      <td>0</td>\n",
       "      <td>0</td>\n",
       "      <td>0</td>\n",
       "      <td>0</td>\n",
       "      <td>0</td>\n",
       "      <td>0</td>\n",
       "    </tr>\n",
       "  </tbody>\n",
       "</table>\n",
       "<p>5 rows × 165 columns</p>\n",
       "</div>"
      ],
      "text/plain": [
       "   SK_ID_CURR  TARGET  CNT_CHILDREN  AMT_INCOME_TOTAL  AMT_CREDIT  \\\n",
       "0      100002       1             0          202500.0    406597.5   \n",
       "1      100004       0             0           67500.0    135000.0   \n",
       "2      100008       0             0           99000.0    490495.5   \n",
       "3      100009       0             1          171000.0   1560726.0   \n",
       "4      100010       0             0          360000.0   1530000.0   \n",
       "\n",
       "   AMT_ANNUITY  AMT_GOODS_PRICE  REGION_POPULATION_RELATIVE  DAYS_BIRTH  \\\n",
       "0      24700.5         351000.0                    0.018801       -9461   \n",
       "1       6750.0         135000.0                    0.010032      -19046   \n",
       "2      27517.5         454500.0                    0.035792      -16941   \n",
       "3      41301.0        1395000.0                    0.035792      -13778   \n",
       "4      42075.0        1530000.0                    0.003122      -18850   \n",
       "\n",
       "   DAYS_EMPLOYED  ...  ORGANIZATION_TYPE_Trade: type 4  \\\n",
       "0           -637  ...                                0   \n",
       "1           -225  ...                                0   \n",
       "2          -1588  ...                                0   \n",
       "3          -3130  ...                                0   \n",
       "4           -449  ...                                0   \n",
       "\n",
       "   ORGANIZATION_TYPE_Trade: type 5  ORGANIZATION_TYPE_Trade: type 6  \\\n",
       "0                                0                                0   \n",
       "1                                0                                0   \n",
       "2                                0                                0   \n",
       "3                                0                                0   \n",
       "4                                0                                0   \n",
       "\n",
       "   ORGANIZATION_TYPE_Trade: type 7  ORGANIZATION_TYPE_Transport: type 1  \\\n",
       "0                                0                                    0   \n",
       "1                                0                                    0   \n",
       "2                                0                                    0   \n",
       "3                                0                                    0   \n",
       "4                                0                                    0   \n",
       "\n",
       "   ORGANIZATION_TYPE_Transport: type 2  ORGANIZATION_TYPE_Transport: type 3  \\\n",
       "0                                    0                                    0   \n",
       "1                                    0                                    0   \n",
       "2                                    0                                    0   \n",
       "3                                    0                                    0   \n",
       "4                                    0                                    0   \n",
       "\n",
       "   ORGANIZATION_TYPE_Transport: type 4  ORGANIZATION_TYPE_University  \\\n",
       "0                                    0                             0   \n",
       "1                                    0                             0   \n",
       "2                                    0                             0   \n",
       "3                                    0                             0   \n",
       "4                                    0                             0   \n",
       "\n",
       "   ORGANIZATION_TYPE_XNA  \n",
       "0                      0  \n",
       "1                      0  \n",
       "2                      0  \n",
       "3                      0  \n",
       "4                      0  \n",
       "\n",
       "[5 rows x 165 columns]"
      ]
     },
     "execution_count": 62,
     "metadata": {},
     "output_type": "execute_result"
    }
   ],
   "source": [
    "df = pd.concat([df.reset_index(drop=True),cols.reset_index(drop=True)], axis=1)\n",
    "df.head()"
   ]
  },
  {
   "cell_type": "code",
   "execution_count": 63,
   "metadata": {},
   "outputs": [
    {
     "data": {
      "text/plain": [
       "(244280, 165)"
      ]
     },
     "execution_count": 63,
     "metadata": {},
     "output_type": "execute_result"
    }
   ],
   "source": [
    "df.shape"
   ]
  },
  {
   "cell_type": "markdown",
   "metadata": {},
   "source": [
    "- [x] Encode the columns that is required for the model"
   ]
  },
  {
   "cell_type": "markdown",
   "metadata": {},
   "source": [
    "## Print percentage of default to payer of the dataset for the TARGET column"
   ]
  },
  {
   "cell_type": "code",
   "execution_count": 64,
   "metadata": {},
   "outputs": [
    {
     "name": "stdout",
     "output_type": "stream",
     "text": [
      "92.21% of people did not default on their loans.\n",
      "7.79% of people did default on their loans.\n"
     ]
    }
   ],
   "source": [
    "print(str(round(len(df[df.TARGET ==0])/len(df) *100, 2)) + '% of people did not default on their loans.')\n",
    "print(str(round(len(df[df.TARGET ==1])/len(df) *100, 2)) + '% of people did default on their loans.')"
   ]
  },
  {
   "cell_type": "markdown",
   "metadata": {},
   "source": [
    "- [x] Print percentage of default to payer of the dataset for the TARGET column"
   ]
  },
  {
   "cell_type": "markdown",
   "metadata": {},
   "source": [
    "## Plot the imbalanced dataset"
   ]
  },
  {
   "cell_type": "code",
   "execution_count": 65,
   "metadata": {},
   "outputs": [
    {
     "data": {
      "image/png": "[encoded data removed]",
      "text/plain": [
       "<Figure size 640x480 with 1 Axes>"
      ]
     },
     "metadata": {},
     "output_type": "display_data"
    }
   ],
   "source": [
    "fig = plt.figure()\n",
    "Default = ['Did not default', 'Defaulted']\n",
    "payers = [len(df[df.TARGET ==0]),len(df[df.TARGET ==1])]\n",
    "plt.bar(Default,payers)\n",
    "plt.show()"
   ]
  },
  {
   "cell_type": "markdown",
   "metadata": {},
   "source": [
    "## Balance the dataset if the data is imbalanced"
   ]
  },
  {
   "cell_type": "markdown",
   "metadata": {},
   "source": [
    "### We will run a very simple model to see if SMOTE improves the sensitivity of model"
   ]
  },
  {
   "cell_type": "code",
   "execution_count": 66,
   "metadata": {},
   "outputs": [],
   "source": [
    "X = df.drop(columns=['TARGET'], axis=0)\n",
    "y = df.TARGET"
   ]
  },
  {
   "cell_type": "code",
   "execution_count": 67,
   "metadata": {},
   "outputs": [],
   "source": [
    "from sklearn.model_selection import train_test_split\n",
    "X_train, X_test, y_train, y_test = train_test_split(X,y, test_size = .3)"
   ]
  },
  {
   "cell_type": "code",
   "execution_count": 68,
   "metadata": {},
   "outputs": [
    {
     "name": "stderr",
     "output_type": "stream",
     "text": [
      "C:\\Users\\jlod9\\anaconda3\\lib\\site-packages\\sklearn\\neighbors\\_classification.py:228: FutureWarning: Unlike other reduction functions (e.g. `skew`, `kurtosis`), the default behavior of `mode` typically preserves the axis it acts along. In SciPy 1.11.0, this behavior will change: the default value of `keepdims` will become False, the `axis` over which the statistic is taken will be eliminated, and the value None will no longer be accepted. Set `keepdims` to True or False to avoid this warning.\n",
      "  mode, _ = stats.mode(_y[neigh_ind, k], axis=1)\n"
     ]
    }
   ],
   "source": [
    "from sklearn.neighbors import KNeighborsClassifier\n",
    "model = KNeighborsClassifier()\n",
    "model.fit(X_train,y_train)\n",
    "y_predict = model.predict(X_test)"
   ]
  },
  {
   "cell_type": "code",
   "execution_count": 69,
   "metadata": {},
   "outputs": [
    {
     "name": "stdout",
     "output_type": "stream",
     "text": [
      "0.9159980350417554\n"
     ]
    },
    {
     "data": {
      "text/html": [
       "<div>\n",
       "<style scoped>\n",
       "    .dataframe tbody tr th:only-of-type {\n",
       "        vertical-align: middle;\n",
       "    }\n",
       "\n",
       "    .dataframe tbody tr th {\n",
       "        vertical-align: top;\n",
       "    }\n",
       "\n",
       "    .dataframe thead th {\n",
       "        text-align: right;\n",
       "    }\n",
       "</style>\n",
       "<table border=\"1\" class=\"dataframe\">\n",
       "  <thead>\n",
       "    <tr style=\"text-align: right;\">\n",
       "      <th>col_0</th>\n",
       "      <th>0</th>\n",
       "      <th>1</th>\n",
       "    </tr>\n",
       "    <tr>\n",
       "      <th>TARGET</th>\n",
       "      <th></th>\n",
       "      <th></th>\n",
       "    </tr>\n",
       "  </thead>\n",
       "  <tbody>\n",
       "    <tr>\n",
       "      <th>0</th>\n",
       "      <td>67059</td>\n",
       "      <td>478</td>\n",
       "    </tr>\n",
       "    <tr>\n",
       "      <th>1</th>\n",
       "      <td>5678</td>\n",
       "      <td>69</td>\n",
       "    </tr>\n",
       "  </tbody>\n",
       "</table>\n",
       "</div>"
      ],
      "text/plain": [
       "col_0       0    1\n",
       "TARGET            \n",
       "0       67059  478\n",
       "1        5678   69"
      ]
     },
     "execution_count": 69,
     "metadata": {},
     "output_type": "execute_result"
    }
   ],
   "source": [
    "from sklearn.metrics import accuracy_score, recall_score\n",
    "print(accuracy_score(y_test,y_predict))\n",
    "pd.crosstab(y_test,y_predict)"
   ]
  },
  {
   "cell_type": "code",
   "execution_count": 70,
   "metadata": {},
   "outputs": [
    {
     "name": "stdout",
     "output_type": "stream",
     "text": [
      "0.012006264137811033\n"
     ]
    }
   ],
   "source": [
    "rec1 = recall_score(y_test,y_predict)\n",
    "print(rec1)"
   ]
  },
  {
   "cell_type": "markdown",
   "metadata": {},
   "source": [
    "**This is a terrible recall value. This is because of our dataset is highly imbalanced**"
   ]
  },
  {
   "cell_type": "code",
   "execution_count": 71,
   "metadata": {},
   "outputs": [],
   "source": [
    "sm = SMOTE(random_state=42)"
   ]
  },
  {
   "cell_type": "code",
   "execution_count": 72,
   "metadata": {},
   "outputs": [],
   "source": [
    "X_train_smote, y_train_smote = sm.fit_resample(X_train,y_train)"
   ]
  },
  {
   "cell_type": "code",
   "execution_count": 73,
   "metadata": {},
   "outputs": [
    {
     "name": "stdout",
     "output_type": "stream",
     "text": [
      "Before SMOTE : Counter({0: 157711, 1: 13285})\n",
      "After SMOTE : Counter({0: 157711, 1: 157711})\n"
     ]
    }
   ],
   "source": [
    "from collections import Counter\n",
    "print(\"Before SMOTE :\" , Counter(y_train))\n",
    "print(\"After SMOTE :\" , Counter(y_train_smote))"
   ]
  },
  {
   "cell_type": "code",
   "execution_count": 74,
   "metadata": {},
   "outputs": [
    {
     "name": "stderr",
     "output_type": "stream",
     "text": [
      "C:\\Users\\jlod9\\anaconda3\\lib\\site-packages\\sklearn\\neighbors\\_classification.py:228: FutureWarning: Unlike other reduction functions (e.g. `skew`, `kurtosis`), the default behavior of `mode` typically preserves the axis it acts along. In SciPy 1.11.0, this behavior will change: the default value of `keepdims` will become False, the `axis` over which the statistic is taken will be eliminated, and the value None will no longer be accepted. Set `keepdims` to True or False to avoid this warning.\n",
      "  mode, _ = stats.mode(_y[neigh_ind, k], axis=1)\n"
     ]
    },
    {
     "name": "stdout",
     "output_type": "stream",
     "text": [
      "0.6867392609573714\n"
     ]
    },
    {
     "data": {
      "text/html": [
       "<div>\n",
       "<style scoped>\n",
       "    .dataframe tbody tr th:only-of-type {\n",
       "        vertical-align: middle;\n",
       "    }\n",
       "\n",
       "    .dataframe tbody tr th {\n",
       "        vertical-align: top;\n",
       "    }\n",
       "\n",
       "    .dataframe thead th {\n",
       "        text-align: right;\n",
       "    }\n",
       "</style>\n",
       "<table border=\"1\" class=\"dataframe\">\n",
       "  <thead>\n",
       "    <tr style=\"text-align: right;\">\n",
       "      <th>col_0</th>\n",
       "      <th>0</th>\n",
       "      <th>1</th>\n",
       "    </tr>\n",
       "    <tr>\n",
       "      <th>TARGET</th>\n",
       "      <th></th>\n",
       "      <th></th>\n",
       "    </tr>\n",
       "  </thead>\n",
       "  <tbody>\n",
       "    <tr>\n",
       "      <th>0</th>\n",
       "      <td>48446</td>\n",
       "      <td>19091</td>\n",
       "    </tr>\n",
       "    <tr>\n",
       "      <th>1</th>\n",
       "      <td>3866</td>\n",
       "      <td>1881</td>\n",
       "    </tr>\n",
       "  </tbody>\n",
       "</table>\n",
       "</div>"
      ],
      "text/plain": [
       "col_0       0      1\n",
       "TARGET              \n",
       "0       48446  19091\n",
       "1        3866   1881"
      ]
     },
     "execution_count": 74,
     "metadata": {},
     "output_type": "execute_result"
    }
   ],
   "source": [
    "model.fit(X_train_smote,y_train_smote)\n",
    "y_predict = model.predict(X_test)\n",
    "print(accuracy_score(y_test,y_predict))\n",
    "pd.crosstab(y_test,y_predict)"
   ]
  },
  {
   "cell_type": "code",
   "execution_count": 75,
   "metadata": {},
   "outputs": [
    {
     "name": "stdout",
     "output_type": "stream",
     "text": [
      "0.32730120062641377\n"
     ]
    }
   ],
   "source": [
    "rec2 = recall_score(y_test,y_predict)\n",
    "print(rec2)"
   ]
  },
  {
   "cell_type": "markdown",
   "metadata": {},
   "source": [
    "**This is a massive improvement on our dataset just by purely balancing the dataset**"
   ]
  },
  {
   "cell_type": "code",
   "execution_count": 76,
   "metadata": {},
   "outputs": [
    {
     "name": "stdout",
     "output_type": "stream",
     "text": [
      "We sacrifice accuracy for much better of recall.\n",
      "From about 1.2% up to 32.73%, using a very basic model with zero optimisation just comparison\n"
     ]
    }
   ],
   "source": [
    "print(\"We sacrifice accuracy for much better of recall.\\nFrom about \"+ str(round(rec1 * 100,2))+ \"% up to \"+ str(round(rec2 * 100,2)) + \"%, using a very basic model with zero optimisation just comparison\")"
   ]
  },
  {
   "cell_type": "code",
   "execution_count": 77,
   "metadata": {},
   "outputs": [],
   "source": [
    "X, y = sm.fit_resample(X,y)"
   ]
  },
  {
   "cell_type": "markdown",
   "metadata": {},
   "source": [
    "- [x] Balance the dataset if the data is imbalanced"
   ]
  },
  {
   "cell_type": "markdown",
   "metadata": {},
   "source": [
    "## Plot the balanced data"
   ]
  },
  {
   "cell_type": "code",
   "execution_count": 78,
   "metadata": {},
   "outputs": [
    {
     "name": "stdout",
     "output_type": "stream",
     "text": [
      "50.0% of people did not default on their loans.\n",
      "50.0% of people did default on their loans.\n"
     ]
    }
   ],
   "source": [
    "print(str(round(len(y[y ==0])/len(y) *100, 2)) + '% of people did not default on their loans.')\n",
    "print(str(round(len(y[y ==1])/len(y) *100, 2)) + '% of people did default on their loans.')"
   ]
  },
  {
   "cell_type": "code",
   "execution_count": 79,
   "metadata": {},
   "outputs": [
    {
     "data": {
      "image/png": "[encoded data removed]",
      "text/plain": [
       "<Figure size 640x480 with 1 Axes>"
      ]
     },
     "metadata": {},
     "output_type": "display_data"
    }
   ],
   "source": [
    "fig = plt.figure()\n",
    "Default = ['Did not default', 'Defaulted']\n",
    "payers = [len(y[y ==0]),len(y[y ==1])]\n",
    "plt.bar(Default,payers)\n",
    "plt.show()"
   ]
  },
  {
   "cell_type": "markdown",
   "metadata": {},
   "source": [
    "- [x] Plot the balanced data or imbalanced data"
   ]
  },
  {
   "cell_type": "markdown",
   "metadata": {},
   "source": [
    "- [x] <span style=\"color:green\">Check for null values in the dataset\n",
    "- [x] <span style=\"color:green\">Print percentage of default to payer of the dataset for the TARGET column\n",
    "- [x] <span style=\"color:green\">Encode the columns that is required for the model\n",
    "- [x] <span style=\"color:green\">Balance the dataset if the data is imbalanced\n",
    "- [x] <span style=\"color:green\">Plot the balanced data or imbalanced data"
   ]
  },
  {
   "cell_type": "markdown",
   "metadata": {},
   "source": [
    "### Normalizing the dataset"
   ]
  },
  {
   "cell_type": "code",
   "execution_count": 80,
   "metadata": {},
   "outputs": [],
   "source": [
    "import tensorflow as tf"
   ]
  },
  {
   "cell_type": "code",
   "execution_count": 81,
   "metadata": {},
   "outputs": [],
   "source": [
    "X_train, X_test, y_train, y_test = train_test_split(X,y, test_size = .3)"
   ]
  },
  {
   "cell_type": "code",
   "execution_count": 82,
   "metadata": {},
   "outputs": [],
   "source": [
    "X_train = tf.keras.utils.normalize(X_train, axis=1)\n",
    "X_test = tf.keras.utils.normalize(X_test, axis=1)"
   ]
  },
  {
   "cell_type": "code",
   "execution_count": 83,
   "metadata": {},
   "outputs": [
    {
     "data": {
      "text/plain": [
       "(315347, 164)"
      ]
     },
     "execution_count": 83,
     "metadata": {},
     "output_type": "execute_result"
    }
   ],
   "source": [
    "X_train.shape"
   ]
  },
  {
   "cell_type": "markdown",
   "metadata": {},
   "source": [
    "## Build a Deep Learning model prediction model\n",
    "\n",
    "- [ ] Calculate Sensitivity\n",
    "- [ ] Calculate area under receiver operating characteristics curve"
   ]
  },
  {
   "cell_type": "markdown",
   "metadata": {},
   "source": [
    "## First we select optimizer, loss function and metrics"
   ]
  },
  {
   "cell_type": "markdown",
   "metadata": {},
   "source": [
    "- **Optimizer:** **Adam** is a pretty popular Gradient Descent Method for optimzing so we will use this\n",
    "- **Loss Function:** As this is a binary classification deep learing model we choose **BinaryCrossentropy** as loss function. \n",
    "- **Metrics:** We are interested in sensitivity so we choose **Recall (other name for sensitivity)** as a metric. This makes sense as we want to maximize true positives as much as we can. We also choose **Area Under Curve** as this will make sure we don't sacrifice too much specificity for sensitivity."
   ]
  },
  {
   "cell_type": "code",
   "execution_count": 84,
   "metadata": {
    "scrolled": true
   },
   "outputs": [],
   "source": [
    "from keras.wrappers.scikit_learn import KerasClassifier\n",
    "from sklearn.model_selection import GridSearchCV\n",
    "from keras.models import Sequential\n",
    "from keras.layers import Dense, Activation, Dropout"
   ]
  },
  {
   "cell_type": "code",
   "execution_count": 85,
   "metadata": {},
   "outputs": [
    {
     "name": "stderr",
     "output_type": "stream",
     "text": [
      "C:\\Users\\jlod9\\AppData\\Local\\Temp\\ipykernel_18776\\1536958817.py:19: DeprecationWarning: KerasClassifier is deprecated, use Sci-Keras (https://github.com/adriangb/scikeras) instead. See https://www.adriangb.com/scikeras/stable/migration.html for help migrating.\n",
      "  model = KerasClassifier(build_fn=create_model, verbose=0)\n"
     ]
    }
   ],
   "source": [
    "def create_model(layers, activation):\n",
    "    model = Sequential()\n",
    "    for i, nodes in enumerate(layers):\n",
    "        if i==0:\n",
    "            model.add(Dense(nodes,input_dim=X_train.shape[1]))\n",
    "            model.add(Activation(activation))\n",
    "            model.add(Dropout(0.3))\n",
    "        else:\n",
    "            model.add(Dense(nodes))\n",
    "            model.add(Activation(activation))\n",
    "            model.add(Dropout(0.3))\n",
    "            \n",
    "    model.add(Dense(units = 1, kernel_initializer= 'glorot_uniform', activation = 'sigmoid'))\n",
    "    model.compile(optimizer='adagrad', \n",
    "                  loss = 'BinaryCrossentropy',\n",
    "                  metrics = [tf.keras.metrics.Recall(), tf.keras.metrics.AUC()])\n",
    "    return model\n",
    "    \n",
    "model = KerasClassifier(build_fn=create_model, verbose=0)"
   ]
  },
  {
   "cell_type": "markdown",
   "metadata": {},
   "source": [
    "<span style=\"color:green\">**While I was able to get results from using GridSearch I was actually able to get better performance just by trying manually. I commented the code out instead of deleting it because a computer with better GPU would definitely find it more useful than manual tuning**"
   ]
  },
  {
   "cell_type": "code",
   "execution_count": 86,
   "metadata": {},
   "outputs": [],
   "source": [
    "# layers = [[10], [64, 64, 64], [128, 128, 128, 128]]\n",
    "# activations = ['sigmoid', 'relu']\n",
    "# param_grid = dict(layers=layers, activation=activations, batch_size = [128, 256], epochs=[30])\n",
    "# grid = GridSearchCV(estimator=model, param_grid=param_grid, scoring='recall', cv=5)\n",
    "\n",
    "# grid_result = grid.fit(X_train, y_train)\n",
    "\n",
    "# [grid_result.best_score_,grid_result.best_params_]"
   ]
  },
  {
   "cell_type": "code",
   "execution_count": 87,
   "metadata": {},
   "outputs": [
    {
     "name": "stdout",
     "output_type": "stream",
     "text": [
      "Epoch 1/30\n",
      "2464/2464 [==============================] - 13s 4ms/step - loss: 0.6785 - recall: 0.5569 - auc: 0.5970 - val_loss: 0.6788 - val_recall: 0.7108 - val_auc: 0.6107\n",
      "Epoch 2/30\n",
      "2464/2464 [==============================] - 9s 4ms/step - loss: 0.6728 - recall: 0.5883 - auc: 0.6132 - val_loss: 0.6669 - val_recall: 0.6092 - val_auc: 0.6287\n",
      "Epoch 3/30\n",
      "2464/2464 [==============================] - 9s 4ms/step - loss: 0.6673 - recall: 0.6210 - auc: 0.6268 - val_loss: 0.6624 - val_recall: 0.5085 - val_auc: 0.6434\n",
      "Epoch 4/30\n",
      "2464/2464 [==============================] - 9s 4ms/step - loss: 0.6616 - recall: 0.6151 - auc: 0.6393 - val_loss: 0.6564 - val_recall: 0.5691 - val_auc: 0.6537\n",
      "Epoch 5/30\n",
      "2464/2464 [==============================] - 9s 4ms/step - loss: 0.6577 - recall: 0.5985 - auc: 0.6481 - val_loss: 0.6518 - val_recall: 0.6293 - val_auc: 0.6607\n",
      "Epoch 6/30\n",
      "2464/2464 [==============================] - 9s 4ms/step - loss: 0.6543 - recall: 0.6217 - auc: 0.6555 - val_loss: 0.6499 - val_recall: 0.6579 - val_auc: 0.6648\n",
      "Epoch 7/30\n",
      "2464/2464 [==============================] - 10s 4ms/step - loss: 0.6516 - recall: 0.6216 - auc: 0.6609 - val_loss: 0.6543 - val_recall: 0.5058 - val_auc: 0.6674\n",
      "Epoch 8/30\n",
      "2464/2464 [==============================] - 9s 4ms/step - loss: 0.6497 - recall: 0.6254 - auc: 0.6645 - val_loss: 0.6452 - val_recall: 0.6011 - val_auc: 0.6754\n",
      "Epoch 9/30\n",
      "2464/2464 [==============================] - 9s 4ms/step - loss: 0.6473 - recall: 0.6198 - auc: 0.6690 - val_loss: 0.6539 - val_recall: 0.4598 - val_auc: 0.6717\n",
      "Epoch 10/30\n",
      "2464/2464 [==============================] - 11s 4ms/step - loss: 0.6452 - recall: 0.6275 - auc: 0.6725 - val_loss: 0.6434 - val_recall: 0.7009 - val_auc: 0.6788\n",
      "Epoch 11/30\n",
      "2464/2464 [==============================] - 11s 4ms/step - loss: 0.6438 - recall: 0.6360 - auc: 0.6747 - val_loss: 0.6428 - val_recall: 0.5633 - val_auc: 0.6808\n",
      "Epoch 12/30\n",
      "2464/2464 [==============================] - 9s 4ms/step - loss: 0.6417 - recall: 0.6446 - auc: 0.6784 - val_loss: 0.6394 - val_recall: 0.6588 - val_auc: 0.6830\n",
      "Epoch 13/30\n",
      "2464/2464 [==============================] - 9s 4ms/step - loss: 0.6398 - recall: 0.6388 - auc: 0.6815 - val_loss: 0.6377 - val_recall: 0.6446 - val_auc: 0.6881\n",
      "Epoch 14/30\n",
      "2464/2464 [==============================] - 9s 4ms/step - loss: 0.6386 - recall: 0.6471 - auc: 0.6832 - val_loss: 0.6383 - val_recall: 0.5584 - val_auc: 0.6915\n",
      "Epoch 15/30\n",
      "2464/2464 [==============================] - 10s 4ms/step - loss: 0.6365 - recall: 0.6613 - auc: 0.6866 - val_loss: 0.6340 - val_recall: 0.6580 - val_auc: 0.6936\n",
      "Epoch 16/30\n",
      "2464/2464 [==============================] - 10s 4ms/step - loss: 0.6356 - recall: 0.6585 - auc: 0.6879 - val_loss: 0.6324 - val_recall: 0.6626 - val_auc: 0.6927\n",
      "Epoch 17/30\n",
      "2464/2464 [==============================] - 10s 4ms/step - loss: 0.6337 - recall: 0.6696 - auc: 0.6909 - val_loss: 0.6361 - val_recall: 0.6458 - val_auc: 0.6875\n",
      "Epoch 18/30\n",
      "2464/2464 [==============================] - 9s 4ms/step - loss: 0.6322 - recall: 0.6690 - auc: 0.6931 - val_loss: 0.6315 - val_recall: 0.7216 - val_auc: 0.6977\n",
      "Epoch 19/30\n",
      "2464/2464 [==============================] - 9s 4ms/step - loss: 0.6307 - recall: 0.6797 - auc: 0.6953 - val_loss: 0.6307 - val_recall: 0.6302 - val_auc: 0.7003\n",
      "Epoch 20/30\n",
      "2464/2464 [==============================] - 10s 4ms/step - loss: 0.6293 - recall: 0.6768 - auc: 0.6973 - val_loss: 0.6321 - val_recall: 0.6927 - val_auc: 0.6962\n",
      "Epoch 21/30\n",
      "2464/2464 [==============================] - 9s 4ms/step - loss: 0.6276 - recall: 0.6743 - auc: 0.6998 - val_loss: 0.6236 - val_recall: 0.6845 - val_auc: 0.7075\n",
      "Epoch 22/30\n",
      "2464/2464 [==============================] - 10s 4ms/step - loss: 0.6268 - recall: 0.6719 - auc: 0.7011 - val_loss: 0.6250 - val_recall: 0.7139 - val_auc: 0.7067\n",
      "Epoch 23/30\n",
      "2464/2464 [==============================] - 9s 4ms/step - loss: 0.6254 - recall: 0.6844 - auc: 0.7031 - val_loss: 0.6239 - val_recall: 0.7058 - val_auc: 0.7077\n",
      "Epoch 24/30\n",
      "2464/2464 [==============================] - 9s 4ms/step - loss: 0.6236 - recall: 0.6793 - auc: 0.7058 - val_loss: 0.6252 - val_recall: 0.6907 - val_auc: 0.7035\n",
      "Epoch 25/30\n",
      "2464/2464 [==============================] - 9s 4ms/step - loss: 0.6228 - recall: 0.6828 - auc: 0.7070 - val_loss: 0.6252 - val_recall: 0.7511 - val_auc: 0.7103\n",
      "Epoch 26/30\n",
      "2464/2464 [==============================] - 9s 4ms/step - loss: 0.6217 - recall: 0.6776 - auc: 0.7085 - val_loss: 0.6226 - val_recall: 0.6285 - val_auc: 0.7099\n",
      "Epoch 27/30\n",
      "2464/2464 [==============================] - 10s 4ms/step - loss: 0.6204 - recall: 0.6858 - auc: 0.7103 - val_loss: 0.6154 - val_recall: 0.6908 - val_auc: 0.7171\n",
      "Epoch 28/30\n",
      "2464/2464 [==============================] - 10s 4ms/step - loss: 0.6190 - recall: 0.6792 - auc: 0.7120 - val_loss: 0.6181 - val_recall: 0.6204 - val_auc: 0.7156\n",
      "Epoch 29/30\n",
      "2464/2464 [==============================] - 9s 4ms/step - loss: 0.6185 - recall: 0.6880 - auc: 0.7126 - val_loss: 0.6218 - val_recall: 0.7211 - val_auc: 0.7095\n",
      "Epoch 30/30\n",
      "2464/2464 [==============================] - 10s 4ms/step - loss: 0.6171 - recall: 0.6870 - auc: 0.7146 - val_loss: 0.6164 - val_recall: 0.6772 - val_auc: 0.7176\n"
     ]
    },
    {
     "data": {
      "text/plain": [
       "<keras.callbacks.History at 0x16786e00fd0>"
      ]
     },
     "execution_count": 87,
     "metadata": {},
     "output_type": "execute_result"
    }
   ],
   "source": [
    "model = tf.keras.models.Sequential()\n",
    "model.add(tf.keras.layers.Flatten())           \n",
    "model.add(tf.keras.layers.Dense(64, activation = tf.nn.relu))\n",
    "model.add(tf.keras.layers.Dense(64, activation = tf.nn.relu))\n",
    "model.add(tf.keras.layers.Dense(64, activation = tf.nn.relu))\n",
    "model.add(tf.keras.layers.Dense(64, activation = tf.nn.relu))\n",
    "model.add(tf.keras.layers.Dense(64, activation = tf.nn.relu))\n",
    "model.add(tf.keras.layers.Dense(64, activation = tf.nn.relu))\n",
    "model.add(tf.keras.layers.Dense(64, activation = tf.nn.relu))\n",
    "model.add(tf.keras.layers.Dense(1, activation = 'sigmoid'))\n",
    "\n",
    "model.compile(optimizer='adam', loss = 'BinaryCrossentropy',metrics = [tf.keras.metrics.Recall(), tf.keras.metrics.AUC()]) \n",
    "\n",
    "model.fit(X_train, y_train, epochs = 30, validation_data = (X_test, y_test), batch_size=128)"
   ]
  },
  {
   "cell_type": "code",
   "execution_count": 88,
   "metadata": {},
   "outputs": [
    {
     "name": "stdout",
     "output_type": "stream",
     "text": [
      "1056/1056 [==============================] - 2s 2ms/step - loss: 0.6164 - recall: 0.6772 - auc: 0.7176\n",
      "4224/4224 [==============================] - 7s 2ms/step - loss: 0.6164 - recall: 0.6772 - auc: 0.7176\n"
     ]
    }
   ],
   "source": [
    "score = model.evaluate(X_test, y_test,batch_size=128)\n",
    "val_loss, val_sensitivity, AUC = model.evaluate(X_test, y_test)"
   ]
  },
  {
   "cell_type": "code",
   "execution_count": 89,
   "metadata": {},
   "outputs": [
    {
     "name": "stdout",
     "output_type": "stream",
     "text": [
      "test loss: 0.6163849830627441 \n",
      "test sensitivity: 0.6771889925003052\n"
     ]
    }
   ],
   "source": [
    "print(\"test loss:\",str(val_loss),\"\\ntest sensitivity:\", str(val_sensitivity))"
   ]
  },
  {
   "cell_type": "code",
   "execution_count": 90,
   "metadata": {},
   "outputs": [],
   "source": [
    "from sklearn.metrics import confusion_matrix, classification_report, roc_curve"
   ]
  },
  {
   "cell_type": "code",
   "execution_count": 96,
   "metadata": {},
   "outputs": [
    {
     "name": "stdout",
     "output_type": "stream",
     "text": [
      "4224/4224 [==============================] - 5s 1ms/step\n",
      "[[67515     0]\n",
      " [67634     0]] \n",
      "               precision    recall  f1-score   support\n",
      "\n",
      "           0       0.50      1.00      0.67     67515\n",
      "           1       0.00      0.00      0.00     67634\n",
      "\n",
      "    accuracy                           0.50    135149\n",
      "   macro avg       0.25      0.50      0.33    135149\n",
      "weighted avg       0.25      0.50      0.33    135149\n",
      "\n"
     ]
    },
    {
     "name": "stderr",
     "output_type": "stream",
     "text": [
      "C:\\Users\\jlod9\\anaconda3\\lib\\site-packages\\sklearn\\metrics\\_classification.py:1318: UndefinedMetricWarning: Precision and F-score are ill-defined and being set to 0.0 in labels with no predicted samples. Use `zero_division` parameter to control this behavior.\n",
      "  _warn_prf(average, modifier, msg_start, len(result))\n",
      "C:\\Users\\jlod9\\anaconda3\\lib\\site-packages\\sklearn\\metrics\\_classification.py:1318: UndefinedMetricWarning: Precision and F-score are ill-defined and being set to 0.0 in labels with no predicted samples. Use `zero_division` parameter to control this behavior.\n",
      "  _warn_prf(average, modifier, msg_start, len(result))\n",
      "C:\\Users\\jlod9\\anaconda3\\lib\\site-packages\\sklearn\\metrics\\_classification.py:1318: UndefinedMetricWarning: Precision and F-score are ill-defined and being set to 0.0 in labels with no predicted samples. Use `zero_division` parameter to control this behavior.\n",
      "  _warn_prf(average, modifier, msg_start, len(result))\n"
     ]
    }
   ],
   "source": [
    "predict_x=model.predict(X_test) \n",
    "classes_x=np.argmax(predict_x,axis=1)\n",
    "\n",
    "print(\n",
    "        confusion_matrix(y_test,classes_x), \n",
    "        '\\n', \n",
    "        classification_report(y_test,classes_x)\n",
    ")"
   ]
  },
  {
   "cell_type": "markdown",
   "metadata": {},
   "source": [
    "## Calculate Sensitivity as a metrice"
   ]
  },
  {
   "cell_type": "markdown",
   "metadata": {},
   "source": [
    "It makes sense that we would be interested in Sensitivity as we want to catch as many load defaulters as possible, i.e. catch as many true positives as possible"
   ]
  },
  {
   "cell_type": "code",
   "execution_count": 97,
   "metadata": {},
   "outputs": [
    {
     "name": "stdout",
     "output_type": "stream",
     "text": [
      "The model calculates a sensitivity of 0.6771889925003052\n"
     ]
    }
   ],
   "source": [
    "print(\"The model calculates a sensitivity of\", val_sensitivity)"
   ]
  },
  {
   "cell_type": "markdown",
   "metadata": {},
   "source": [
    "- [x] Calculate Sensitivity"
   ]
  },
  {
   "cell_type": "markdown",
   "metadata": {},
   "source": [
    "##  Calculate area under receiver operating characteristics curve"
   ]
  },
  {
   "cell_type": "markdown",
   "metadata": {},
   "source": [
    "We will first visulize the curve, including the baseline. This baseline shows us what the curve would be if we made a 50/50 guess whether a payer would default "
   ]
  },
  {
   "cell_type": "code",
   "execution_count": 98,
   "metadata": {},
   "outputs": [],
   "source": [
    "fpr, tpr, thresholds = roc_curve(y_test, predictions)"
   ]
  },
  {
   "cell_type": "code",
   "execution_count": 99,
   "metadata": {},
   "outputs": [
    {
     "data": {
      "image/png": "[encoded data removed]",
      "text/plain": [
       "<Figure size 1000x700 with 1 Axes>"
      ]
     },
     "metadata": {},
     "output_type": "display_data"
    }
   ],
   "source": [
    "fig, ax = plt.subplots(figsize=(10,7))\n",
    "ax.plot(fpr, tpr)\n",
    "ax.plot(np.linspace(0, 1, 100),\n",
    "         np.linspace(0, 1, 100),\n",
    "         label='baseline',\n",
    "         linestyle='--')\n",
    "plt.title('Receiver Operating Characteristic Curve', fontsize=18)\n",
    "plt.ylabel('TPR', fontsize=16)\n",
    "plt.xlabel('FPR', fontsize=16)\n",
    "plt.legend(fontsize=12);"
   ]
  },
  {
   "cell_type": "markdown",
   "metadata": {},
   "source": [
    "An ROC curve (receiver operating characteristic curve) is a graph showing the performance of a classification model at all classification thresholds. This curve plots two parameters:\n",
    "\n",
    "- True Positive Rate (TPR)\n",
    "- False Positive Rate (FPR)"
   ]
  },
  {
   "cell_type": "markdown",
   "metadata": {},
   "source": [
    "AUC (Area Under Curve) provides an aggregate measure of performance across all possible classification thresholds."
   ]
  },
  {
   "cell_type": "code",
   "execution_count": 100,
   "metadata": {},
   "outputs": [
    {
     "name": "stdout",
     "output_type": "stream",
     "text": [
      "The model calculates an Area Under the Receiver Operating Characterisitcs curve of 0.7175995111465454\n"
     ]
    }
   ],
   "source": [
    "print(\"The model calculates an Area Under the Receiver Operating Characterisitcs curve of\", AUC)"
   ]
  },
  {
   "cell_type": "markdown",
   "metadata": {},
   "source": [
    "- [x] Calculate area under receiver operating characteristics curve"
   ]
  },
  {
   "cell_type": "markdown",
   "metadata": {},
   "source": [
    "- [x] <span style=\"color:green\">Calculate Sensitivity\n",
    "- [x] <span style=\"color:green\">Calculate area under receiver operating characteristics curve"
   ]
  },
  {
   "cell_type": "code",
   "execution_count": null,
   "metadata": {},
   "outputs": [],
   "source": []
  },
  {
   "cell_type": "code",
   "execution_count": null,
   "metadata": {},
   "outputs": [],
   "source": []
  }
 ],
 "metadata": {
  "kernelspec": {
   "display_name": "Python 3 (ipykernel)",
   "language": "python",
   "name": "python3"
  },
  "language_info": {
   "codemirror_mode": {
    "name": "ipython",
    "version": 3
   },
   "file_extension": ".py",
   "mimetype": "text/x-python",
   "name": "python",
   "nbconvert_exporter": "python",
   "pygments_lexer": "ipython3",
   "version": "3.9.13"
  }
 },
 "nbformat": 4,
 "nbformat_minor": 2
}
