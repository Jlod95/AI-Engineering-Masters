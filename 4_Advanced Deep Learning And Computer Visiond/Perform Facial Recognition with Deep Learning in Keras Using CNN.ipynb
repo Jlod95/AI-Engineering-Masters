{
 "cells": [
  {
   "cell_type": "markdown",
   "metadata": {},
   "source": [
    "# 1. Input the required libraries"
   ]
  },
  {
   "cell_type": "code",
   "execution_count": 2,
   "metadata": {},
   "outputs": [],
   "source": [
    "import pandas as pd\n",
    "import numpy as np\n",
    "import matplotlib.pyplot as plt\n",
    "import tensorflow as tf\n",
    "import keras"
   ]
  },
  {
   "cell_type": "markdown",
   "metadata": {},
   "source": [
    "# 2. Load the dataset after loading the dataset, you have to normalize every image."
   ]
  },
  {
   "cell_type": "code",
   "execution_count": 3,
   "metadata": {
    "scrolled": true
   },
   "outputs": [
    {
     "name": "stdout",
     "output_type": "stream",
     "text": [
      "['testY', 'testX', 'trainX', 'trainY']\n"
     ]
    }
   ],
   "source": [
    "# load dataset\n",
    "df = np.load('ORL_faces.npz')\n",
    "print(df.files) # dataset came split into test and train datasets"
   ]
  },
  {
   "cell_type": "code",
   "execution_count": 4,
   "metadata": {},
   "outputs": [
    {
     "name": "stdout",
     "output_type": "stream",
     "text": [
      "(160, 10304) (160,) (240, 10304) (240,)\n"
     ]
    }
   ],
   "source": [
    "X_test = df['testX']\n",
    "y_test = df['testY']\n",
    "X_train = df['trainX']\n",
    "y_train = df['trainY']\n",
    "print(X_test.shape, y_test.shape, X_train.shape, y_train.shape)"
   ]
  },
  {
   "cell_type": "code",
   "execution_count": 5,
   "metadata": {},
   "outputs": [
    {
     "name": "stdout",
     "output_type": "stream",
     "text": [
      "(240, 10304) (160, 10304)\n"
     ]
    }
   ],
   "source": [
    "# range is 0 and 255 so we divide by 255 to get range of 0 and 1\n",
    "X_train = X_train/255\n",
    "X_test = X_test/255\n",
    "print(X_train.shape,X_test.shape)"
   ]
  },
  {
   "cell_type": "markdown",
   "metadata": {},
   "source": [
    "# 3. Split the dataset\n",
    "#### We have been given the data split into train and test but we need to further split this to include a validation dataset so we can tune the hyperparameters of our classifier "
   ]
  },
  {
   "cell_type": "code",
   "execution_count": 6,
   "metadata": {},
   "outputs": [
    {
     "name": "stdout",
     "output_type": "stream",
     "text": [
      "(216, 10304) (24, 10304) (216,) (24,)\n"
     ]
    }
   ],
   "source": [
    "from sklearn.model_selection import train_test_split\n",
    "X_train, X_valid, y_train, y_valid = train_test_split(X_train,y_train,test_size=0.1)\n",
    "print(X_train.shape, X_valid.shape, y_train.shape, y_valid.shape)"
   ]
  },
  {
   "cell_type": "markdown",
   "metadata": {},
   "source": [
    "# 4. Transform the images to equal sizes to feed in CNN"
   ]
  },
  {
   "cell_type": "code",
   "execution_count": 7,
   "metadata": {},
   "outputs": [
    {
     "name": "stdout",
     "output_type": "stream",
     "text": [
      "10304 10304 10304\n"
     ]
    }
   ],
   "source": [
    "# It is the second value in the shape that is being reshaped so we must know what this value is first\n",
    "print(X_train.shape[1],\n",
    "X_test.shape[1], \n",
    "X_valid.shape[1]) # confirm correct shape for each"
   ]
  },
  {
   "cell_type": "code",
   "execution_count": 8,
   "metadata": {},
   "outputs": [],
   "source": [
    "# We decide on the length and width with the first number being the rows and the second the columns\n",
    "# we choose dimensions that are factors of 10304 to make this possible\n",
    "im_shape = (112,92,1)"
   ]
  },
  {
   "cell_type": "code",
   "execution_count": 9,
   "metadata": {},
   "outputs": [
    {
     "name": "stdout",
     "output_type": "stream",
     "text": [
      "(216, 112, 92, 1) (24, 112, 92, 1) (160, 112, 92, 1)\n"
     ]
    }
   ],
   "source": [
    "# Reshape into 4 dimensions\n",
    "X_train = X_train.reshape(X_train.shape[0],*im_shape)\n",
    "X_test = X_test.reshape(X_test.shape[0],*im_shape)\n",
    "X_valid = X_valid.reshape(X_valid.shape[0],*im_shape)\n",
    "print(X_train.shape, X_valid.shape, X_test.shape)"
   ]
  },
  {
   "cell_type": "markdown",
   "metadata": {},
   "source": [
    "# 5. Build a CNN model that has 3 main layers & 6. Train the Model"
   ]
  },
  {
   "cell_type": "code",
   "execution_count": 10,
   "metadata": {},
   "outputs": [],
   "source": [
    "from keras.models import Sequential\n",
    "from keras.layers import Conv2D, MaxPooling2D, Dense, Dropout, Flatten, LeakyReLU, PReLU\n",
    "from keras.optimizers import Adam"
   ]
  },
  {
   "cell_type": "code",
   "execution_count": 11,
   "metadata": {},
   "outputs": [],
   "source": [
    "# import activation functions\n",
    "from tensorflow.keras.activations import sigmoid, tanh, relu, elu\n",
    "leaky_relu = LeakyReLU(alpha=0.01)\n",
    "para_relu = PReLU()"
   ]
  },
  {
   "cell_type": "code",
   "execution_count": 12,
   "metadata": {},
   "outputs": [],
   "source": [
    "# define some parameters here to save time while manually tuning\n",
    "activation = leaky_relu\n",
    "Drop = 0.5"
   ]
  },
  {
   "cell_type": "code",
   "execution_count": 13,
   "metadata": {},
   "outputs": [
    {
     "name": "stdout",
     "output_type": "stream",
     "text": [
      "Epoch 1/90\n",
      "7/7 - 10s - loss: 4.2585 - accuracy: 0.0370 - val_loss: 4.1036 - val_accuracy: 0.0000e+00 - 10s/epoch - 1s/step\n",
      "Epoch 2/90\n",
      "7/7 - 7s - loss: 4.0249 - accuracy: 0.0324 - val_loss: 3.8806 - val_accuracy: 0.0000e+00 - 7s/epoch - 963ms/step\n",
      "Epoch 3/90\n",
      "7/7 - 6s - loss: 3.8835 - accuracy: 0.0370 - val_loss: 3.7913 - val_accuracy: 0.0000e+00 - 6s/epoch - 918ms/step\n",
      "Epoch 4/90\n",
      "7/7 - 7s - loss: 3.7299 - accuracy: 0.0694 - val_loss: 3.5897 - val_accuracy: 0.0000e+00 - 7s/epoch - 931ms/step\n",
      "Epoch 5/90\n",
      "7/7 - 6s - loss: 3.5483 - accuracy: 0.0509 - val_loss: 3.6165 - val_accuracy: 0.0000e+00 - 6s/epoch - 915ms/step\n",
      "Epoch 6/90\n",
      "7/7 - 6s - loss: 3.5867 - accuracy: 0.0417 - val_loss: 3.5192 - val_accuracy: 0.0000e+00 - 6s/epoch - 906ms/step\n",
      "Epoch 7/90\n",
      "7/7 - 7s - loss: 3.4421 - accuracy: 0.0509 - val_loss: 3.4734 - val_accuracy: 0.0000e+00 - 7s/epoch - 949ms/step\n",
      "Epoch 8/90\n",
      "7/7 - 7s - loss: 3.3673 - accuracy: 0.0556 - val_loss: 3.2984 - val_accuracy: 0.0000e+00 - 7s/epoch - 999ms/step\n",
      "Epoch 9/90\n",
      "7/7 - 7s - loss: 3.3420 - accuracy: 0.0556 - val_loss: 3.3129 - val_accuracy: 0.0000e+00 - 7s/epoch - 992ms/step\n",
      "Epoch 10/90\n",
      "7/7 - 7s - loss: 3.3891 - accuracy: 0.0463 - val_loss: 3.3357 - val_accuracy: 0.0000e+00 - 7s/epoch - 1s/step\n",
      "Epoch 11/90\n",
      "7/7 - 7s - loss: 3.2552 - accuracy: 0.0556 - val_loss: 3.1948 - val_accuracy: 0.0833 - 7s/epoch - 1s/step\n",
      "Epoch 12/90\n",
      "7/7 - 7s - loss: 3.2540 - accuracy: 0.0602 - val_loss: 3.1075 - val_accuracy: 0.0833 - 7s/epoch - 937ms/step\n",
      "Epoch 13/90\n",
      "7/7 - 6s - loss: 3.0999 - accuracy: 0.0880 - val_loss: 2.9973 - val_accuracy: 0.2083 - 6s/epoch - 916ms/step\n",
      "Epoch 14/90\n",
      "7/7 - 6s - loss: 3.0815 - accuracy: 0.0741 - val_loss: 2.9460 - val_accuracy: 0.1250 - 6s/epoch - 919ms/step\n",
      "Epoch 15/90\n",
      "7/7 - 6s - loss: 2.9213 - accuracy: 0.1435 - val_loss: 2.6998 - val_accuracy: 0.3333 - 6s/epoch - 899ms/step\n",
      "Epoch 16/90\n",
      "7/7 - 6s - loss: 2.7832 - accuracy: 0.1806 - val_loss: 2.6822 - val_accuracy: 0.2083 - 6s/epoch - 890ms/step\n",
      "Epoch 17/90\n",
      "7/7 - 6s - loss: 2.6474 - accuracy: 0.2361 - val_loss: 2.3606 - val_accuracy: 0.3750 - 6s/epoch - 898ms/step\n",
      "Epoch 18/90\n",
      "7/7 - 6s - loss: 2.4459 - accuracy: 0.2176 - val_loss: 2.1104 - val_accuracy: 0.3750 - 6s/epoch - 908ms/step\n",
      "Epoch 19/90\n",
      "7/7 - 6s - loss: 2.2871 - accuracy: 0.2500 - val_loss: 2.0957 - val_accuracy: 0.4583 - 6s/epoch - 914ms/step\n",
      "Epoch 20/90\n",
      "7/7 - 6s - loss: 2.1574 - accuracy: 0.3380 - val_loss: 1.8185 - val_accuracy: 0.4167 - 6s/epoch - 907ms/step\n",
      "Epoch 21/90\n",
      "7/7 - 6s - loss: 2.1151 - accuracy: 0.3194 - val_loss: 1.8573 - val_accuracy: 0.5833 - 6s/epoch - 920ms/step\n",
      "Epoch 22/90\n",
      "7/7 - 7s - loss: 2.0227 - accuracy: 0.3472 - val_loss: 1.6119 - val_accuracy: 0.5000 - 7s/epoch - 1s/step\n",
      "Epoch 23/90\n",
      "7/7 - 7s - loss: 1.6086 - accuracy: 0.4769 - val_loss: 1.4370 - val_accuracy: 0.5833 - 7s/epoch - 1s/step\n",
      "Epoch 24/90\n",
      "7/7 - 8s - loss: 1.7601 - accuracy: 0.4259 - val_loss: 1.4965 - val_accuracy: 0.7083 - 8s/epoch - 1s/step\n",
      "Epoch 25/90\n",
      "7/7 - 8s - loss: 1.5806 - accuracy: 0.5185 - val_loss: 1.3726 - val_accuracy: 0.6250 - 8s/epoch - 1s/step\n",
      "Epoch 26/90\n",
      "7/7 - 7s - loss: 1.6304 - accuracy: 0.5046 - val_loss: 1.3256 - val_accuracy: 0.6250 - 7s/epoch - 1s/step\n",
      "Epoch 27/90\n",
      "7/7 - 7s - loss: 1.4910 - accuracy: 0.5139 - val_loss: 1.1788 - val_accuracy: 0.6250 - 7s/epoch - 1s/step\n",
      "Epoch 28/90\n",
      "7/7 - 7s - loss: 1.3399 - accuracy: 0.5926 - val_loss: 1.0888 - val_accuracy: 0.7917 - 7s/epoch - 995ms/step\n",
      "Epoch 29/90\n",
      "7/7 - 7s - loss: 1.3612 - accuracy: 0.5694 - val_loss: 1.0017 - val_accuracy: 0.7500 - 7s/epoch - 1s/step\n",
      "Epoch 30/90\n",
      "7/7 - 8s - loss: 1.3543 - accuracy: 0.5509 - val_loss: 1.0219 - val_accuracy: 0.7917 - 8s/epoch - 1s/step\n",
      "Epoch 31/90\n",
      "7/7 - 7s - loss: 1.2662 - accuracy: 0.6111 - val_loss: 0.9844 - val_accuracy: 0.8333 - 7s/epoch - 1s/step\n",
      "Epoch 32/90\n",
      "7/7 - 7s - loss: 1.0254 - accuracy: 0.6667 - val_loss: 0.7285 - val_accuracy: 0.8750 - 7s/epoch - 1s/step\n",
      "Epoch 33/90\n",
      "7/7 - 7s - loss: 1.1566 - accuracy: 0.6296 - val_loss: 0.7197 - val_accuracy: 0.8750 - 7s/epoch - 992ms/step\n",
      "Epoch 34/90\n",
      "7/7 - 6s - loss: 0.9482 - accuracy: 0.7037 - val_loss: 0.6867 - val_accuracy: 0.8333 - 6s/epoch - 893ms/step\n",
      "Epoch 35/90\n",
      "7/7 - 6s - loss: 0.9232 - accuracy: 0.6852 - val_loss: 0.7461 - val_accuracy: 0.8333 - 6s/epoch - 891ms/step\n",
      "Epoch 36/90\n",
      "7/7 - 6s - loss: 0.8036 - accuracy: 0.7593 - val_loss: 0.6405 - val_accuracy: 0.8750 - 6s/epoch - 902ms/step\n",
      "Epoch 37/90\n",
      "7/7 - 7s - loss: 0.8990 - accuracy: 0.7407 - val_loss: 0.5554 - val_accuracy: 0.9167 - 7s/epoch - 973ms/step\n",
      "Epoch 38/90\n",
      "7/7 - 7s - loss: 0.7359 - accuracy: 0.7500 - val_loss: 0.5035 - val_accuracy: 0.9167 - 7s/epoch - 1s/step\n",
      "Epoch 39/90\n",
      "7/7 - 7s - loss: 0.9305 - accuracy: 0.7222 - val_loss: 0.5183 - val_accuracy: 0.9167 - 7s/epoch - 988ms/step\n",
      "Epoch 40/90\n",
      "7/7 - 7s - loss: 0.6407 - accuracy: 0.8009 - val_loss: 0.4785 - val_accuracy: 0.8750 - 7s/epoch - 1s/step\n",
      "Epoch 41/90\n",
      "7/7 - 7s - loss: 0.7472 - accuracy: 0.7454 - val_loss: 0.4185 - val_accuracy: 0.8750 - 7s/epoch - 1s/step\n",
      "Epoch 42/90\n",
      "7/7 - 7s - loss: 0.7621 - accuracy: 0.7546 - val_loss: 0.3897 - val_accuracy: 0.9167 - 7s/epoch - 1s/step\n",
      "Epoch 43/90\n",
      "7/7 - 7s - loss: 0.7192 - accuracy: 0.8009 - val_loss: 0.3532 - val_accuracy: 0.9167 - 7s/epoch - 1s/step\n",
      "Epoch 44/90\n",
      "7/7 - 7s - loss: 0.7563 - accuracy: 0.7500 - val_loss: 0.3521 - val_accuracy: 0.9583 - 7s/epoch - 1s/step\n",
      "Epoch 45/90\n",
      "7/7 - 7s - loss: 0.5772 - accuracy: 0.7963 - val_loss: 0.2861 - val_accuracy: 0.9167 - 7s/epoch - 981ms/step\n",
      "Epoch 46/90\n",
      "7/7 - 8s - loss: 0.5981 - accuracy: 0.8472 - val_loss: 0.2708 - val_accuracy: 0.9583 - 8s/epoch - 1s/step\n",
      "Epoch 47/90\n",
      "7/7 - 7s - loss: 0.4941 - accuracy: 0.8194 - val_loss: 0.2707 - val_accuracy: 0.9583 - 7s/epoch - 985ms/step\n",
      "Epoch 48/90\n",
      "7/7 - 6s - loss: 0.6993 - accuracy: 0.8102 - val_loss: 0.3118 - val_accuracy: 0.8750 - 6s/epoch - 869ms/step\n",
      "Epoch 49/90\n",
      "7/7 - 6s - loss: 0.5014 - accuracy: 0.8472 - val_loss: 0.2443 - val_accuracy: 0.9583 - 6s/epoch - 909ms/step\n",
      "Epoch 50/90\n",
      "7/7 - 7s - loss: 0.5769 - accuracy: 0.7963 - val_loss: 0.2122 - val_accuracy: 0.9583 - 7s/epoch - 965ms/step\n",
      "Epoch 51/90\n",
      "7/7 - 9s - loss: 0.4732 - accuracy: 0.8565 - val_loss: 0.1853 - val_accuracy: 0.9583 - 9s/epoch - 1s/step\n",
      "Epoch 52/90\n",
      "7/7 - 8s - loss: 0.4083 - accuracy: 0.8519 - val_loss: 0.1407 - val_accuracy: 0.9583 - 8s/epoch - 1s/step\n",
      "Epoch 53/90\n",
      "7/7 - 8s - loss: 0.3449 - accuracy: 0.8935 - val_loss: 0.1256 - val_accuracy: 1.0000 - 8s/epoch - 1s/step\n",
      "Epoch 54/90\n",
      "7/7 - 7s - loss: 0.4395 - accuracy: 0.8611 - val_loss: 0.1560 - val_accuracy: 1.0000 - 7s/epoch - 1s/step\n",
      "Epoch 55/90\n",
      "7/7 - 7s - loss: 0.3614 - accuracy: 0.8935 - val_loss: 0.1591 - val_accuracy: 0.9583 - 7s/epoch - 972ms/step\n",
      "Epoch 56/90\n",
      "7/7 - 7s - loss: 0.3845 - accuracy: 0.8750 - val_loss: 0.1299 - val_accuracy: 0.9583 - 7s/epoch - 956ms/step\n",
      "Epoch 57/90\n",
      "7/7 - 7s - loss: 0.3765 - accuracy: 0.9028 - val_loss: 0.1412 - val_accuracy: 0.9583 - 7s/epoch - 1s/step\n",
      "Epoch 58/90\n",
      "7/7 - 7s - loss: 0.3545 - accuracy: 0.9074 - val_loss: 0.1100 - val_accuracy: 0.9583 - 7s/epoch - 1s/step\n",
      "Epoch 59/90\n",
      "7/7 - 7s - loss: 0.2908 - accuracy: 0.9074 - val_loss: 0.1049 - val_accuracy: 1.0000 - 7s/epoch - 1s/step\n",
      "Epoch 60/90\n",
      "7/7 - 7s - loss: 0.4058 - accuracy: 0.8796 - val_loss: 0.1183 - val_accuracy: 0.9583 - 7s/epoch - 980ms/step\n",
      "Epoch 61/90\n",
      "7/7 - 7s - loss: 0.3368 - accuracy: 0.8981 - val_loss: 0.0894 - val_accuracy: 1.0000 - 7s/epoch - 943ms/step\n",
      "Epoch 62/90\n",
      "7/7 - 7s - loss: 0.2947 - accuracy: 0.9167 - val_loss: 0.0767 - val_accuracy: 0.9583 - 7s/epoch - 955ms/step\n",
      "Epoch 63/90\n",
      "7/7 - 7s - loss: 0.3457 - accuracy: 0.8843 - val_loss: 0.0980 - val_accuracy: 1.0000 - 7s/epoch - 957ms/step\n",
      "Epoch 64/90\n",
      "7/7 - 6s - loss: 0.3062 - accuracy: 0.9028 - val_loss: 0.1139 - val_accuracy: 0.9583 - 6s/epoch - 918ms/step\n",
      "Epoch 65/90\n",
      "7/7 - 6s - loss: 0.3200 - accuracy: 0.8889 - val_loss: 0.1405 - val_accuracy: 0.9583 - 6s/epoch - 922ms/step\n",
      "Epoch 66/90\n",
      "7/7 - 6s - loss: 0.2406 - accuracy: 0.9167 - val_loss: 0.0858 - val_accuracy: 0.9583 - 6s/epoch - 908ms/step\n",
      "Epoch 67/90\n",
      "7/7 - 6s - loss: 0.2526 - accuracy: 0.9167 - val_loss: 0.0535 - val_accuracy: 1.0000 - 6s/epoch - 892ms/step\n",
      "Epoch 68/90\n",
      "7/7 - 7s - loss: 0.2923 - accuracy: 0.9167 - val_loss: 0.0626 - val_accuracy: 1.0000 - 7s/epoch - 948ms/step\n",
      "Epoch 69/90\n",
      "7/7 - 6s - loss: 0.2177 - accuracy: 0.9167 - val_loss: 0.0412 - val_accuracy: 1.0000 - 6s/epoch - 901ms/step\n"
     ]
    },
    {
     "name": "stdout",
     "output_type": "stream",
     "text": [
      "Epoch 70/90\n",
      "7/7 - 6s - loss: 0.1685 - accuracy: 0.9444 - val_loss: 0.0159 - val_accuracy: 1.0000 - 6s/epoch - 898ms/step\n",
      "Epoch 71/90\n",
      "7/7 - 7s - loss: 0.1521 - accuracy: 0.9537 - val_loss: 0.0197 - val_accuracy: 1.0000 - 7s/epoch - 941ms/step\n",
      "Epoch 72/90\n",
      "7/7 - 7s - loss: 0.2052 - accuracy: 0.9213 - val_loss: 0.0144 - val_accuracy: 1.0000 - 7s/epoch - 1s/step\n",
      "Epoch 73/90\n",
      "7/7 - 7s - loss: 0.2075 - accuracy: 0.9398 - val_loss: 0.0124 - val_accuracy: 1.0000 - 7s/epoch - 982ms/step\n",
      "Epoch 74/90\n",
      "7/7 - 7s - loss: 0.2095 - accuracy: 0.9306 - val_loss: 0.0159 - val_accuracy: 1.0000 - 7s/epoch - 958ms/step\n",
      "Epoch 75/90\n",
      "7/7 - 6s - loss: 0.2419 - accuracy: 0.9259 - val_loss: 0.0855 - val_accuracy: 1.0000 - 6s/epoch - 904ms/step\n",
      "Epoch 76/90\n",
      "7/7 - 6s - loss: 0.3434 - accuracy: 0.8843 - val_loss: 0.0247 - val_accuracy: 1.0000 - 6s/epoch - 876ms/step\n",
      "Epoch 77/90\n",
      "7/7 - 6s - loss: 0.2310 - accuracy: 0.9213 - val_loss: 0.0228 - val_accuracy: 1.0000 - 6s/epoch - 901ms/step\n",
      "Epoch 78/90\n",
      "7/7 - 6s - loss: 0.2710 - accuracy: 0.9213 - val_loss: 0.0427 - val_accuracy: 1.0000 - 6s/epoch - 909ms/step\n",
      "Epoch 79/90\n",
      "7/7 - 6s - loss: 0.2881 - accuracy: 0.9259 - val_loss: 0.0569 - val_accuracy: 0.9583 - 6s/epoch - 910ms/step\n",
      "Epoch 80/90\n",
      "7/7 - 6s - loss: 0.1858 - accuracy: 0.9213 - val_loss: 0.0817 - val_accuracy: 0.9583 - 6s/epoch - 897ms/step\n",
      "Epoch 81/90\n",
      "7/7 - 6s - loss: 0.1653 - accuracy: 0.9583 - val_loss: 0.0787 - val_accuracy: 0.9583 - 6s/epoch - 885ms/step\n",
      "Epoch 82/90\n",
      "7/7 - 6s - loss: 0.2164 - accuracy: 0.9259 - val_loss: 0.1039 - val_accuracy: 0.9583 - 6s/epoch - 892ms/step\n",
      "Epoch 83/90\n",
      "7/7 - 6s - loss: 0.1788 - accuracy: 0.9398 - val_loss: 0.0544 - val_accuracy: 0.9583 - 6s/epoch - 924ms/step\n",
      "Epoch 84/90\n",
      "7/7 - 6s - loss: 0.2369 - accuracy: 0.9491 - val_loss: 0.0355 - val_accuracy: 1.0000 - 6s/epoch - 889ms/step\n",
      "Epoch 85/90\n",
      "7/7 - 6s - loss: 0.1914 - accuracy: 0.9491 - val_loss: 0.0204 - val_accuracy: 1.0000 - 6s/epoch - 921ms/step\n",
      "Epoch 86/90\n",
      "7/7 - 6s - loss: 0.2009 - accuracy: 0.9306 - val_loss: 0.0154 - val_accuracy: 1.0000 - 6s/epoch - 899ms/step\n",
      "Epoch 87/90\n",
      "7/7 - 7s - loss: 0.2521 - accuracy: 0.9352 - val_loss: 0.0479 - val_accuracy: 1.0000 - 7s/epoch - 933ms/step\n",
      "Epoch 88/90\n",
      "7/7 - 7s - loss: 0.1454 - accuracy: 0.9352 - val_loss: 0.0154 - val_accuracy: 1.0000 - 7s/epoch - 1s/step\n",
      "Epoch 89/90\n",
      "7/7 - 7s - loss: 0.1695 - accuracy: 0.9537 - val_loss: 0.0152 - val_accuracy: 1.0000 - 7s/epoch - 941ms/step\n",
      "Epoch 90/90\n",
      "7/7 - 7s - loss: 0.1677 - accuracy: 0.9444 - val_loss: 0.0178 - val_accuracy: 1.0000 - 7s/epoch - 951ms/step\n"
     ]
    }
   ],
   "source": [
    "model = Sequential() #initialize Sequential model\n",
    "\n",
    "model.add(Conv2D(128, kernel_size=4,activation=activation,input_shape=im_shape)) # i. Convolutional Layer\n",
    "model.add(MaxPooling2D(pool_size=2))                     # ii. Pooling Layer\n",
    "model.add(Conv2D(128,3, activation=activation)) \n",
    "model.add(MaxPooling2D(pool_size=2)) \n",
    "model.add(Flatten())\n",
    "model.add(Dense(128, activation=activation))                  # iii. Fully Connected Layer\n",
    "model.add(Dropout(Drop))                  # we add a dropout rate to prevent overfitting\n",
    "model.add(Dense(128, activation=activation))\n",
    "model.add(Dropout(Drop))\n",
    "model.add(Dense(128, activation=activation))\n",
    "model.add(Dropout(Drop))\n",
    "\n",
    "model.add(Dense(64, activation='softmax')) \n",
    "\n",
    "model.compile(loss='sparse_categorical_crossentropy', \n",
    "              optimizer='adam', \n",
    "              metrics=['accuracy']) \n",
    "\n",
    "history = model.fit(X_train,\n",
    "                    y_train, \n",
    "                    batch_size=32,\n",
    "                    epochs=90, \n",
    "                    verbose=2,\n",
    "                    validation_data=(X_valid,y_valid))"
   ]
  },
  {
   "cell_type": "code",
   "execution_count": 14,
   "metadata": {},
   "outputs": [
    {
     "data": {
      "text/plain": [
       "[0.03703703731298447,\n",
       " 0.032407406717538834,\n",
       " 0.03703703731298447,\n",
       " 0.0694444477558136,\n",
       " 0.05092592537403107,\n",
       " 0.0416666679084301,\n",
       " 0.05092592537403107,\n",
       " 0.0555555559694767,\n",
       " 0.0555555559694767,\n",
       " 0.046296294778585434,\n",
       " 0.0555555559694767,\n",
       " 0.06018518656492233,\n",
       " 0.08796296268701553,\n",
       " 0.07407407462596893,\n",
       " 0.14351852238178253,\n",
       " 0.1805555522441864,\n",
       " 0.2361111044883728,\n",
       " 0.21759259700775146,\n",
       " 0.25,\n",
       " 0.33796295523643494,\n",
       " 0.3194444477558136,\n",
       " 0.3472222089767456,\n",
       " 0.47685185074806213,\n",
       " 0.42592594027519226,\n",
       " 0.5185185074806213,\n",
       " 0.5046296119689941,\n",
       " 0.5138888955116272,\n",
       " 0.5925925970077515,\n",
       " 0.5694444179534912,\n",
       " 0.5509259104728699,\n",
       " 0.6111111044883728,\n",
       " 0.6666666865348816,\n",
       " 0.6296296119689941,\n",
       " 0.7037037014961243,\n",
       " 0.6851851940155029,\n",
       " 0.7592592835426331,\n",
       " 0.7407407164573669,\n",
       " 0.75,\n",
       " 0.7222222089767456,\n",
       " 0.8009259104728699,\n",
       " 0.7453703880310059,\n",
       " 0.7546296119689941,\n",
       " 0.8009259104728699,\n",
       " 0.75,\n",
       " 0.7962962985038757,\n",
       " 0.8472222089767456,\n",
       " 0.8194444179534912,\n",
       " 0.8101851940155029,\n",
       " 0.8472222089767456,\n",
       " 0.7962962985038757,\n",
       " 0.8564814925193787,\n",
       " 0.8518518805503845,\n",
       " 0.8935185074806213,\n",
       " 0.8611111044883728,\n",
       " 0.8935185074806213,\n",
       " 0.875,\n",
       " 0.9027777910232544,\n",
       " 0.9074074029922485,\n",
       " 0.9074074029922485,\n",
       " 0.8796296119689941,\n",
       " 0.8981481194496155,\n",
       " 0.9166666865348816,\n",
       " 0.8842592835426331,\n",
       " 0.9027777910232544,\n",
       " 0.8888888955116272,\n",
       " 0.9166666865348816,\n",
       " 0.9166666865348816,\n",
       " 0.9166666865348816,\n",
       " 0.9166666865348816,\n",
       " 0.9444444179534912,\n",
       " 0.9537037014961243,\n",
       " 0.9212962985038757,\n",
       " 0.9398148059844971,\n",
       " 0.9305555820465088,\n",
       " 0.9259259104728699,\n",
       " 0.8842592835426331,\n",
       " 0.9212962985038757,\n",
       " 0.9212962985038757,\n",
       " 0.9259259104728699,\n",
       " 0.9212962985038757,\n",
       " 0.9583333134651184,\n",
       " 0.9259259104728699,\n",
       " 0.9398148059844971,\n",
       " 0.9490740895271301,\n",
       " 0.9490740895271301,\n",
       " 0.9305555820465088,\n",
       " 0.9351851940155029,\n",
       " 0.9351851940155029,\n",
       " 0.9537037014961243,\n",
       " 0.9444444179534912]"
      ]
     },
     "execution_count": 14,
     "metadata": {},
     "output_type": "execute_result"
    }
   ],
   "source": [
    "history.history['accuracy']"
   ]
  },
  {
   "cell_type": "markdown",
   "metadata": {},
   "source": [
    "# 7. Plot the result"
   ]
  },
  {
   "cell_type": "code",
   "execution_count": 15,
   "metadata": {},
   "outputs": [
    {
     "data": {
      "image/png": "[encoded data removed]",
      "text/plain": [
       "<Figure size 640x480 with 1 Axes>"
      ]
     },
     "metadata": {},
     "output_type": "display_data"
    }
   ],
   "source": [
    "# Plotting Accuracy \n",
    "plt.plot(history.history['accuracy'])\n",
    "plt.title('Model accuracy')\n",
    "plt.ylabel('Accuracy')\n",
    "plt.xlabel('Number of Epochs')\n",
    "plt.legend(['Accuracy'])\n",
    "plt.grid()\n",
    "plt.show()"
   ]
  },
  {
   "cell_type": "markdown",
   "metadata": {},
   "source": [
    "# 8. Iterate the model until the accuracy is above 90%"
   ]
  },
  {
   "cell_type": "code",
   "execution_count": 16,
   "metadata": {},
   "outputs": [
    {
     "name": "stdout",
     "output_type": "stream",
     "text": [
      "We have an accuracy of 0.9444444179534912\n"
     ]
    }
   ],
   "source": [
    "print('We have an accuracy of', history.history['accuracy'][-1])"
   ]
  }
 ],
 "metadata": {
  "kernelspec": {
   "display_name": "Python 3 (ipykernel)",
   "language": "python",
   "name": "python3"
  },
  "language_info": {
   "codemirror_mode": {
    "name": "ipython",
    "version": 3
   },
   "file_extension": ".py",
   "mimetype": "text/x-python",
   "name": "python",
   "nbconvert_exporter": "python",
   "pygments_lexer": "ipython3",
   "version": "3.9.13"
  }
 },
 "nbformat": 4,
 "nbformat_minor": 2
}
